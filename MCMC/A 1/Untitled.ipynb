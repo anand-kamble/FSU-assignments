{
 "cells": [
  {
   "cell_type": "code",
   "execution_count": 1,
   "id": "f212e279",
   "metadata": {},
   "outputs": [],
   "source": [
    "import numpy as np\n",
    "import matplotlib.pyplot as plt"
   ]
  },
  {
   "cell_type": "code",
   "execution_count": 2,
   "id": "b3cd7894",
   "metadata": {},
   "outputs": [
    {
     "data": {
      "text/plain": [
       "3.9999995655220713"
      ]
     },
     "execution_count": 2,
     "metadata": {},
     "output_type": "execute_result"
    }
   ],
   "source": [
    "np.log(1.062568e-005/6.641052e-007)/np.log(2)"
   ]
  },
  {
   "cell_type": "code",
   "execution_count": 3,
   "id": "cb1723b6",
   "metadata": {},
   "outputs": [
    {
     "data": {
      "text/plain": [
       "1.4012762268357921"
      ]
     },
     "execution_count": 3,
     "metadata": {},
     "output_type": "execute_result"
    }
   ],
   "source": [
    "np.log(6.641052e-007/2.514263e-007)/np.log(2)"
   ]
  },
  {
   "cell_type": "code",
   "execution_count": 4,
   "id": "9bd141d3",
   "metadata": {},
   "outputs": [],
   "source": [
    "a = np.pi - 0"
   ]
  },
  {
   "cell_type": "code",
   "execution_count": 5,
   "id": "092ed408",
   "metadata": {},
   "outputs": [
    {
     "data": {
      "text/plain": [
       "1.0625683499488938e-05"
      ]
     },
     "execution_count": 5,
     "metadata": {},
     "output_type": "execute_result"
    }
   ],
   "source": [
    "(a**5)/(180 * (20**4))"
   ]
  },
  {
   "cell_type": "code",
   "execution_count": 6,
   "id": "8d85ac6c",
   "metadata": {},
   "outputs": [],
   "source": [
    "e1 = 0.006460\n",
    "e2 = 0.001615"
   ]
  },
  {
   "cell_type": "code",
   "execution_count": 28,
   "id": "4a412207",
   "metadata": {},
   "outputs": [
    {
     "data": {
      "text/plain": [
       "[4.001945525291828, 4.0, 4.015625, 4.0]"
      ]
     },
     "execution_count": 28,
     "metadata": {},
     "output_type": "execute_result"
    }
   ],
   "source": [
    "errors = [\n",
    "0.004114,\n",
    "0.001028,\n",
    "0.000257,\n",
    "0.000064,\n",
    "0.000016]\n",
    "error_finals = [errors[0]/errors[1],errors[1]/errors[2],errors[2]/errors[3],errors[3]/errors[4]]\n",
    "error_finals"
   ]
  },
  {
   "cell_type": "code",
   "execution_count": 29,
   "id": "6fce2be9",
   "metadata": {},
   "outputs": [
    {
     "data": {
      "text/plain": [
       "[2.0, 2.0, 2.0, 2.0]"
      ]
     },
     "execution_count": 29,
     "metadata": {},
     "output_type": "execute_result"
    }
   ],
   "source": [
    "h1 = 1/20\n",
    "h2 = 1/40\n",
    "h3 = 1/80\n",
    "h4 = 1/160\n",
    "h5 = 1/320\n",
    "iterations = [20,40,80,160,320]\n",
    "h_finals = [h1/h2,h2/h3,h3/h4,h4/h5]\n",
    "h_finals"
   ]
  },
  {
   "cell_type": "code",
   "execution_count": 30,
   "id": "d00ad96d",
   "metadata": {},
   "outputs": [
    {
     "data": {
      "text/plain": [
       "array([1.38678062, 1.38629436, 1.390193  , 1.38629436])"
      ]
     },
     "execution_count": 30,
     "metadata": {},
     "output_type": "execute_result"
    }
   ],
   "source": [
    "np.log(error_finals)\n"
   ]
  },
  {
   "cell_type": "code",
   "execution_count": 31,
   "id": "610f82a2",
   "metadata": {},
   "outputs": [],
   "source": [
    "x = np.log(e1/e2)\n",
    "y = np.log(h1/h2)"
   ]
  },
  {
   "cell_type": "code",
   "execution_count": 32,
   "id": "036eb0a7",
   "metadata": {},
   "outputs": [
    {
     "data": {
      "text/plain": [
       "[<matplotlib.lines.Line2D at 0x2a1db010350>]"
      ]
     },
     "execution_count": 32,
     "metadata": {},
     "output_type": "execute_result"
    },
    {
     "data": {
      "image/png": "[encoded data removed]",
      "text/plain": [
       "<Figure size 640x480 with 1 Axes>"
      ]
     },
     "metadata": {},
     "output_type": "display_data"
    }
   ],
   "source": [
    "plt.xscale(\"log\")\n",
    "plt.yscale(\"log\")\n",
    "plt.xlabel(\"Iterations\")\n",
    "plt.ylabel(\"error\")\n",
    "plt.plot(iterations,errors)"
   ]
  },
  {
   "cell_type": "code",
   "execution_count": 12,
   "id": "3aa9cc75",
   "metadata": {},
   "outputs": [
    {
     "data": {
      "text/plain": [
       "(1.3856753576956067, 0.6931471805599453)"
      ]
     },
     "execution_count": 12,
     "metadata": {},
     "output_type": "execute_result"
    }
   ],
   "source": [
    " np.log(3.9975247524752473),np.log(2)"
   ]
  },
  {
   "cell_type": "code",
   "execution_count": null,
   "id": "69f1adaf",
   "metadata": {},
   "outputs": [],
   "source": []
  }
 ],
 "metadata": {
  "kernelspec": {
   "display_name": "Python 3 (ipykernel)",
   "language": "python",
   "name": "python3"
  },
  "language_info": {
   "codemirror_mode": {
    "name": "ipython",
    "version": 3
   },
   "file_extension": ".py",
   "mimetype": "text/x-python",
   "name": "python",
   "nbconvert_exporter": "python",
   "pygments_lexer": "ipython3",
   "version": "3.11.4"
  }
 },
 "nbformat": 4,
 "nbformat_minor": 5
}
