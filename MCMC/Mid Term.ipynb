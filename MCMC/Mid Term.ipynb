{
 "cells": [
  {
   "cell_type": "markdown",
   "id": "6e1322e6",
   "metadata": {},
   "source": [
    "<h1>Mmid Term 2023</h1>\n",
    "<p>Anand Kamble</p>\n",
    "<a href=\"mailto:amk23j@fsu.edu\">amk23j@fsu.edu</a>\n",
    "<p>24th October 2023</p>\n",
    "<hr style=\"border:2px solid gray\"/>"
   ]
  },
  {
   "cell_type": "code",
   "execution_count": 82,
   "id": "195ed02c",
   "metadata": {},
   "outputs": [],
   "source": [
    "import numpy as np\n",
    "import matplotlib.pyplot as plt\n"
   ]
  },
  {
   "cell_type": "markdown",
   "id": "d1a021c8",
   "metadata": {},
   "source": [
    "### 1."
   ]
  },
  {
   "cell_type": "code",
   "execution_count": 83,
   "id": "61afe379",
   "metadata": {},
   "outputs": [],
   "source": [
    "def f(x):\n",
    "    return -np.log(1 - x)"
   ]
  },
  {
   "cell_type": "code",
   "execution_count": 84,
   "id": "76e04207",
   "metadata": {},
   "outputs": [],
   "source": [
    "def pi_joint(x1,x2):\n",
    "    return f(x1)*f(x2)"
   ]
  },
  {
   "cell_type": "code",
   "execution_count": 85,
   "id": "d61b3c75",
   "metadata": {},
   "outputs": [],
   "source": [
    "numberOfSamples = 5000\n",
    "x1 = np.random.uniform(0,1,numberOfSamples)\n",
    "x2 = np.random.uniform(0,1,numberOfSamples)\n",
    "\n",
    "pi_values = pi_joint(x1,x2)"
   ]
  },
  {
   "cell_type": "code",
   "execution_count": 86,
   "id": "c2d51e4b",
   "metadata": {},
   "outputs": [
    {
     "name": "stdout",
     "output_type": "stream",
     "text": [
      "Mean : 1.0319309621228834 \n",
      "Standard Deviation : 1.748238884194679\n"
     ]
    }
   ],
   "source": [
    "print(f'Mean : {np.mean(pi_values)} \\nStandard Deviation : {np.std(pi_values)}')\n"
   ]
  },
  {
   "cell_type": "markdown",
   "id": "7a9644b2",
   "metadata": {},
   "source": [
    "### 2\n",
    "\n",
    "$$\\pi(x_1|x_2) = e^{-x_1}$$\n",
    "\n",
    "Since, $x_1$ and $x_2$ are independent random variables"
   ]
  },
  {
   "cell_type": "markdown",
   "id": "c393c63d",
   "metadata": {},
   "source": [
    "### 3."
   ]
  },
  {
   "cell_type": "code",
   "execution_count": 87,
   "id": "a739818d",
   "metadata": {},
   "outputs": [],
   "source": [
    "def I(x1,x2):\n",
    "    return np.exp(-1*((x1+x2)**2))*(x1**2)"
   ]
  },
  {
   "cell_type": "code",
   "execution_count": 88,
   "id": "5d366278",
   "metadata": {},
   "outputs": [],
   "source": [
    "def pi(x1,x2):\n",
    "    return f(x1)*f(x2)"
   ]
  },
  {
   "cell_type": "code",
   "execution_count": 89,
   "id": "ebb4f646",
   "metadata": {},
   "outputs": [],
   "source": [
    "def g(x1,x2):\n",
    "    return I(x1,x2)*pi(x1,x2)"
   ]
  },
  {
   "cell_type": "code",
   "execution_count": 90,
   "id": "ac8704c2",
   "metadata": {},
   "outputs": [],
   "source": [
    "x1 = np.random.uniform(0,1,500)\n",
    "x2 = np.random.uniform(0,1,500)\n",
    "gbar = np.mean(g(x1,x2))"
   ]
  },
  {
   "cell_type": "code",
   "execution_count": 91,
   "id": "f6f63fb7",
   "metadata": {},
   "outputs": [
    {
     "name": "stdout",
     "output_type": "stream",
     "text": [
      "g_bar = 0.05794466410781405\n"
     ]
    }
   ],
   "source": [
    "print(f'g_bar = {gbar}')"
   ]
  }
 ],
 "metadata": {
  "kernelspec": {
   "display_name": "Python 3 (ipykernel)",
   "language": "python",
   "name": "python3"
  },
  "language_info": {
   "codemirror_mode": {
    "name": "ipython",
    "version": 3
   },
   "file_extension": ".py",
   "mimetype": "text/x-python",
   "name": "python",
   "nbconvert_exporter": "python",
   "pygments_lexer": "ipython3",
   "version": "3.11.4"
  }
 },
 "nbformat": 4,
 "nbformat_minor": 5
}
