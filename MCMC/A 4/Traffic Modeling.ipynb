{
 "cells": [
  {
   "cell_type": "code",
   "execution_count": 12,
   "id": "08f17778-3e52-40d8-b7a3-4b67cf7fcdfb",
   "metadata": {},
   "outputs": [],
   "source": [
    "import numpy as np\n",
    "import matplotlib.pyplot as plt"
   ]
  },
  {
   "cell_type": "code",
   "execution_count": 2,
   "id": "fc308cab-d804-4190-8730-c4f5c54b57b8",
   "metadata": {},
   "outputs": [],
   "source": [
    "def updatePosVel(carLoc, carVel, M, vmax, prand):\n",
    "    \"\"\"updates car positions and velocities over 1 step\"\"\"\n",
    "    numCars = len(carLoc)\n",
    "    # acceleration\n",
    "    u = np.minimum(carVel + 1, vmax)\n",
    "    # deceleration\n",
    "    d = np.append(np.diff(carLoc), carLoc[0] - carLoc[-1]) # PBC\n",
    "    d = np.remainder(d, M) # PBC\n",
    "    u = np.minimum(u, d-1)\n",
    "    # randomization\n",
    "    idx = np.random.rand(numCars) - p < 0\n",
    "    u[idx] = np.maximum(0, u[idx]-1)\n",
    "    # update\n",
    "    Loc = np.remainder(carLoc + u, M)\n",
    "    return Loc, u\n"
   ]
  },
  {
   "cell_type": "code",
   "execution_count": 18,
   "id": "0a48de68-b8d3-4aaf-a8e0-105b3f70684e",
   "metadata": {},
   "outputs": [],
   "source": [
    "\"\"\"ncycles=M\"\"\"\n",
    "def BurnInRun(N=200, M=1000, vmax=5, prand=0.3333,ncycles=100):\n",
    "    # initialize carVel and carLoc\n",
    "    for t in range(1, ncycles):\n",
    "        carLoc, carVel = updatePosVel(carLoc, carVel, M, vmax, prand)\n",
    "    return carLoc, carVel"
   ]
  },
  {
   "cell_type": "code",
   "execution_count": 15,
   "id": "68870b85-cf53-4221-b9b8-b2b7313b8727",
   "metadata": {},
   "outputs": [],
   "source": [
    "def MainRun(ncycles, numCars, M, vmax5, p):\n",
    "    \"\"\"\"You will have to modify this to keep track of flowtrace\"\"\"\n",
    "    # burn-in\n",
    "    carLoc, carVel = BurnInRun(numCars, M, vmax, p, ncycles=M)\n",
    "    # track avg velocity\n",
    "    vavg = np.zeros(ncycles)\n",
    "    vavg[0] = np.mean(carVel)\n",
    "    for t in range(1, ncycles):\n",
    "        carLoc, carVel = updatePosVel(carLoc, carVel, M, vmax, p)\n",
    "        vavg[t] = np.mean(carVel)\n",
    "    return np.mean(vavg)"
   ]
  },
  {
   "cell_type": "code",
   "execution_count": 16,
   "id": "37148122-2123-4d8d-93cb-bed959cfcd54",
   "metadata": {},
   "outputs": [
    {
     "ename": "UnboundLocalError",
     "evalue": "cannot access local variable 'carLoc' where it is not associated with a value",
     "output_type": "error",
     "traceback": [
      "\u001b[1;31m---------------------------------------------------------------------------\u001b[0m",
      "\u001b[1;31mUnboundLocalError\u001b[0m                         Traceback (most recent call last)",
      "Cell \u001b[1;32mIn[16], line 1\u001b[0m\n\u001b[1;32m----> 1\u001b[0m BurnInRun()\n",
      "Cell \u001b[1;32mIn[14], line 6\u001b[0m, in \u001b[0;36mBurnInRun\u001b[1;34m(N, M, vmax, prand)\u001b[0m\n\u001b[0;32m      4\u001b[0m ncycles\u001b[38;5;241m=\u001b[39mM\n\u001b[0;32m      5\u001b[0m \u001b[38;5;28;01mfor\u001b[39;00m t \u001b[38;5;129;01min\u001b[39;00m \u001b[38;5;28mrange\u001b[39m(\u001b[38;5;241m1\u001b[39m, ncycles):\n\u001b[1;32m----> 6\u001b[0m     carLoc, carVel \u001b[38;5;241m=\u001b[39m updatePosVel(carLoc, carVel, M, vmax, prand)\n\u001b[0;32m      7\u001b[0m \u001b[38;5;28;01mreturn\u001b[39;00m carLoc, carVel\n",
      "\u001b[1;31mUnboundLocalError\u001b[0m: cannot access local variable 'carLoc' where it is not associated with a value"
     ]
    }
   ],
   "source": [
    "M = 1000\n",
    "N = 50\n",
    "vmax = 5\n",
    "p = 1/3\n",
    "\n",
    "MainRun(1000,M,)"
   ]
  },
  {
   "cell_type": "code",
   "execution_count": 13,
   "id": "709d1337-8e21-4886-b72e-dc8548869e41",
   "metadata": {},
   "outputs": [
    {
     "ename": "NameError",
     "evalue": "name 'matOcc' is not defined",
     "output_type": "error",
     "traceback": [
      "\u001b[1;31m---------------------------------------------------------------------------\u001b[0m",
      "\u001b[1;31mNameError\u001b[0m                                 Traceback (most recent call last)",
      "Cell \u001b[1;32mIn[13], line 1\u001b[0m\n\u001b[1;32m----> 1\u001b[0m plt\u001b[38;5;241m.\u001b[39mimshow(matOcc, cmap\u001b[38;5;241m=\u001b[39m\u001b[38;5;124m\"\u001b[39m\u001b[38;5;124mGreys\u001b[39m\u001b[38;5;124m\"\u001b[39m, interpolation\u001b[38;5;241m=\u001b[39m\u001b[38;5;124m'\u001b[39m\u001b[38;5;124mnearest\u001b[39m\u001b[38;5;124m'\u001b[39m)\n",
      "\u001b[1;31mNameError\u001b[0m: name 'matOcc' is not defined"
     ]
    }
   ],
   "source": [
    "plt.imshow(matOcc, cmap=\"Greys\", interpolation='nearest')"
   ]
  }
 ],
 "metadata": {
  "kernelspec": {
   "display_name": "Python 3 (ipykernel)",
   "language": "python",
   "name": "python3"
  },
  "language_info": {
   "codemirror_mode": {
    "name": "ipython",
    "version": 3
   },
   "file_extension": ".py",
   "mimetype": "text/x-python",
   "name": "python",
   "nbconvert_exporter": "python",
   "pygments_lexer": "ipython3",
   "version": "3.11.4"
  }
 },
 "nbformat": 4,
 "nbformat_minor": 5
}
