{
 "cells": [
  {
   "cell_type": "markdown",
   "id": "9016f0fc",
   "metadata": {},
   "source": [
    "<h1>Mmid Term 2023</h1>\n",
    "<p>Anand Kamble</p>\n",
    "<a href=\"mailto:amk23j@fsu.edu\">amk23j@fsu.edu</a>\n",
    "<p>24th October 2023</p>\n",
    "<hr style=\"border:2px solid gray\"/>"
   ]
  },
  {
   "cell_type": "code",
   "execution_count": 66,
   "id": "5bae3270",
   "metadata": {},
   "outputs": [],
   "source": [
    "import numpy as np\n",
    "import matplotlib.pyplot as plt\n"
   ]
  },
  {
   "cell_type": "markdown",
   "id": "c70aea0e",
   "metadata": {},
   "source": [
    "### 1."
   ]
  },
  {
   "cell_type": "code",
   "execution_count": 34,
   "id": "05830abd",
   "metadata": {},
   "outputs": [],
   "source": [
    "def f(x):\n",
    "    return -np.log(1 - x)"
   ]
  },
  {
   "cell_type": "code",
   "execution_count": 35,
   "id": "8f94376e",
   "metadata": {},
   "outputs": [],
   "source": [
    "def pi_joint(x1,x2):\n",
    "    return f(x1)*f(x2)"
   ]
  },
  {
   "cell_type": "code",
   "execution_count": 36,
   "id": "30ec9ff1",
   "metadata": {},
   "outputs": [],
   "source": [
    "numberOfSamples = 5000\n",
    "x1 = np.random.uniform(0,1,numberOfSamples)\n",
    "x2 = np.random.uniform(0,1,numberOfSamples)\n",
    "\n",
    "pi_values = pi_joint(x1,x2)"
   ]
  },
  {
   "cell_type": "code",
   "execution_count": 37,
   "id": "30d38f05",
   "metadata": {},
   "outputs": [
    {
     "name": "stdout",
     "output_type": "stream",
     "text": [
      "Mean : 0.9746228089952478 \n",
      "Standard Deviation : 1.6734777709295403\n"
     ]
    }
   ],
   "source": [
    "print(f'Mean : {np.mean(pi_values)} \\nStandard Deviation : {np.std(pi_values)}')\n"
   ]
  },
  {
   "cell_type": "markdown",
   "id": "ac0e5d5f",
   "metadata": {},
   "source": [
    "### 2\n",
    "\n",
    "$$\\pi(x_1|x_2) = e^{-x_1}$$\n",
    "\n",
    "Since, $x_1$ and $x_2$ are independent random variables"
   ]
  },
  {
   "cell_type": "markdown",
   "id": "8737a370",
   "metadata": {},
   "source": [
    "### 3."
   ]
  },
  {
   "cell_type": "code",
   "execution_count": 59,
   "id": "511369ec",
   "metadata": {},
   "outputs": [],
   "source": [
    "def I(x1,x2):\n",
    "    return np.exp(-1*((x1+x2)**2))*(x1**2)"
   ]
  },
  {
   "cell_type": "code",
   "execution_count": 60,
   "id": "2a7e6a74",
   "metadata": {},
   "outputs": [],
   "source": [
    "def pi(x1,x2):\n",
    "    return f(x1)*f(x2)"
   ]
  },
  {
   "cell_type": "code",
   "execution_count": 61,
   "id": "05c5bc70",
   "metadata": {},
   "outputs": [],
   "source": [
    "def g(x1,x2):\n",
    "    return I(x1,x2)*pi(x1,x2)"
   ]
  },
  {
   "cell_type": "code",
   "execution_count": 63,
   "id": "c18ef624",
   "metadata": {},
   "outputs": [],
   "source": [
    "x1 = np.random.uniform(0,1,500)\n",
    "x2 = np.random.uniform(0,1,500)\n",
    "gbar = np.mean(g(x1,x2))"
   ]
  },
  {
   "cell_type": "code",
   "execution_count": 65,
   "id": "caf529b5",
   "metadata": {},
   "outputs": [
    {
     "name": "stdout",
     "output_type": "stream",
     "text": [
      "g_bar = 0.062284525037497394\n"
     ]
    }
   ],
   "source": [
    "print(f'g_bar = {gbar}')"
   ]
  }
 ],
 "metadata": {
  "kernelspec": {
   "display_name": "Python 3 (ipykernel)",
   "language": "python",
   "name": "python3"
  },
  "language_info": {
   "codemirror_mode": {
    "name": "ipython",
    "version": 3
   },
   "file_extension": ".py",
   "mimetype": "text/x-python",
   "name": "python",
   "nbconvert_exporter": "python",
   "pygments_lexer": "ipython3",
   "version": "3.11.4"
  }
 },
 "nbformat": 4,
 "nbformat_minor": 5
}
