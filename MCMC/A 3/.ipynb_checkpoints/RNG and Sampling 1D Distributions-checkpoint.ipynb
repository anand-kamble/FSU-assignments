{
 "cells": [
  {
   "cell_type": "code",
   "execution_count": 1,
   "id": "a721580d-ea63-4f47-bad0-e77f557d1a49",
   "metadata": {},
   "outputs": [],
   "source": [
    "import numpy as np"
   ]
  },
  {
   "cell_type": "code",
   "execution_count": 33,
   "id": "cc8ddbab-1770-4602-a8da-eab5c9737500",
   "metadata": {},
   "outputs": [],
   "source": [
    "def RNG(n,a,m):\n",
    "    n_i = np.full((n),1.)\n",
    "    for i in range(len(n_i)-2):\n",
    "        n[i+1] = (a*n[i]) % m"
   ]
  },
  {
   "cell_type": "code",
   "execution_count": 34,
   "id": "0a726564-4d0d-4678-a68b-bd3ce0b1f856",
   "metadata": {},
   "outputs": [
    {
     "ename": "TypeError",
     "evalue": "'int' object is not subscriptable",
     "output_type": "error",
     "traceback": [
      "\u001b[1;31m---------------------------------------------------------------------------\u001b[0m",
      "\u001b[1;31mTypeError\u001b[0m                                 Traceback (most recent call last)",
      "Cell \u001b[1;32mIn[34], line 1\u001b[0m\n\u001b[1;32m----> 1\u001b[0m RNG(\u001b[38;5;241m10\u001b[39m,\u001b[38;5;241m2\u001b[39m,\u001b[38;5;241m2\u001b[39m\u001b[38;5;241m*\u001b[39m\u001b[38;5;241m*\u001b[39m\u001b[38;5;241m3\u001b[39m)\n",
      "Cell \u001b[1;32mIn[33], line 4\u001b[0m, in \u001b[0;36mRNG\u001b[1;34m(n, a, m)\u001b[0m\n\u001b[0;32m      2\u001b[0m n_i \u001b[38;5;241m=\u001b[39m np\u001b[38;5;241m.\u001b[39mfull((n),\u001b[38;5;241m1.\u001b[39m)\n\u001b[0;32m      3\u001b[0m \u001b[38;5;28;01mfor\u001b[39;00m i \u001b[38;5;129;01min\u001b[39;00m \u001b[38;5;28mrange\u001b[39m(\u001b[38;5;28mlen\u001b[39m(n_i)):\n\u001b[1;32m----> 4\u001b[0m     n[i\u001b[38;5;241m+\u001b[39m\u001b[38;5;241m1\u001b[39m] \u001b[38;5;241m=\u001b[39m (a\u001b[38;5;241m*\u001b[39mn[i]) \u001b[38;5;241m%\u001b[39m m\n",
      "\u001b[1;31mTypeError\u001b[0m: 'int' object is not subscriptable"
     ]
    }
   ],
   "source": [
    "RNG(10,2,2**3)"
   ]
  },
  {
   "cell_type": "code",
   "execution_count": null,
   "id": "517edcb4-e009-4eeb-9ffa-78d97512ff01",
   "metadata": {},
   "outputs": [],
   "source": []
  }
 ],
 "metadata": {
  "kernelspec": {
   "display_name": "Python 3 (ipykernel)",
   "language": "python",
   "name": "python3"
  },
  "language_info": {
   "codemirror_mode": {
    "name": "ipython",
    "version": 3
   },
   "file_extension": ".py",
   "mimetype": "text/x-python",
   "name": "python",
   "nbconvert_exporter": "python",
   "pygments_lexer": "ipython3",
   "version": "3.11.4"
  }
 },
 "nbformat": 4,
 "nbformat_minor": 5
}
