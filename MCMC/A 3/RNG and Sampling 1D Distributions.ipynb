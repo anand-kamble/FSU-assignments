{
 "cells": [
  {
   "cell_type": "code",
   "execution_count": 16,
   "id": "a721580d-ea63-4f47-bad0-e77f557d1a49",
   "metadata": {},
   "outputs": [],
   "source": [
    "import numpy as np\n",
    "import matplotlib.pyplot as plt"
   ]
  },
  {
   "cell_type": "code",
   "execution_count": 2,
   "id": "cc8ddbab-1770-4602-a8da-eab5c9737500",
   "metadata": {},
   "outputs": [],
   "source": [
    "def RNG(n,a,m,seed = 0):\n",
    "    n_i = np.full((n),0.)\n",
    "    n_i[0] = seed\n",
    "    for i in range(1,len(n_i)):\n",
    "        n_i[i] = (a*n_i[i-1]) % m\n",
    "    return n_i"
   ]
  },
  {
   "cell_type": "code",
   "execution_count": 13,
   "id": "02ab2570-9403-40f9-a3a2-63758e6a3606",
   "metadata": {},
   "outputs": [],
   "source": [
    "def find_period(arr):\n",
    "    n = len(arr)\n",
    "    for period in range(1, n // 2 + 1):\n",
    "        is_periodic = True\n",
    "        for i in range(period, n):\n",
    "            if arr[i] != arr[i - period]:\n",
    "                is_periodic = False\n",
    "                break\n",
    "        if is_periodic:\n",
    "            return period\n",
    "    return n"
   ]
  },
  {
   "cell_type": "code",
   "execution_count": 3,
   "id": "0a726564-4d0d-4678-a68b-bd3ce0b1f856",
   "metadata": {},
   "outputs": [
    {
     "data": {
      "text/plain": [
       "array([1., 2., 4., 0., 0., 0., 0., 0., 0., 0.])"
      ]
     },
     "execution_count": 3,
     "metadata": {},
     "output_type": "execute_result"
    }
   ],
   "source": [
    "#a = 2\n",
    "RNG(10,2,2**3,1.0)"
   ]
  },
  {
   "cell_type": "code",
   "execution_count": 4,
   "id": "517edcb4-e009-4eeb-9ffa-78d97512ff01",
   "metadata": {},
   "outputs": [
    {
     "data": {
      "text/plain": [
       "array([1., 4., 0., 0., 0., 0., 0., 0., 0., 0.])"
      ]
     },
     "execution_count": 4,
     "metadata": {},
     "output_type": "execute_result"
    }
   ],
   "source": [
    "#a = 4\n",
    "RNG(10,4,2**3,1)"
   ]
  },
  {
   "cell_type": "code",
   "execution_count": 5,
   "id": "d1cea6a6-e942-4437-a5de-d142dafe2a1a",
   "metadata": {},
   "outputs": [],
   "source": [
    "# For even number it is predictable."
   ]
  },
  {
   "cell_type": "code",
   "execution_count": 6,
   "id": "f811c095-9c67-49ed-b83e-c3009f2cc313",
   "metadata": {},
   "outputs": [
    {
     "data": {
      "text/plain": [
       "array([1., 3., 1., 3., 1., 3., 1., 3., 1., 3.])"
      ]
     },
     "execution_count": 6,
     "metadata": {},
     "output_type": "execute_result"
    }
   ],
   "source": [
    "#a = 3\n",
    "RNG(10,3,2**3,1)"
   ]
  },
  {
   "cell_type": "code",
   "execution_count": 7,
   "id": "f35bbe4f-d717-4bf4-adb3-92e2f61e9d45",
   "metadata": {},
   "outputs": [
    {
     "data": {
      "text/plain": [
       "array([1., 5., 1., 5., 1., 5., 1., 5., 1., 5.])"
      ]
     },
     "execution_count": 7,
     "metadata": {},
     "output_type": "execute_result"
    }
   ],
   "source": [
    "#a = 5\n",
    "RNG(10,5,2**3,1)"
   ]
  },
  {
   "cell_type": "code",
   "execution_count": 8,
   "id": "5c2537de-6d7c-4cad-9c79-46640a808bde",
   "metadata": {},
   "outputs": [
    {
     "data": {
      "text/plain": [
       "array([ 1.,  3.,  9., 11.,  1.,  3.,  9., 11.,  1.,  3.])"
      ]
     },
     "execution_count": 8,
     "metadata": {},
     "output_type": "execute_result"
    }
   ],
   "source": [
    "#a = 5\n",
    "RNG(10,3,2**4,1)"
   ]
  },
  {
   "cell_type": "code",
   "execution_count": 9,
   "id": "db07d175-585d-4e8e-b654-e684c6ff683c",
   "metadata": {},
   "outputs": [
    {
     "data": {
      "text/plain": [
       "array([ 1.,  3.,  9., 27., 17., 19., 25., 11.,  1.,  3.])"
      ]
     },
     "execution_count": 9,
     "metadata": {},
     "output_type": "execute_result"
    }
   ],
   "source": [
    "#a = 5\n",
    "RNG(10,3,2**5,1)"
   ]
  },
  {
   "cell_type": "code",
   "execution_count": 14,
   "id": "25fb9e44-5e64-4d01-9c21-a449e3930a1b",
   "metadata": {},
   "outputs": [],
   "source": [
    "def f(x):\n",
    "    return 6*x*(1-x)"
   ]
  },
  {
   "cell_type": "code",
   "execution_count": 17,
   "id": "b9304816-1795-47f3-8eb2-2451d8c89e5a",
   "metadata": {},
   "outputs": [],
   "source": [
    "y = [f(x/1000) for x in range(1000)]"
   ]
  },
  {
   "cell_type": "code",
   "execution_count": 18,
   "id": "7fd36e7e-69cc-447e-ae9c-30d960d9e790",
   "metadata": {},
   "outputs": [
    {
     "data": {
      "text/plain": [
       "[<matplotlib.lines.Line2D at 0x27123686350>]"
      ]
     },
     "execution_count": 18,
     "metadata": {},
     "output_type": "execute_result"
    },
    {
     "data": {
      "image/png": "[encoded data removed]",
      "text/plain": [
       "<Figure size 640x480 with 1 Axes>"
      ]
     },
     "metadata": {},
     "output_type": "display_data"
    }
   ],
   "source": [
    "plt.plot(y)"
   ]
  },
  {
   "cell_type": "code",
   "execution_count": 22,
   "id": "1e80a960-0c21-48ab-9ac6-d0c8b2ebf365",
   "metadata": {},
   "outputs": [
    {
     "name": "stdout",
     "output_type": "stream",
     "text": [
      "Jacobi converged in 284 iterations.\n",
      "Solution:\n",
      "x[0] = 0.9999971708767869\n",
      "x[1] = 0.999994570952311\n",
      "x[2] = 0.9999924108569912\n",
      "x[3] = 0.9999908655889036\n",
      "x[4] = 0.9999900603364785\n",
      "x[5] = 0.9999900603364785\n",
      "x[6] = 0.9999908655889036\n",
      "x[7] = 0.9999924108569912\n",
      "x[8] = 0.999994570952311\n",
      "x[9] = 0.9999971708767869\n"
     ]
    }
   ],
   "source": [
    "import numpy as np\n",
    "\n",
    "# Function to perform the Jacobi iteration\n",
    "def jacobi(A, b, x0, tol, max_iter):\n",
    "    n = len(b)\n",
    "    x = np.copy(x0)\n",
    "\n",
    "    for k in range(max_iter):\n",
    "        x_new = np.copy(x)\n",
    "        for i in range(n):\n",
    "            s = 0.0\n",
    "            for j in range(n):\n",
    "                if i != j:\n",
    "                    s += A[i][j] * x[j]\n",
    "            x_new[i] = (b[i] - s) / A[i][i]\n",
    "        error = np.linalg.norm(x_new - x)\n",
    "        x = np.copy(x_new)\n",
    "        if error < tol:\n",
    "            print(f\"Jacobi converged in {k+1} iterations.\")\n",
    "            return x\n",
    "\n",
    "    print(\"Jacobi did not converge in the specified number of iterations.\")\n",
    "    return x\n",
    "\n",
    "# Define the coefficient matrix A and the right-hand side vector b\n",
    "n=10\n",
    "A = np.zeros((n,n),dtype=float)\n",
    "b = np.zeros((n,1), dtype=float)\n",
    "\n",
    "b[0] = 1.\n",
    "b[n-1] = 1.\n",
    "for i in range(n):\n",
    "    A[i, i] = 2.0\n",
    "    if i < (n - 1):\n",
    "        A[i, i + 1] = -1.0\n",
    "        A[i + 1, i] = -1.0\n",
    "\n",
    "# Initial guess for the solution\n",
    "x0 = np.zeros(len(b), dtype=float)\n",
    "\n",
    "# Tolerance and maximum number of iterations\n",
    "tolerance = 1e-6\n",
    "max_iterations = 1000\n",
    "\n",
    "# Solve the linear system using Jacobi\n",
    "solution = jacobi(A, b, x0, tolerance, max_iterations)\n",
    "\n",
    "# Print the solution\n",
    "print(\"Solution:\")\n",
    "for i, x in enumerate(solution):\n",
    "    print(f\"x[{i}] = {x}\")\n"
   ]
  },
  {
   "cell_type": "code",
   "execution_count": null,
   "id": "9784845b-cdad-49c7-8905-522c965d78d0",
   "metadata": {},
   "outputs": [],
   "source": []
  }
 ],
 "metadata": {
  "kernelspec": {
   "display_name": "Python 3 (ipykernel)",
   "language": "python",
   "name": "python3"
  },
  "language_info": {
   "codemirror_mode": {
    "name": "ipython",
    "version": 3
   },
   "file_extension": ".py",
   "mimetype": "text/x-python",
   "name": "python",
   "nbconvert_exporter": "python",
   "pygments_lexer": "ipython3",
   "version": "3.11.4"
  }
 },
 "nbformat": 4,
 "nbformat_minor": 5
}
