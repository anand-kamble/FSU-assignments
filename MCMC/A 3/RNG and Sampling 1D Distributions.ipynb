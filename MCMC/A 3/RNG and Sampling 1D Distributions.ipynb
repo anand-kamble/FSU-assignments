{
 "cells": [
  {
   "cell_type": "markdown",
   "id": "63c3e24e-3f43-4bf2-9850-c82bf08e5865",
   "metadata": {},
   "source": [
    "<h1>RNG and Sampling 1D Distributions</h1>\n",
    "<p>Anand Kamble</p>\n",
    "<a href=\"mailto:amk23j@fsu.edu\">amk23j@fsu.edu</a>\n",
    "<p>27th September 2023</p>\n",
    "<hr style=\"border:2px solid gray\"/>"
   ]
  },
  {
   "cell_type": "code",
   "execution_count": 142,
   "id": "ab7603fb",
   "metadata": {},
   "outputs": [],
   "source": [
    "# Importing the required packages.\n",
    "import numpy as np\n",
    "import typing \n",
    "import scipy\n",
    "import matplotlib.pyplot as plt\n",
    "from IPython.display import Markdown, display, Latex"
   ]
  },
  {
   "cell_type": "markdown",
   "id": "e22447d6-502e-4b73-9eec-cc8af0f5c893",
   "metadata": {},
   "source": [
    "### 1. LCG Random Number Generator\n",
    "\n",
    "\n",
    "$$ n_{i+1} = (an_i) \\mod m $$"
   ]
  },
  {
   "cell_type": "code",
   "execution_count": 100,
   "id": "7fef7975",
   "metadata": {},
   "outputs": [],
   "source": [
    "def RNG(n:int,a:int,m:int,seed:float = 0.):\n",
    "    n_i = np.full((n),0.)\n",
    "    n_i[0] = seed\n",
    "    for i in range(1,len(n_i)):\n",
    "        n_i[i] = (a*n_i[i-1]) % m\n",
    "    return n_i"
   ]
  },
  {
   "cell_type": "markdown",
   "id": "c0caa374-53e8-4383-bbf5-8dd8f371d051",
   "metadata": {},
   "source": [
    "<hr style=\"border:1px solid gray\"/>\n",
    "In this demonstration,\n",
    "We are using $ m = 2^k$, where $k = 3$.\n",
    "\n",
    "Generating 10 random numbers using $a = 2, 4$"
   ]
  },
  {
   "cell_type": "code",
   "execution_count": 184,
   "id": "1fb6a1ec",
   "metadata": {},
   "outputs": [
    {
     "data": {
      "text/latex": [
       "Random Values when $a = 2$ are $\\ 1.0 ,  $$\\ 2.0 ,  $$\\ 4.0 ,  $$\\ 0.0 ,  $$\\ 0.0 ,  $$\\ 0.0 ,  $$\\ 0.0 ,  $$\\ 0.0 ,  $$\\ 0.0 ,  $$\\ 0.0 ,  $"
      ],
      "text/plain": [
       "<IPython.core.display.Latex object>"
      ]
     },
     "metadata": {},
     "output_type": "display_data"
    }
   ],
   "source": [
    "k = 3 \n",
    "m = 2**k\n",
    "a = 2\n",
    "number_of_values = 10\n",
    "\n",
    "random_values = RNG(number_of_values,a,m,1.0)\n",
    "display(Latex(f\"Random Values when $a = {a}$ are \" + ''.join('$\\ ' +(str(x) + ' ,  $') for x in random_values)))"
   ]
  },
  {
   "cell_type": "code",
   "execution_count": 185,
   "id": "2c25acdb",
   "metadata": {},
   "outputs": [
    {
     "data": {
      "text/latex": [
       "Random Values when $a = 4$ are $\\ 1.0 ,  $$\\ 4.0 ,  $$\\ 0.0 ,  $$\\ 0.0 ,  $$\\ 0.0 ,  $$\\ 0.0 ,  $$\\ 0.0 ,  $$\\ 0.0 ,  $$\\ 0.0 ,  $$\\ 0.0 ,  $"
      ],
      "text/plain": [
       "<IPython.core.display.Latex object>"
      ]
     },
     "metadata": {},
     "output_type": "display_data"
    }
   ],
   "source": [
    "a = 4\n",
    "random_values =  RNG(number_of_values,a,m,1.0)\n",
    "display(Latex(f\"Random Values when $a = {a}$ are \" + ''.join('$\\ ' +(str(x) + ' ,  $') for x in random_values)))"
   ]
  },
  {
   "cell_type": "markdown",
   "id": "6f25b984-0c59-4062-bf07-02de78d746d5",
   "metadata": {},
   "source": [
    "It can be observed from the above that whenever the values of $a$ are even, the numbers generated increase upto a certain point and then become zero. "
   ]
  },
  {
   "cell_type": "markdown",
   "id": "35370db4-7de1-49a1-878f-fa7cc51721f9",
   "metadata": {},
   "source": [
    "<hr style=\"border:1px solid gray\"/>\n",
    "Keeping the other parameters constant, we will use odd values of $a$.\n",
    "\n",
    "Generating 10 random numbers using $a = 3, 5$."
   ]
  },
  {
   "cell_type": "code",
   "execution_count": 186,
   "id": "a4fcb70c",
   "metadata": {},
   "outputs": [
    {
     "data": {
      "text/latex": [
       "Random Values when $a = 3$ are $\\ 1.0 ,  $$\\ 3.0 ,  $$\\ 1.0 ,  $$\\ 3.0 ,  $$\\ 1.0 ,  $$\\ 3.0 ,  $$\\ 1.0 ,  $$\\ 3.0 ,  $$\\ 1.0 ,  $$\\ 3.0 ,  $"
      ],
      "text/plain": [
       "<IPython.core.display.Latex object>"
      ]
     },
     "metadata": {},
     "output_type": "display_data"
    }
   ],
   "source": [
    "a = 3\n",
    "random_values = RNG(number_of_values,a,m,1.0)\n",
    "display(Latex(f\"Random Values when $a = {a}$ are \" + ''.join('$\\ ' +(str(x) + ' ,  $') for x in random_values)))"
   ]
  },
  {
   "cell_type": "code",
   "execution_count": 190,
   "id": "9d49ec2c",
   "metadata": {},
   "outputs": [
    {
     "data": {
      "text/latex": [
       "Random Values when $a = 5$ are $\\ 1.0 ,  $$\\ 5.0 ,  $$\\ 1.0 ,  $$\\ 5.0 ,  $$\\ 1.0 ,  $$\\ 5.0 ,  $$\\ 1.0 ,  $$\\ 5.0 ,  $$\\ 1.0 ,  $$\\ 5.0 ,  $"
      ],
      "text/plain": [
       "<IPython.core.display.Latex object>"
      ]
     },
     "metadata": {},
     "output_type": "display_data"
    }
   ],
   "source": [
    "a = 5\n",
    "random_values = RNG(number_of_values,a,m,1.0)\n",
    "display(Latex(f\"Random Values when $a = {a}$ are \" + ''.join('$\\ ' +(str(x) + ' ,  $') for x in random_values)))"
   ]
  },
  {
   "cell_type": "markdown",
   "id": "79ee3d32-0147-42fa-becf-1d1ba6db79a1",
   "metadata": {},
   "source": [
    "<hr style=\"border:1px solid gray\"/>\n",
    "To find the period of the generated values, we will use the following function, which has been created by Chat-GPT. "
   ]
  },
  {
   "cell_type": "code",
   "execution_count": 169,
   "id": "0ebc5d8f-ab93-444f-ba67-b51559d4ed70",
   "metadata": {},
   "outputs": [],
   "source": [
    "def find_period(arr):\n",
    "    n = len(arr)\n",
    "    for period in range(1, n // 2 + 1):\n",
    "        is_periodic = True\n",
    "        for i in range(period, n):\n",
    "            if arr[i] != arr[i - period]:\n",
    "                is_periodic = False\n",
    "                break\n",
    "        if is_periodic:\n",
    "            return period\n",
    "    return n"
   ]
  },
  {
   "cell_type": "markdown",
   "id": "44824ff3-b283-4cea-9818-33e7bf8a21cf",
   "metadata": {},
   "source": [
    "<small>The conversation can be found at https://chat.openai.com/share/fdf88bd9-8891-45c7-8dae-db72a4a9c58b</small>\n",
    "\n",
    "Calculating the period when,\n",
    "\n",
    "$a = 3, m = 2^4$, and $m = 2^5$"
   ]
  },
  {
   "cell_type": "code",
   "execution_count": 194,
   "id": "b0068629-16a4-4937-91d2-0553e6c1add4",
   "metadata": {},
   "outputs": [
    {
     "data": {
      "text/latex": [
       "Period of a LCG RNG with $a = 3$ and $m = 2^4$ is $4$"
      ],
      "text/plain": [
       "<IPython.core.display.Latex object>"
      ]
     },
     "metadata": {},
     "output_type": "display_data"
    }
   ],
   "source": [
    "a = 3\n",
    "k = 4\n",
    "m = 2**k\n",
    "\n",
    "period = find_period(RNG(100,a,m,1.0))\n",
    "\n",
    "display(Latex(f\"Period of a LCG RNG with $a = {a}$ and $m = 2^{k}$ is ${period}$\"))"
   ]
  },
  {
   "cell_type": "code",
   "execution_count": 196,
   "id": "e9689893-23bf-4d16-a794-07b5b1d93c62",
   "metadata": {},
   "outputs": [
    {
     "data": {
      "text/latex": [
       "Period of a LCG RNG with $a = 3$ and $m = 2^5$ is $8$"
      ],
      "text/plain": [
       "<IPython.core.display.Latex object>"
      ]
     },
     "metadata": {},
     "output_type": "display_data"
    }
   ],
   "source": [
    "k = 5\n",
    "m = 2**k\n",
    "period = find_period(RNG(100,a,m,1.0))\n",
    "\n",
    "display(Latex(f\"Period of a LCG RNG with $a = {a}$ and $m = 2^{k}$ is ${period}$\"))"
   ]
  },
  {
   "cell_type": "code",
   "execution_count": 23,
   "id": "54211791",
   "metadata": {},
   "outputs": [],
   "source": [
    "def f(x):\n",
    "    return 6*x*(1-x)"
   ]
  },
  {
   "cell_type": "code",
   "execution_count": 24,
   "id": "8efa8e2e",
   "metadata": {},
   "outputs": [
    {
     "data": {
      "text/plain": [
       "<matplotlib.collections.PathCollection at 0x1586c8bc150>"
      ]
     },
     "execution_count": 24,
     "metadata": {},
     "output_type": "execute_result"
    },
    {
     "data": {
      "image/png": "[encoded data removed]",
      "text/plain": [
       "<Figure size 640x480 with 1 Axes>"
      ]
     },
     "metadata": {},
     "output_type": "display_data"
    }
   ],
   "source": [
    "# Accept reject method.\n",
    "fmax = 1.5\n",
    "num = 10**5\n",
    "x = np.random.uniform(0.0,1.0,num) #np.array([f(x) for x in np.random.uniform(0.0,1.0,1000)])\n",
    "y = np.random.uniform(0.0,1.5,num)\n",
    "\n",
    "condition = (y <= f(x))\n",
    "\n",
    "plt.scatter(x,y)\n",
    "plt.scatter(x[condition],y[condition])"
   ]
  },
  {
   "cell_type": "markdown",
   "id": "b81645c0-dc8c-4a8f-8673-cc8ec63c2f55",
   "metadata": {},
   "source": [
    "### 2. Sampling 1D Distribution\n",
    "\n",
    "We will be using the inverse linear interpolation.\n",
    "\n",
    "$$ f(x) = 6x(1-x);  0 \\leq x \\leq 1 $$\n",
    "\n",
    "The CFD will be,\n",
    "$$ F(x) = \\int_{0}^{1} 6x(1-x) dx = \\int_{0}^{1} 6x - 6x^2 dx$$\n",
    "\n",
    "<!-- $$ F(x) = \\int_{0}^{1} 6x - 6x^2 dx$$ -->\n",
    "\n",
    "$$ F(x) = \\int_{0}^{1} 6x dx - \\int_{0}^{1} 6x^2 dx = 6 {x^2 \\over 2} - 6 {x^3 \\over 3} dx$$\n",
    "\n",
    "<!-- $$ F(x) = 6\\int_{0}^{1} x dx - 6\\int_{0}^{1} x^2 dx$$ -->\n",
    "\n",
    "<!-- $$ F(x) = 6 {x^2 \\over 2} - 6 {x^3 \\over 3} dx$$ -->\n",
    "\n",
    "$$ F(x) = 3x^2 - 2x^3 $$"
   ]
  },
  {
   "cell_type": "code",
   "execution_count": 94,
   "id": "db443cdc-5fc3-4430-baba-66dbc6d1e474",
   "metadata": {},
   "outputs": [],
   "source": [
    "def F(x):\n",
    "    return  3*(x**2) - 2*(x**3)"
   ]
  },
  {
   "cell_type": "code",
   "execution_count": 95,
   "id": "b4f05b7b-9f7e-4dd3-808d-fc8b673a5621",
   "metadata": {},
   "outputs": [],
   "source": [
    "number_of_points = 10**5\n",
    "x = np.linspace(0,1,number_of_points)\n",
    "\n",
    "Fi = Fx(x)"
   ]
  },
  {
   "cell_type": "code",
   "execution_count": 96,
   "id": "f97c4d55-ac25-4175-8083-4f5bbfd3d96c",
   "metadata": {},
   "outputs": [],
   "source": [
    "Finv = scipy.interpolate.interp1d(Fi, x, 'cubic')"
   ]
  },
  {
   "cell_type": "code",
   "execution_count": 97,
   "id": "f21ca6a4-964b-4cbe-b5db-716bcb6a5a3a",
   "metadata": {},
   "outputs": [
    {
     "data": {
      "image/png": "[encoded data removed]",
      "text/plain": [
       "<Figure size 640x480 with 1 Axes>"
      ]
     },
     "metadata": {},
     "output_type": "display_data"
    }
   ],
   "source": [
    "# test inverse sampling\n",
    "u = np.random.uniform(0,1, 10000)\n",
    "x = Finv(u)\n",
    "\n",
    "xi = np.linspace(0,1); fi = f(xi)\n",
    "\n",
    "plt.plot(xi, fi)\n",
    "_ = plt.hist(x, 25, density=True)"
   ]
  },
  {
   "cell_type": "code",
   "execution_count": null,
   "id": "aa470083-032c-4c47-898d-214bc1d6a8c3",
   "metadata": {},
   "outputs": [],
   "source": []
  }
 ],
 "metadata": {
  "kernelspec": {
   "display_name": "Python 3 (ipykernel)",
   "language": "python",
   "name": "python3"
  },
  "language_info": {
   "codemirror_mode": {
    "name": "ipython",
    "version": 3
   },
   "file_extension": ".py",
   "mimetype": "text/x-python",
   "name": "python",
   "nbconvert_exporter": "python",
   "pygments_lexer": "ipython3",
   "version": "3.11.4"
  }
 },
 "nbformat": 4,
 "nbformat_minor": 5
}
