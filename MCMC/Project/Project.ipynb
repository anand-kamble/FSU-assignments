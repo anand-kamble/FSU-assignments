{
 "cells": [
  {
   "cell_type": "markdown",
   "id": "03ec68a9",
   "metadata": {},
   "source": [
    "<p style=\"margin-bottom:4px\"><b>Monte Carlo Methods</b></p>\n",
    "<h1 style=\"margin:0px\">Cryptography and Substitution Ciphers</h1>\n",
    "<br/>\n",
    "<p style=\"margin:0px\">Anand Kamble</p>\n",
    "<a href=\"mailto:amk23j@fsu.edu\" style=\"margin:0px\">amk23j@fsu.edu</a>\n",
    "<hr style=\"border:2px solid gray\"/>"
   ]
  },
  {
   "cell_type": "markdown",
   "id": "d9b8b597",
   "metadata": {},
   "source": [
    "Import all the necessary packages."
   ]
  },
  {
   "cell_type": "code",
   "execution_count": 1,
   "id": "fbcd0790",
   "metadata": {},
   "outputs": [],
   "source": [
    "import numpy as np\n",
    "import matplotlib.pyplot as plt\n",
    "from IPython.display import display, clear_output, HTML, Markdown"
   ]
  },
  {
   "cell_type": "markdown",
   "id": "dc1f9fb8",
   "metadata": {},
   "source": [
    "\n",
    "<hr style=\"border:1px solid gray\"/>\n",
    "\n",
    "### Encrypted Message\n",
    "Read the encrypted text from the given file ."
   ]
  },
  {
   "cell_type": "code",
   "execution_count": 2,
   "id": "ca2f75d5",
   "metadata": {},
   "outputs": [
    {
     "data": {
      "text/markdown": [
       "#### The given encrypted message is : "
      ],
      "text/plain": [
       "<IPython.core.display.Markdown object>"
      ]
     },
     "metadata": {},
     "output_type": "display_data"
    },
    {
     "data": {
      "text/html": [
       "<span style='color:#8c0303;font-size:1.5rem;'>F RZXN JNVINOTFXN AS TRN LTZSS TRFT Q TNOW TA PN FZTAKFTQIFUUB INVTFQO AS QL QT TZVOL AZT TATFUUB HVAOX FOW WNUZWNW RNVNL AON NGFKJUN AS TRN ZTTNV HVAOXONLL AS LAKNTRQOX Q TNOW TA PN FZTAKFTQIFUUB LZVN AS NDNVBTRQOX QO KB AHO QKKNWQFTN NGJNVQNOIN LZJJAVTL KB WNNJ PNUQNS TRFT Q FK TRN FPLAUZTN INOTNV AS TRN ZOQDNVLN TRN VNFUNLT KALT DQDQW FOW QKJAVTFOT JNVLAO QO NGQLTNOIN HN VFVNUB TFUM FPAZT TRQL LAVT AS OFTZVFU PFLQI LNUS INOTNVNWONLL PNIFZLN QTL LA LAIQFUUB VNJZULQDN PZT QTL JVNTTB KZIR TRN LFKN SAV FUU AS ZL WNNJ WAHO QT QL AZV WNSFZUTLNTTQOX RFVWHQVNW QOTA AZV PAFVWL FT PQVTR TRQOM FPAZT QT TRNVN QL OA NGJNVQNOIN BAZDN RFW TRFT BAZ HNVN OAT FT TRN FPLAUZTN INOTNV AS TRN HAVUW FL BAZ NGJNVQNOIN QT QL VQXRT TRNVN QO SVAOT AS BAZ AV PNRQOW BAZ TA TRN UNST AV VQXRT AS BAZ AO BAZV TD AV BAZV KAOQTAV AV HRFTNDNV ATRNV JNAJUNL TRAZXRTL FOW SNNUQOXL RFDN TA PN IAKKZOQIFTNW TA BAZ LAKNRAH PZT BAZV AHO FVN LA QKKNWQFTN ZVXNOT VNFUBAZ XNT TRN QWNF PZT JUNFLN WAOT HAVVB TRFT QK XNTTQOX VNFWB TA JVNFIR TA BAZ FPAZT IAKJFLLQAO AV ATRNVWQVNITNWONLL AV TRN LAIFUUNW DQVTZNL TRQL QL OAT F KFTTNV AS DQVTZNQTL F KFTTNV AS KB IRAALQOX TA WA TRN HAVM AS LAKNRAH FUTNVQOX AV XNTTQOX SVNN AS KB OFTZVFU RFVWHQVNW WNSFZUTLNTTQOX HRQIR QL TA PN WNNJUB FOW UQTNVFUUB LNUSINOTNVNW FOW TA LNN FOW QOTNVJVNT NDNVBTRQOX TRVAZXR TRQL UNOL AS LNUS</span>"
      ],
      "text/plain": [
       "<IPython.core.display.HTML object>"
      ]
     },
     "metadata": {},
     "output_type": "display_data"
    }
   ],
   "source": [
    "encryptedText = \"\"\n",
    "with open(\"encrypted.txt\", \"r\") as file:\n",
    "    encryptedText = file.read()\n",
    "encryptedText = encryptedText.replace(\"\\n\",\"\")\n",
    "\n",
    "display(Markdown(\"#### The given encrypted message is : \"))\n",
    "display(HTML(f\"<span style='color:#8c0303;font-size:1.5rem;'>{encryptedText}</span>\"))"
   ]
  },
  {
   "cell_type": "markdown",
   "id": "52e43b57",
   "metadata": {},
   "source": [
    "\n",
    "<hr style=\"border:1px solid gray\"/>\n",
    "\n",
    "### Transition Matrix\n",
    "\n",
    "Read the transition matrix from given '.dat' file"
   ]
  },
  {
   "cell_type": "code",
   "execution_count": 3,
   "id": "946f2680",
   "metadata": {},
   "outputs": [],
   "source": [
    "matrix = np.loadtxt(\"pairFreq.dat\")\n",
    "letters = list(\"ABCDEFGHIJKLMNOPQRSTUVWXYZ\")\n",
    "M = {} # <-- This is the transition matrix which is a dictionary.\n",
    "for r in zip(list(\"ABCDEFGHIJKLMNOPQRSTUVWXYZ \"),matrix):\n",
    "    M[r[0]] = dict(zip(list(\"ABCDEFGHIJKLMNOPQRSTUVWXYZ \"),r[1]))"
   ]
  },
  {
   "cell_type": "markdown",
   "id": "b6ccc12b",
   "metadata": {},
   "source": [
    "<hr style=\"border:1px solid gray\"/>\n",
    "\n",
    "### Initial Mapping\n",
    "Generate a new random letter mapping, including a space.\n",
    "This will be the $f$.\n",
    "\n",
    "For example:\n",
    "$$f : \\{'A', 'B', ...., 'Z','\\ '\\} → \\{'S','Z', ...., 'R', '\\ '\\}$$\n",
    "\n",
    "\n",
    "We will ignore all punctuation, numbers, etc., except “space”, which we will\n",
    "assume always maps into itself."
   ]
  },
  {
   "cell_type": "code",
   "execution_count": 4,
   "id": "f32cb9e4",
   "metadata": {},
   "outputs": [],
   "source": [
    "np.random.seed(2675017932)\n",
    "def new_random_mapping() -> dict:\n",
    "    map = dict(zip(np.random.permutation(letters), letters))\n",
    "    map[\" \"] = \" \" # <-- Adding the space manually since it is always mapped to itself.\n",
    "    return map"
   ]
  },
  {
   "cell_type": "markdown",
   "id": "1b16e2c9",
   "metadata": {},
   "source": [
    "<hr style=\"border:1px solid gray\"/>\n",
    "\n",
    "### Decrypt message\n",
    "Using the provided mapping, create the decrypted text. "
   ]
  },
  {
   "cell_type": "code",
   "execution_count": 5,
   "id": "2a4968f4",
   "metadata": {},
   "outputs": [],
   "source": [
    "def text_after_mapping(mapping:dict,text:str) -> str:\n",
    "    \"\"\"\n",
    "    Applies the given mapping to the input text.\n",
    "\n",
    "    Parameters:\n",
    "    - mapping (dict): The mapping dictionary.\n",
    "    - text (str): The input text.\n",
    "\n",
    "    Returns:\n",
    "    - str: The text after applying the mapping.\n",
    "    \"\"\"\n",
    "    t = list(text)\n",
    "    res = \"\"\n",
    "    for i in range(len(t)):\n",
    "        res += mapping[t[i]]\n",
    "    return res"
   ]
  },
  {
   "cell_type": "markdown",
   "id": "89f669c8",
   "metadata": {},
   "source": [
    "<hr style=\"border:1px solid gray\"/>\n",
    "\n",
    "### Compute the Plausibility\n",
    "\n",
    "Calculating the plausibility using function.\n",
    "\n",
    "$$ Pl(f) = \\prod_{i=1}^{N-1} M(f(s_i), f(s_{i+1})) $$"
   ]
  },
  {
   "cell_type": "code",
   "execution_count": 6,
   "id": "1d8b3631",
   "metadata": {},
   "outputs": [],
   "source": [
    "def log_pi(text:str) -> float:\n",
    "    \"\"\"\n",
    "    Calculates the log probability of the given text based on the mapping matrix.\n",
    "\n",
    "    Parameters:\n",
    "    - text (str): The input text.\n",
    "\n",
    "    Returns:\n",
    "    - float: The log probability.\n",
    "    \"\"\"\n",
    "    result = list()\n",
    "    for i in range(len(text) - 1):\n",
    "        x = np.log(M[text[i]][text[i+1]] + 1e-27)\n",
    "        result.append(x)\n",
    "    return np.sum(result)"
   ]
  },
  {
   "cell_type": "markdown",
   "id": "fad1a847",
   "metadata": {},
   "source": [
    "<hr style=\"border:1px solid gray\"/>\n",
    "\n",
    "### Proposing a new mapping\n",
    "\n",
    "Propose a new mapping by swapping two random letters in the original mapping.\n",
    "Which is $f'$"
   ]
  },
  {
   "cell_type": "code",
   "execution_count": 7,
   "id": "a771fa58",
   "metadata": {},
   "outputs": [],
   "source": [
    "def proposal(original: dict) -> dict:\n",
    "    \"\"\"\n",
    "    Proposes a new mapping by swapping two random letters in the original mapping.\n",
    "\n",
    "    Parameters:\n",
    "    - original_mapping (dict): The original mapping.\n",
    "\n",
    "    Returns:\n",
    "    - tuple: Original mapping and proposed mapping.\n",
    "    \"\"\"\n",
    "    r1, r2 = np.random.choice(list(letters),2,replace=True)\n",
    "    proposal = original.copy()\n",
    "    proposal[r1] = original[r2]\n",
    "    proposal[r2] = original[r1]\n",
    "    return proposal"
   ]
  },
  {
   "cell_type": "markdown",
   "id": "f20ea4cb",
   "metadata": {},
   "source": [
    "<hr style=\"border:1px solid gray\"/>\n",
    "\n",
    "### Accept or Reject the new proposal \n",
    "\n",
    "Accepting the new proposal if,\n",
    "$$\\frac{Pl(f')}{Pl(f)} > 1$$\n",
    "\n",
    "else generate a random number and if the generated number is less than the ratio, accept the new proposal."
   ]
  },
  {
   "cell_type": "code",
   "execution_count": 8,
   "id": "25eeae75",
   "metadata": {},
   "outputs": [],
   "source": [
    "def accept(new_map:dict, current_map:dict) -> bool:\n",
    "    \"\"\"\n",
    "    Determines whether to accept the proposed mapping based on the Metropolis-Hastings algorithm.\n",
    "\n",
    "    Parameters:\n",
    "    - new_map (dict): The proposed mapping.\n",
    "    - current_map (dict): The current mapping.\n",
    "\n",
    "    Returns:\n",
    "    - bool: True if the proposed mapping is accepted, False otherwise.\n",
    "    \"\"\"\n",
    "    \n",
    "    log_P = log_pi(text_after_mapping(current_map, encryptedText))\n",
    "    log_P_proposed = log_pi(text_after_mapping(new_map, encryptedText))\n",
    "    ratio = np.exp(log_P_proposed - log_P)\n",
    "    accept = False\n",
    "\n",
    "    if ratio > 1.:\n",
    "        accept = True\n",
    "    elif (np.random.rand()) < ratio:\n",
    "        accept = True\n",
    "\n",
    "    if not accept:\n",
    "        new_map = current_map\n",
    "\n",
    "    return accept"
   ]
  },
  {
   "cell_type": "markdown",
   "id": "fe47aab9",
   "metadata": {},
   "source": [
    "<hr style=\"border:1px solid gray\"/>\n",
    "\n",
    "### Simulation\n",
    "\n",
    "Running the simulation for 1000 iterations and printing the text every 100 iterations."
   ]
  },
  {
   "cell_type": "code",
   "execution_count": 9,
   "id": "6c3936be",
   "metadata": {
    "scrolled": false
   },
   "outputs": [
    {
     "data": {
      "text/markdown": [
       "<h3>Decrypted Text :</h3><br/><span style='color:#8c0303;font-size:1.5rem;'>A HUGE PERCENTAGE OF THE STUFF THAT I TEND TO BE AUTOMATICALLY CERTAIN OF IS IT TURNS OUT TOTALLY WRONG AND DELUDED HERES ONE EXAMPLE OF THE UTTER WRONGNESS OF SOMETHING I TEND TO BE AUTOMATICALLY SURE OF EVERYTHING IN MY OWN IMMEDIATE EXPERIENCE SUPPORTS MY DEEP BELIEF THAT I AM THE ABSOLUTE CENTER OF THE UNIVERSE THE REALEST MOST VIVID AND IMPORTANT PERSON IN EXISTENCE WE RARELY TALK ABOUT THIS SORT OF NATURAL BASIC SELF CENTEREDNESS BECAUSE ITS SO SOCIALLY REPULSIVE BUT ITS PRETTY MUCH THE SAME FOR ALL OF US DEEP DOWN IT IS OUR DEFAULTSETTING HARDWIRED INTO OUR BOARDS AT BIRTH THINK ABOUT IT THERE IS NO EXPERIENCE YOUVE HAD THAT YOU WERE NOT AT THE ABSOLUTE CENTER OF THE WORLD AS YOU EXPERIENCE IT IS RIGHT THERE IN FRONT OF YOU OR BEHIND YOU TO THE LEFT OR RIGHT OF YOU ON YOUR TV OR YOUR MONITOR OR WHATEVER OTHER PEOPLES THOUGHTS AND FEELINGS HAVE TO BE COMMUNICATED TO YOU SOMEHOW BUT YOUR OWN ARE SO IMMEDIATE URGENT REALYOU GET THE IDEA BUT PLEASE DONT WORRY THAT IM GETTING READY TO PREACH TO YOU ABOUT COMPASSION OR OTHERDIRECTEDNESS OR THE SOCALLED VIRTUES THIS IS NOT A MATTER OF VIRTUEITS A MATTER OF MY CHOOSING TO DO THE WORK OF SOMEHOW ALTERING OR GETTING FREE OF MY NATURAL HARDWIRED DEFAULTSETTING WHICH IS TO BE DEEPLY AND LITERALLY SELFCENTERED AND TO SEE AND INTERPRET EVERYTHING THROUGH THIS LENS OF SELF</span>"
      ],
      "text/plain": [
       "<IPython.core.display.Markdown object>"
      ]
     },
     "metadata": {},
     "output_type": "display_data"
    },
    {
     "data": {
      "image/png": "[encoded data removed]",
      "text/plain": [
       "<Figure size 1000x600 with 1 Axes>"
      ]
     },
     "metadata": {},
     "output_type": "display_data"
    },
    {
     "data": {
      "text/markdown": [
       "### Final Mapping : "
      ],
      "text/plain": [
       "<IPython.core.display.Markdown object>"
      ]
     },
     "metadata": {},
     "output_type": "display_data"
    },
    {
     "name": "stdout",
     "output_type": "stream",
     "text": [
      "'X' --> 'G' \n",
      "'G' --> 'X' \n",
      "'D' --> 'V' \n",
      "'C' --> 'J' \n",
      "'K' --> 'M' \n",
      "'M' --> 'K' \n",
      "'T' --> 'T' \n",
      "'Q' --> 'I' \n",
      "'Y' --> 'Z' \n",
      "'S' --> 'F' \n",
      "'U' --> 'L' \n",
      "'B' --> 'Y' \n",
      "'P' --> 'B' \n",
      "'W' --> 'D' \n",
      "'I' --> 'C' \n",
      "'H' --> 'W' \n",
      "'A' --> 'O' \n",
      "'F' --> 'A' \n",
      "'L' --> 'S' \n",
      "'O' --> 'N' \n",
      "'V' --> 'R' \n",
      "'Z' --> 'U' \n",
      "'N' --> 'E' \n",
      "'R' --> 'H' \n",
      "'J' --> 'P' \n",
      "'E' --> 'Q' \n",
      "' ' --> ' ' \n",
      "\n"
     ]
    }
   ],
   "source": [
    "def mcmc():   \n",
    "    \"\"\"\n",
    "    Runs the Markov Chain Monte Carlo (MCMC) algorithm for decrypting the text.\n",
    "    \"\"\"\n",
    "    NumSucc = 0\n",
    "    log_pis = list()\n",
    "    mapping = new_random_mapping()\n",
    "\n",
    "    thin = 100\n",
    "    max_iterations = 5000\n",
    "    \n",
    "    for i in range(max_iterations+1):\n",
    "\n",
    "        map_proposed = proposal(mapping)\n",
    "        acc = accept(map_proposed, mapping)\n",
    "\n",
    "        if acc:\n",
    "            NumSucc += 1\n",
    "            mapping = map_proposed\n",
    "            \n",
    "        if(i % thin == 0):\n",
    "            clear_output(wait=True)\n",
    "            display(Markdown(f\"<h3>Iteration : {i} / {max_iterations}</h3><br/><span style='color:#8c0303;font-size:1.5rem;'>{text_after_mapping(mapping, encryptedText)}</span>\"))\n",
    "            log_pis.append(log_pi(text_after_mapping(map_proposed, encryptedText)))\n",
    "            \n",
    "\n",
    "    clear_output(wait=True)\n",
    "    display(Markdown(f\"<h3>Decrypted Text :</h3><br/><span style='color:#8c0303;font-size:1.5rem;'>{text_after_mapping(mapping, encryptedText)}</span>\"))\n",
    "    plt.figure(figsize=(10, 6))  \n",
    "    plt.grid(True, linestyle='--', alpha=0.7)\n",
    "    plt.xlabel('Iteration', fontsize=10)\n",
    "    plt.ylabel('$\\log P(f\\')$', fontsize=10)\n",
    "    plt.title('MCMC Log Probability Evolution', fontsize=14)\n",
    "    plt.plot(log_pis, label='Log Probability Evolution', color='blue', linewidth=1)\n",
    "    plt.axhline(0, color='black', linestyle='--', linewidth=1)\n",
    "    plt.axhspan(-10, 10, facecolor='lightgray', alpha=0.3)\n",
    "    plt.tick_params(axis='both', which='both', labelsize=8)\n",
    "    plt.show()\n",
    "    display(Markdown(\"### Final Mapping : \"))\n",
    "    print(\"\".join([f\"'{m}' --> '{mapping[m]}' \\n\"  for m in mapping]))\n",
    "        \n",
    "mcmc()"
   ]
  }
 ],
 "metadata": {
  "kernelspec": {
   "display_name": "Python 3 (ipykernel)",
   "language": "python",
   "name": "python3"
  },
  "language_info": {
   "codemirror_mode": {
    "name": "ipython",
    "version": 3
   },
   "file_extension": ".py",
   "mimetype": "text/x-python",
   "name": "python",
   "nbconvert_exporter": "python",
   "pygments_lexer": "ipython3",
   "version": "3.10.6"
  }
 },
 "nbformat": 4,
 "nbformat_minor": 5
}
