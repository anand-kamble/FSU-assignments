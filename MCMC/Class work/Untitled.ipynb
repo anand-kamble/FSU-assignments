{
 "cells": [
  {
   "cell_type": "code",
   "execution_count": 16,
   "id": "e0dfc678",
   "metadata": {},
   "outputs": [],
   "source": [
    "import numpy as np\n",
    "import matplotlib.pyplot as plt\n",
    "\n",
    "def f(x):\n",
    "    return 2*(1-x)"
   ]
  },
  {
   "cell_type": "code",
   "execution_count": 17,
   "id": "97f3bd43",
   "metadata": {},
   "outputs": [],
   "source": [
    "R = np.random.uniform(0,1,1000)"
   ]
  },
  {
   "cell_type": "code",
   "execution_count": 18,
   "id": "92257974",
   "metadata": {},
   "outputs": [],
   "source": [
    "Dist = [f(x) for x in R]"
   ]
  },
  {
   "cell_type": "code",
   "execution_count": 20,
   "id": "cf4d0f3a",
   "metadata": {},
   "outputs": [],
   "source": [
    "a1 = np.array([[4.5, 3.1], [1.6, 1.1]])"
   ]
  },
  {
   "cell_type": "code",
   "execution_count": 21,
   "id": "36230a23",
   "metadata": {},
   "outputs": [],
   "source": [
    "a2 = np.array([19.249, 6.843])"
   ]
  },
  {
   "cell_type": "code",
   "execution_count": 22,
   "id": "bed63069",
   "metadata": {},
   "outputs": [],
   "source": [
    "a3 = np.array([19.25,6.84])"
   ]
  },
  {
   "cell_type": "code",
   "execution_count": 23,
   "id": "a695ac55",
   "metadata": {},
   "outputs": [
    {
     "name": "stdout",
     "output_type": "stream",
     "text": [
      "\n",
      "Result...\n",
      " [3.94 0.49]\n"
     ]
    }
   ],
   "source": [
    "print(\"\\nResult...\\n\",np.linalg.solve(a1, a2))"
   ]
  },
  {
   "cell_type": "code",
   "execution_count": 24,
   "id": "12a93d40",
   "metadata": {},
   "outputs": [
    {
     "name": "stdout",
     "output_type": "stream",
     "text": [
      "\n",
      "Result...\n",
      " [2.9 2. ]\n"
     ]
    }
   ],
   "source": [
    "print(\"\\nResult...\\n\",np.linalg.solve(a1, a3))"
   ]
  },
  {
   "cell_type": "code",
   "execution_count": null,
   "id": "d83a3793",
   "metadata": {},
   "outputs": [],
   "source": []
  }
 ],
 "metadata": {
  "kernelspec": {
   "display_name": "Python 3 (ipykernel)",
   "language": "python",
   "name": "python3"
  },
  "language_info": {
   "codemirror_mode": {
    "name": "ipython",
    "version": 3
   },
   "file_extension": ".py",
   "mimetype": "text/x-python",
   "name": "python",
   "nbconvert_exporter": "python",
   "pygments_lexer": "ipython3",
   "version": "3.11.4"
  }
 },
 "nbformat": 4,
 "nbformat_minor": 5
}
