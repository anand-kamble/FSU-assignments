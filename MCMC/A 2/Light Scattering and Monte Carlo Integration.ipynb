{
 "cells": [
  {
   "cell_type": "code",
   "execution_count": 205,
   "id": "06438977",
   "metadata": {},
   "outputs": [],
   "source": [
    "import numpy as np\n",
    "from typing import Union, Final\n",
    "import matplotlib.pyplot as plt"
   ]
  },
  {
   "cell_type": "code",
   "execution_count": 240,
   "id": "9a0b7c9e",
   "metadata": {},
   "outputs": [],
   "source": [
    "#Defining constants\n",
    "MC_samples:Final[int] = 10**3\n",
    "q_low:Final[float] = 0.1\n",
    "q_high:Final[float] = 30.0\n",
    "q_count:Final[int] = 100\n",
    "domain = {\n",
    "    'X_min' : -1,\n",
    "    'X_max' : 1,\n",
    "    'Y_min' : -1,\n",
    "    'Y_max' : 1,\n",
    "    'Z_min' : -1,\n",
    "    'Z_max' : 1,\n",
    "}\n",
    "Number_of_points_inside_domain = 1000"
   ]
  },
  {
   "cell_type": "markdown",
   "id": "1ba9c1e2",
   "metadata": {},
   "source": [
    "To get $N$ number of random points which lie inside the sphere, we need to sample more than $N$ points in the given bound. Since the given bound is a cube\n",
    "\n",
    "$$ {V_s \\over V_c} = {{4/3 \\pi r^3} \\over (2r)^3} = {{4\\pi}\\over{24}} = {{\\pi}\\over{6}} \\approx 0.523 $$\n",
    "Here, $r$ is the radius of the sphere, and since we are creating bounds for the sphere, the lenght of the side of the cube will be $2r$. \n",
    "\n",
    "So, the number of samples to be calculated is ${1\\over {\\pi / 6}}N \\approx 1.912N$."
   ]
  },
  {
   "cell_type": "code",
   "execution_count": 248,
   "id": "9a2ec7dd",
   "metadata": {},
   "outputs": [],
   "source": [
    "Number_of_samples = int(Number_of_points_inside_domain*(6/np.pi))\n",
    "\n",
    "Random_points = {\n",
    "    'x' : np.random.uniform(domain['X_min'],domain['X_max'],size=Number_of_samples),\n",
    "    'y' : np.random.uniform(domain['Y_min'],domain['Y_max'],size=Number_of_samples),\n",
    "    'z' : np.random.uniform(domain['Z_min'],domain['Z_max'],size=Number_of_samples),\n",
    "}\n",
    "\n",
    "Filter = (Random_points['x']**2 + Random_points['y']**2 + Random_points['z']**2) <= 1\n",
    "\n",
    "Random_points = np.c_[Random_points['x'],Random_points['y'],Random_points['z']]\n",
    "Random_points = Random_points[Filter]"
   ]
  },
  {
   "cell_type": "code",
   "execution_count": 249,
   "id": "2d3f6614",
   "metadata": {},
   "outputs": [],
   "source": [
    "Qs = np.geomspace(q_low,q_high, num = q_count)"
   ]
  },
  {
   "cell_type": "markdown",
   "id": "69bac9a1",
   "metadata": {},
   "source": [
    "$$ P(q) \\approx {2 \\over {N(N-1)}} \\sum_{i = 0}^{N - 1} \\sum_{j = i + 1}^{N} {{sinqR_{i,j}}\\over{qR_{i,j}}}$$"
   ]
  },
  {
   "cell_type": "code",
   "execution_count": 243,
   "id": "5253092f",
   "metadata": {},
   "outputs": [],
   "source": [
    "def P_q(q):\n",
    "    P = 0\n",
    "    for i in range(len(Random_points)-1):\n",
    "        for j in range(i+1,len(Random_points)):\n",
    "            distance = np.linalg.norm(Random_points[j]-Random_points[i])\n",
    "            qr = q*distance\n",
    "            p_q = np.sin(qr)/(qr)\n",
    "            P = (P + p_q)/2\n",
    "    return P"
   ]
  },
  {
   "cell_type": "markdown",
   "id": "08e00cf9",
   "metadata": {},
   "source": [
    "$$ P_{exact}(q) = [{{3 \\over {(qR)^3}} (sin(qR) - qRcos(qR))}]^2 $$"
   ]
  },
  {
   "cell_type": "code",
   "execution_count": 244,
   "id": "82c3a6ac",
   "metadata": {},
   "outputs": [],
   "source": [
    "def P_exact(q,radius = 1):\n",
    "    return ((3/((q*radius)**3))*(np.sin(q*radius) - q*radius*np.cos(q*radius)))**2"
   ]
  },
  {
   "cell_type": "code",
   "execution_count": 245,
   "id": "7571169f",
   "metadata": {},
   "outputs": [],
   "source": [
    "Values_of_P = [P_q(q) for q in Qs]"
   ]
  },
  {
   "cell_type": "code",
   "execution_count": 246,
   "id": "0ca6b884",
   "metadata": {},
   "outputs": [],
   "source": [
    "Exact_P = [P_exact(q) for q in Qs]"
   ]
  },
  {
   "cell_type": "code",
   "execution_count": 247,
   "id": "198171a6",
   "metadata": {},
   "outputs": [
    {
     "data": {
      "text/plain": [
       "[<matplotlib.lines.Line2D at 0x23d4bd72c90>]"
      ]
     },
     "execution_count": 247,
     "metadata": {},
     "output_type": "execute_result"
    },
    {
     "data": {
      "image/png": "[encoded data removed]",
      "text/plain": [
       "<Figure size 640x480 with 1 Axes>"
      ]
     },
     "metadata": {},
     "output_type": "display_data"
    }
   ],
   "source": [
    "plt.xscale(\"log\")\n",
    "plt.yscale(\"log\")\n",
    "plt.plot(Values_of_P)\n",
    "plt.plot(Exact_P, color='green')"
   ]
  },
  {
   "cell_type": "code",
   "execution_count": null,
   "id": "bc3ab557",
   "metadata": {},
   "outputs": [],
   "source": []
  }
 ],
 "metadata": {
  "kernelspec": {
   "display_name": "Python 3 (ipykernel)",
   "language": "python",
   "name": "python3"
  },
  "language_info": {
   "codemirror_mode": {
    "name": "ipython",
    "version": 3
   },
   "file_extension": ".py",
   "mimetype": "text/x-python",
   "name": "python",
   "nbconvert_exporter": "python",
   "pygments_lexer": "ipython3",
   "version": "3.11.4"
  }
 },
 "nbformat": 4,
 "nbformat_minor": 5
}
