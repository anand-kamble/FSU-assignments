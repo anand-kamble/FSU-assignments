{
 "cells": [
  {
   "cell_type": "code",
   "execution_count": 205,
   "id": "ba1d8598",
   "metadata": {},
   "outputs": [],
   "source": [
    "import numpy as np\n",
    "from typing import Union, Final\n",
    "import matplotlib.pyplot as plt"
   ]
  },
  {
   "cell_type": "code",
   "execution_count": 222,
   "id": "5ec29746",
   "metadata": {},
   "outputs": [],
   "source": [
    "#Defining constants\n",
    "MC_samples:Final[int] = 10**3\n",
    "q_low:Final[float] = 0.1\n",
    "q_high:Final[float] = 30.0\n",
    "q_count:Final[int] = 100\n",
    "domain = {\n",
    "    'X_min' : -1,\n",
    "    'X_max' : 1,\n",
    "    'Y_min' : -1,\n",
    "    'Y_max' : 1,\n",
    "    'Z_min' : -1,\n",
    "    'Z_max' : 1,\n",
    "}\n",
    "Number_of_points_inside_domain = 10"
   ]
  },
  {
   "cell_type": "markdown",
   "id": "eaed1d6f",
   "metadata": {},
   "source": [
    "To get $N$ number of random points which lie inside the sphere, we need to sample more than $N$ points in the given bound. Since the given bound is a cube\n",
    "\n",
    "$$ {V_s \\over V_c} = {{4/3 \\pi r^3} \\over (2r)^3} = {{4\\pi}\\over{24}} = {{\\pi}\\over{6}} \\approx 0.523 $$\n",
    "Here, $r$ is the radius of the sphere, and since we are creating bounds for the sphere, the lenght of the side of the cube will be $2r$. \n",
    "\n",
    "So, the number of samples to be calculated is ${1\\over {\\pi / 6}}N \\approx 1.912N$."
   ]
  },
  {
   "cell_type": "code",
   "execution_count": 223,
   "id": "ac261763",
   "metadata": {},
   "outputs": [],
   "source": [
    "Number_of_samples = int(Number_of_points_inside_domain*(6/np.pi))\n",
    "\n",
    "Random_points = {\n",
    "    'x' : np.random.uniform(domain['X_min'],domain['X_max'],size=Number_of_samples),\n",
    "    'y' : np.random.uniform(domain['Y_min'],domain['Y_max'],size=Number_of_samples),\n",
    "    'z' : np.random.uniform(domain['Z_min'],domain['Z_max'],size=Number_of_samples),\n",
    "}\n",
    "\n",
    "Filter = (Random_points['x']**2 + Random_points['y']**2 + Random_points['z']**2) <= 1\n",
    "\n",
    "Random_points = np.c_[Random_points['x'],Random_points['y'],Random_points['z']]\n",
    "Random_points = Random_points[Filter]\n"
   ]
  },
  {
   "cell_type": "code",
   "execution_count": 224,
   "id": "7fa56a1d",
   "metadata": {},
   "outputs": [],
   "source": [
    "Qs = np.geomspace(q_low,q_high, num = q_count)"
   ]
  },
  {
   "cell_type": "markdown",
   "id": "c7ca9967",
   "metadata": {},
   "source": [
    "$$ P(q) \\approx {2 \\over {N(N-1)}} \\sum_{i = 0}^{N - 1} \\sum_{j = i + 1}^{N} {{sinqR_{i,j}}\\over{qR_{i,j}}}$$"
   ]
  },
  {
   "cell_type": "code",
   "execution_count": 228,
   "id": "08e843d3",
   "metadata": {},
   "outputs": [],
   "source": [
    "def P_q(q):\n",
    "    P = 0\n",
    "    for i in range(len(Random_points)-1):\n",
    "        for j in range(i+1,len(Random_points)):\n",
    "            distance = np.linalg.norm(Random_points[j]-Random_points[i])\n",
    "            qr = q*distance\n",
    "            p_q = np.sin(qr)/(qr)\n",
    "            P = (P + p_q)/2\n",
    "    return P"
   ]
  },
  {
   "cell_type": "markdown",
   "id": "9b086424",
   "metadata": {},
   "source": [
    "$$ P_{exact}(q) = [{{3 \\over {(qR)^3}} (sin(qR) - qRcos(qR))}]^2 $$"
   ]
  },
  {
   "cell_type": "code",
   "execution_count": 229,
   "id": "8dced8ad",
   "metadata": {},
   "outputs": [],
   "source": [
    "def P_exact(q,radius = 1):\n",
    "    return ((3/((q*radius)**3))*(np.sin(q*radius) - q*radius*np.cos(q*radius)))**2"
   ]
  },
  {
   "cell_type": "code",
   "execution_count": 231,
   "id": "d3ecc7fc",
   "metadata": {},
   "outputs": [
    {
     "data": {
      "text/plain": [
       "(0.9986206955199286, 0.9974843685767681)"
      ]
     },
     "execution_count": 231,
     "metadata": {},
     "output_type": "execute_result"
    }
   ],
   "source": [
    "P_q(Qs[2]),P_exact(Qs[2])"
   ]
  },
  {
   "cell_type": "code",
   "execution_count": 227,
   "id": "8ee2ab8a",
   "metadata": {},
   "outputs": [],
   "source": [
    "Values_of_P = [P_q(q) for q in Qs]"
   ]
  },
  {
   "cell_type": "code",
   "execution_count": 220,
   "id": "a72975a5",
   "metadata": {},
   "outputs": [],
   "source": [
    "Exact_P = [P_exact(q) for q in Qs]"
   ]
  },
  {
   "cell_type": "code",
   "execution_count": 221,
   "id": "5ca08dd6",
   "metadata": {},
   "outputs": [
    {
     "data": {
      "text/plain": [
       "[<matplotlib.lines.Line2D at 0x23d43c60810>]"
      ]
     },
     "execution_count": 221,
     "metadata": {},
     "output_type": "execute_result"
    },
    {
     "data": {
      "image/png": "[encoded data removed]",
      "text/plain": [
       "<Figure size 640x480 with 1 Axes>"
      ]
     },
     "metadata": {},
     "output_type": "display_data"
    }
   ],
   "source": [
    "plt.xscale(\"log\")\n",
    "plt.yscale(\"log\")\n",
    "plt.plot(Values_of_P)\n",
    "plt.plot(Exact_P, color='green')"
   ]
  },
  {
   "cell_type": "code",
   "execution_count": null,
   "id": "a777922d",
   "metadata": {},
   "outputs": [],
   "source": []
  }
 ],
 "metadata": {
  "kernelspec": {
   "display_name": "Python 3 (ipykernel)",
   "language": "python",
   "name": "python3"
  },
  "language_info": {
   "codemirror_mode": {
    "name": "ipython",
    "version": 3
   },
   "file_extension": ".py",
   "mimetype": "text/x-python",
   "name": "python",
   "nbconvert_exporter": "python",
   "pygments_lexer": "ipython3",
   "version": "3.11.4"
  }
 },
 "nbformat": 4,
 "nbformat_minor": 5
}
