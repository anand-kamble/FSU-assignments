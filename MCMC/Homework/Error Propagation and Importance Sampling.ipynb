{
 "cells": [
  {
   "cell_type": "markdown",
   "id": "f7f7eea5-8bff-4a4c-8de6-8272dc6a049f",
   "metadata": {},
   "source": [
    "<p style=\"margin-bottom:4px\"><b>Markov Chain Monte Carlo</b></p>\n",
    "<h1 style=\"margin:0px\">Homework: Error Propagation and Importance Sampling</h1>\n",
    "<br/>\n",
    "<p style=\"margin:0px\">Anand Kamble</p>\n",
    "<a href=\"mailto:amk23j@fsu.edu\" style=\"margin:0px\">amk23j@fsu.edu</a>\n",
    "<p>13th October 2023</p>\n",
    "<hr style=\"border:2px solid gray\"/>"
   ]
  },
  {
   "cell_type": "markdown",
   "id": "daeeeb94-0bae-4fc2-8ac9-eefc467328b5",
   "metadata": {},
   "source": [
    "## 1.\n",
    "\n",
    "$$ z_1=6\\ \\pm\\ 2 $$\n",
    "$$ z_2=4\\ \\pm1 $$"
   ]
  },
  {
   "cell_type": "markdown",
   "id": "bb380009-9c60-4108-ae45-c4996427bf63",
   "metadata": {},
   "source": [
    "Let the errors in $z_1$ and $z_2$ be $\\sigma_{z_1}$ and $\\sigma_{z_2}$ respectively.\n",
    "\n",
    "<hr style=\"border:1px solid gray\"/>"
   ]
  },
  {
   "cell_type": "markdown",
   "id": "4b4120db-ffe7-4e93-be10-3eba8244f452",
   "metadata": {},
   "source": [
    "#### A.\n",
    "$$\\bar{z}=\\frac{\\left(z_1+z_2\\right)}{2}$$\n",
    "And the error will be,\n",
    "\n",
    "$$\\sigma_{\\bar{z}} = \\sqrt{ ( {\\partial{\\bar{z}} \\over \\partial{z_1}} \\sigma_{z_1})^2+( {\\partial{\\bar{z}} \\over \\partial{z_2}} \\sigma_{z_2})^2}$$\n",
    "\n",
    "$$ \\sigma_{\\bar{z}} = \\sqrt{ ( { 1\\over 2} 2)^2 + ({1 \\over 2} 1)^2 } $$\n",
    "\n",
    "$$ \\sigma_{\\bar{z}} = \\sqrt{ 1 + {1 \\over 4} } $$\n",
    "\n",
    "$$ \\sigma_{\\bar{z}} = {\\sqrt{5} \\over 2} $$"
   ]
  },
  {
   "cell_type": "markdown",
   "id": "18519809-570b-4ebb-a384-caea17a2e5c4",
   "metadata": {},
   "source": [
    "<hr style=\"border:1px solid gray\"/>"
   ]
  },
  {
   "cell_type": "markdown",
   "id": "b3e76791-0a3f-4cc3-85b3-5cd9bf8bdead",
   "metadata": {},
   "source": [
    "#### B.\n",
    "\n",
    "$$ \\bar{z_w}=wz_1+\\left(1-w\\right)z_2 $$\n",
    "\n",
    "$$ \\sigma_{\\bar{z_w}} = \\sqrt{ ({\\partial{\\bar{z_w}}\\over \\partial{z_1}} \\sigma_{z_1})^2 + ({\\partial{\\bar{z_w}}\\over \\partial{z_2}} \\sigma_{z_2}})^2   $$\n",
    "\n",
    "$$ \\sigma_{\\bar{z_w}} = \\sqrt{(2w)^2 + (1-w)^2} $$\n",
    "\n",
    "$$ \\sigma_{\\bar{z_w}} = \\sqrt{4w^2 + (1-w)^2 } $$"
   ]
  },
  {
   "cell_type": "markdown",
   "id": "d5b861f5-76dd-4068-983c-4844afec1aa6",
   "metadata": {},
   "source": [
    "<hr style=\"border:1px solid gray\"/>"
   ]
  },
  {
   "cell_type": "markdown",
   "id": "2b34e50e-4653-4628-91c7-6bac641ae964",
   "metadata": {},
   "source": [
    "#### C.\n",
    "\n",
    "To minmize the error $\\sigma_{\\bar{z_w}} $ ,\n",
    "\n",
    "Substituting $w = 0$,\n",
    "\n",
    "$$ \\sigma_{\\bar{z_w}} = \\sqrt{4(0)^2 + (1-0)^2 } $$\n",
    "\n",
    "$$ \\sigma_{\\bar{z_w}} = 1 $$\n",
    "\n",
    "Consider, $w_1 = w$ and $w_2 = (1 - w)$\n",
    "$$ \\bar{z_w}=w_1z_1+w_2z_2 $$\n",
    "\n",
    "\n",
    "$$ \\sigma_{\\bar{z_w}} = \\sqrt{ ({\\partial{\\bar{z_w}}\\over \\partial{z_1}} \\sigma_{z_1})^2 + ({\\partial{\\bar{z_w}}\\over \\partial{z_2}} \\sigma_{z_2}})^2   $$\n",
    "\n",
    "$$ \\sigma_{\\bar{z_w}} = \\sqrt{(w_1 \\sigma_{z_1})^2 + (w_2 \\sigma_{z_2})^2}$$\n",
    "\n",
    "Using the minimum value of error,\n",
    "\n",
    "$$ 1 = \\sqrt{(w_1 \\sigma_{z_1})^2 + (w_2 \\sigma_{z_2})^2}$$\n",
    "\n",
    "$$ 1 = (w_1 \\sigma_{z_1})^2 + (w_2 \\sigma_{z_2})^2$$\n",
    "\n",
    "substituting $w_1 = 0$, we get,\n",
    "\n",
    "$$ 1 = (w_2 \\sigma_{z_2})^2 $$\n",
    "\n",
    "$$ 1 = {w_2}^2 \\sigma_{z_2}^2 $$\n",
    "\n",
    "$$ {1 \\over \\sigma_{z_2}^2} = {w_2}^2 $$\n",
    "\n",
    "Similarly,\n",
    "\n",
    "$$ {1 \\over \\sigma_{z_1}^2} = {w_1}^2 $$\n"
   ]
  },
  {
   "cell_type": "markdown",
   "id": "3aba7bad-da0a-4ef7-8bb0-d895c441af2c",
   "metadata": {},
   "source": [
    "<hr style=\"border:1px solid gray\"/>"
   ]
  },
  {
   "cell_type": "markdown",
   "id": "7b066a1a-82fa-489e-8a0a-f2efde3e71c5",
   "metadata": {},
   "source": [
    "#### D."
   ]
  },
  {
   "cell_type": "markdown",
   "id": "f38fe855-e6cc-4510-ad60-cf7546b8716e",
   "metadata": {},
   "source": [
    "Corresponding values of $\\bar{z_w}$ and $\\sigma_{\\bar{z_w}}$, at $w=0$ will be,\n",
    "\n",
    "$$ \\bar{z_w} = z_2 = 4 $$\n",
    "\n",
    "$$\\sigma_{\\bar{z_w}} = 1$$"
   ]
  },
  {
   "cell_type": "markdown",
   "id": "ea3ba0b6-2fc4-48af-817c-11f40a1953f3",
   "metadata": {},
   "source": [
    "<hr style=\"border:2px solid gray\"/>"
   ]
  },
  {
   "cell_type": "code",
   "execution_count": 1,
   "id": "bce71f4d-70a4-4867-b693-735228d59912",
   "metadata": {},
   "outputs": [],
   "source": [
    "import numpy as np\n",
    "import matplotlib.pyplot as plt\n",
    "from IPython.display import Markdown, display"
   ]
  },
  {
   "cell_type": "markdown",
   "id": "205eb51d-bd0d-47c5-b1e3-099ebb39e89e",
   "metadata": {},
   "source": [
    "## 2.\n",
    "\n",
    "$$ I = \\int_{0}^{\\infty} x^{1/2}e^{-x}dx $$\n",
    "\n",
    "Since the given function has domain $[0,\\infty]$,\n",
    "\n",
    "Substituting $y = x^{1 \\over 2}$,and $dx = 2ydy$, \n",
    "\n",
    "$$ I = \\int_{y=0}^{y=1} ye^{-y^2}2ydy $$\n",
    "\n",
    "\n",
    "Exponential distribution,\n",
    "\n",
    "$$ \\pi(x) = e^{-x}, \\ \\ x \\geq 0$$\n",
    "\n",
    "$$ u = F(x) = -e^{-x} $$\n",
    "\n",
    "$$ x = -log(u) $$\n",
    "\n"
   ]
  },
  {
   "cell_type": "code",
   "execution_count": 2,
   "id": "74376456-2d57-49f2-b161-26d52c28f6af",
   "metadata": {},
   "outputs": [
    {
     "data": {
      "image/png": "[encoded data removed]",
      "text/plain": [
       "<Figure size 640x480 with 1 Axes>"
      ]
     },
     "metadata": {},
     "output_type": "display_data"
    }
   ],
   "source": [
    "def exponentialDist(npts):\n",
    "    u = np.random.rand(npts)\n",
    "    return -np.log(u)\n",
    "\n",
    "plt.title(\"Exponential distribution\")\n",
    "plt.hist(exponentialDist(1000));"
   ]
  },
  {
   "cell_type": "code",
   "execution_count": 3,
   "id": "845fc5a2-616d-4b8a-81ef-eb720992a498",
   "metadata": {},
   "outputs": [
    {
     "data": {
      "text/markdown": [
       "### Error in importance sampling is 0.025346685662124474"
      ],
      "text/plain": [
       "<IPython.core.display.Markdown object>"
      ]
     },
     "metadata": {},
     "output_type": "display_data"
    }
   ],
   "source": [
    "def importanceSampling(npts):\n",
    "    x = exponentialDist(npts)\n",
    "    f = x**2 * np.exp(-x**2) * 2    \n",
    "    p = np.exp(-x)\n",
    "        \n",
    "    intg = np.mean(f/p)\n",
    "    stdI = np.std((f/p))/np.sqrt(npts)\n",
    "    return intg, stdI\n",
    "\n",
    "\n",
    "npts = 10**3\n",
    "intg,stdI = importanceSampling(npts)\n",
    "\n",
    "display(Markdown(f\"### Error in importance sampling is {stdI}\"))"
   ]
  },
  {
   "cell_type": "markdown",
   "id": "ad7bd92a-2201-40fe-9f56-7750479af5b7",
   "metadata": {},
   "source": [
    "<hr style=\"border:2px solid gray\"/>"
   ]
  },
  {
   "cell_type": "markdown",
   "id": "cb5966f8-2811-408e-acb1-d380ba4c847d",
   "metadata": {},
   "source": [
    "## 3.\n",
    "\n",
    "$$ I = \\int_{0}^{\\pi} f(x)dx = \\int_{0}^{\\pi} {{dx} \\over {x^2 + cos^2x}}$$\n",
    "\n",
    "\n",
    "To normalize the probability density function (PDF) π(x) = e^(-ax) over its entire range, you need to find the normalization constant such that the integral of the PDF over the entire range equals 1.\n",
    "\n",
    "The probability density function is given by: $\\pi(x) = e^{-ax}$\n",
    "\n",
    "To normalize it, you need to find the normalization constant $C$ such that:\n",
    "\n",
    "$$\\int_{-\\infty}^{\\infty} Ce^{-ax} \\,dx = 1 $$\n",
    "\n",
    "Now, solve for $ C $:\n",
    "\n",
    "$$ C \\int_{-\\infty}^{\\infty} e^{-ax} \\,dx = 1 $$\n",
    "\n",
    "$$ C \\left[ -\\frac{1}{a}e^{-ax} \\right]_{-\\infty}^{\\infty} = 1 $$\n",
    "\n",
    "$ e^{-ax} $ goes to 0 as $ x $ approaches infinity. \n",
    "\n",
    "$ e^{-ax} $ goes to infinity as $ x $ approaches negative infinity.\n",
    "\n",
    "$$ C \\left[ -\\frac{1}{a} \\cdot 0 - \\left(-\\frac{1}{a} \\cdot \\infty \\right) \\right] = 1 $$\n",
    "\n",
    "$$ C \\cdot \\frac{1}{a} \\cdot \\infty = 1 $$\n",
    "\n",
    "To make this integral equal to 1, $ C $ must be $ \\frac{a}{\\infty} $. Since $ \\frac{a}{\\infty} $ is 0,$ C $ becomes:\n",
    "\n",
    "$$ C = \\frac{1}{a}$$\n",
    "\n",
    "Therefore, the normalized probability density function $ \\pi(x) $ is:\n",
    "\n",
    "$$ \\pi(x) = \\frac{1}{a}e^{-ax} $$\n",
    "\n",
    "This ensures that the integral of $ \\pi(x) $ over its entire range is equal to 1.\n"
   ]
  },
  {
   "cell_type": "code",
   "execution_count": 4,
   "id": "aa7ec97d-2521-47b7-9030-c978202a018e",
   "metadata": {},
   "outputs": [
    {
     "data": {
      "image/png": "[encoded data removed]",
      "text/plain": [
       "<Figure size 640x480 with 1 Axes>"
      ]
     },
     "metadata": {},
     "output_type": "display_data"
    }
   ],
   "source": [
    "def Dist(npts,a = 1):\n",
    "    u = np.random.rand(npts)\n",
    "    return (1/a)*np.exp(-a*u)\n",
    "\n",
    "plt.title(\"Normalized Histogram\")\n",
    "plt.hist(Dist(1000),bins=30,density=True);"
   ]
  },
  {
   "cell_type": "code",
   "execution_count": 5,
   "id": "71847959-2e41-4012-84f2-cba912e02cf9",
   "metadata": {},
   "outputs": [
    {
     "data": {
      "image/png": "[encoded data removed]",
      "text/plain": [
       "<Figure size 640x480 with 1 Axes>"
      ]
     },
     "metadata": {},
     "output_type": "display_data"
    }
   ],
   "source": [
    "def importanceSampling(npts, a):\n",
    "    x = Dist(npts,a)\n",
    "    f = 1 / (x**2 + np.cos(x)**2)    \n",
    "    p = np.exp(-x)\n",
    "        \n",
    "    intg = np.mean(f/p)\n",
    "    stdI = np.std((f/p))/np.sqrt(npts)\n",
    "    return intg, stdI\n",
    "\n",
    "a = np.linspace(0.05,2.0,200)\n",
    "npts = 10**5\n",
    "\n",
    "\n",
    "results = [importanceSampling(npts,ai) for ai in a]\n",
    "errors = list(list(zip(*results))[1])\n",
    "\n",
    "plt.ylabel(\"$\\sigma_I(a)$\")\n",
    "plt.xlabel(\"a\")\n",
    "plt.plot(a,errors);"
   ]
  },
  {
   "cell_type": "code",
   "execution_count": 6,
   "id": "42c8b233-7085-4f3b-87b6-fbda08a703a5",
   "metadata": {},
   "outputs": [
    {
     "data": {
      "text/markdown": [
       "### The value of a which minimizes variance is 0.37336683417085426"
      ],
      "text/plain": [
       "<IPython.core.display.Markdown object>"
      ]
     },
     "metadata": {},
     "output_type": "display_data"
    }
   ],
   "source": [
    "display(Markdown(f\"### The value of a which minimizes variance is {a[np.argmin(errors)]}\"))"
   ]
  }
 ],
 "metadata": {
  "kernelspec": {
   "display_name": "Python 3 (ipykernel)",
   "language": "python",
   "name": "python3"
  },
  "language_info": {
   "codemirror_mode": {
    "name": "ipython",
    "version": 3
   },
   "file_extension": ".py",
   "mimetype": "text/x-python",
   "name": "python",
   "nbconvert_exporter": "python",
   "pygments_lexer": "ipython3",
   "version": "3.11.4"
  }
 },
 "nbformat": 4,
 "nbformat_minor": 5
}
