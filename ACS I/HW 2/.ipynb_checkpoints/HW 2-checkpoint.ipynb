{
 "cells": [
  {
   "cell_type": "markdown",
   "id": "f2d29df5",
   "metadata": {
    "editable": false
   },
   "source": [
    "<p></p><p style=\"margin-bottom:4px\"><b>Applied Computational Science</b></p><p></p>\n",
    "<p></p><h1 style=\"margin:0px\">Homework: Linear Algebra.</h1>\n",
    "<br><p></p>\n",
    "<p></p><p style=\"margin:0px\">Anand Kamble</p>\n",
    "<a href=\"mailto:amk23j@fsu.edu\" style=\"margin:0px\">amk23j@fsu.edu</a><p></p>\n",
    "<p></p><p>29th October 2023</p><p></p>\n",
    "<hr style=\"border:2px solid gray\">"
   ]
  },
  {
   "cell_type": "markdown",
   "id": "3f8c9b9c",
   "metadata": {
    "editable": false
   },
   "source": [
    "### 3."
   ]
  },
  {
   "cell_type": "code",
   "execution_count": 1,
   "id": "3942fd35",
   "metadata": {
    "editable": false
   },
   "outputs": [],
   "source": [
    "import numpy as np"
   ]
  },
  {
   "cell_type": "code",
   "execution_count": 2,
   "id": "90d558d1",
   "metadata": {
    "editable": false
   },
   "outputs": [],
   "source": [
    "def power_method(A, x0, tol=1e-8, max_iter=1000):\n",
    "    x = x0\n",
    "    lambda_prev = 0\n",
    "\n",
    "    for i in range(max_iter):\n",
    "        y = np.dot(A, x)\n",
    "        lambda_max = np.linalg.norm(y, np.inf)\n",
    "        x = y / lambda_max\n",
    "\n",
    "        if abs(lambda_max - lambda_prev) < tol:\n",
    "            break\n",
    "\n",
    "        lambda_prev = lambda_max\n",
    "\n",
    "    return lambda_max, x"
   ]
  },
  {
   "cell_type": "code",
   "execution_count": 3,
   "id": "a487f171",
   "metadata": {
    "editable": false
   },
   "outputs": [],
   "source": [
    "def inverse_power_method(A, x0, tol=1e-8, max_iter=1000):\n",
    "    x = x0\n",
    "    lambda_prev = 0\n",
    "\n",
    "    for i in range(max_iter):\n",
    "        y = np.linalg.solve(A, x)\n",
    "        lambda_min = np.linalg.norm(y, np.inf)\n",
    "        x = y / lambda_min\n",
    "\n",
    "        if abs(lambda_min - lambda_prev) < tol:\n",
    "            break\n",
    "\n",
    "        lambda_prev = lambda_min\n",
    "\n",
    "    return 1 / lambda_min, x"
   ]
  },
  {
   "cell_type": "code",
   "execution_count": 4,
   "id": "109fe1d3",
   "metadata": {
    "editable": false
   },
   "outputs": [
    {
     "name": "stdout",
     "output_type": "stream",
     "text": [
      "Largest Eigenvalue (Power Method): 66.0147\n",
      "Largest Eigenvalue (Exact): 66.0147\n",
      "\n",
      "Smallest Eigenvalue (Inverse Power Method): 1.6655\n",
      "Smallest Eigenvalue (Exact): 1.6655\n"
     ]
    }
   ],
   "source": [
    "A = np.array([[4, 4, 0, 0],\n",
    "              [4, 20, 12, 0],\n",
    "              [0, 12, 18, 15],\n",
    "              [0, 0, 15, 61]])\n",
    "\n",
    "# Initial guess\n",
    "x0 = np.array([1, 1, 1, 1])\n",
    "\n",
    "# Power method for largest eigenvalue\n",
    "lambda_max, eigenvector_max = power_method(A, x0)\n",
    "\n",
    "# Inverse power method for smallest eigenvalue\n",
    "lambda_min, eigenvector_min = inverse_power_method(A, x0)\n",
    "\n",
    "print(f\"Largest Eigenvalue (Power Method): {lambda_max:.4f}\")\n",
    "print(f\"Largest Eigenvalue (Exact): 66.0147\")\n",
    "print()\n",
    "print(f\"Smallest Eigenvalue (Inverse Power Method): {lambda_min:.4f}\")\n",
    "print(f\"Smallest Eigenvalue (Exact): 1.6655\")"
   ]
  },
  {
   "cell_type": "markdown",
   "id": "594742ad",
   "metadata": {
    "editable": false
   },
   "source": [
    "### Condition Number "
   ]
  },
  {
   "cell_type": "code",
   "execution_count": 5,
   "id": "530f7fee",
   "metadata": {
    "editable": false
   },
   "outputs": [
    {
     "name": "stdout",
     "output_type": "stream",
     "text": [
      "Condition Number of A: 39.6377\n"
     ]
    }
   ],
   "source": [
    "# Calculate the condition number\n",
    "condition_number = lambda_max / lambda_min\n",
    "\n",
    "# Display the result\n",
    "print(f\"Condition Number of A: {condition_number:.4f}\")"
   ]
  }
 ],
 "metadata": {
  "kernelspec": {
   "display_name": "Python 3 (ipykernel)",
   "language": "python",
   "name": "python3"
  },
  "language_info": {
   "codemirror_mode": {
    "name": "ipython",
    "version": 3
   },
   "file_extension": ".py",
   "mimetype": "text/x-python",
   "name": "python",
   "nbconvert_exporter": "python",
   "pygments_lexer": "ipython3",
   "version": "3.10.6"
  }
 },
 "nbformat": 4,
 "nbformat_minor": 5
}
