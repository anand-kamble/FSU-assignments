{
 "cells": [
  {
   "cell_type": "markdown",
   "id": "e32a7f01",
   "metadata": {},
   "source": [
    "<p><b>Applied Computational Science I</b></p>\n",
    "<h1 style=\"margin:0px\">Lab: Adaptive Quadrature</h1>\n",
    "<br/>\n",
    "<p>Anand Kamble</p>\n",
    "<a href=\"mailto:amk23j@fsu.edu\">amk23j@fsu.edu</a>\n",
    "<p>17th November 2023</p>\n",
    "<hr style=\"border:2px solid gray\"/>"
   ]
  },
  {
   "cell_type": "code",
   "execution_count": 3,
   "id": "fe680ef3",
   "metadata": {},
   "outputs": [],
   "source": [
    "import numpy as np\n",
    "import matplotlib.pyplot as plt"
   ]
  },
  {
   "cell_type": "code",
   "execution_count": 4,
   "id": "4a450cca",
   "metadata": {},
   "outputs": [],
   "source": [
    "from kronrod import kronrod"
   ]
  },
  {
   "cell_type": "markdown",
   "id": "bdea2aa0",
   "metadata": {},
   "source": [
    "---"
   ]
  },
  {
   "cell_type": "markdown",
   "id": "41626a5b",
   "metadata": {},
   "source": [
    "The period of a simple pendulum is given by an integral,\n",
    "$$ K(x) = \\int_{0}^{\\pi \\over 2} {d\\theta \\over {\\sqrt{1 - x^2sin^2\\theta}}} $$"
   ]
  },
  {
   "cell_type": "code",
   "execution_count": 24,
   "id": "2a0d11dc",
   "metadata": {},
   "outputs": [],
   "source": [
    "def K(x,theta):\n",
    "    return 1/np.sqrt(1 - x**2*(np.sin(theta)**2))"
   ]
  },
  {
   "cell_type": "markdown",
   "id": "b909ae09",
   "metadata": {},
   "source": [
    "---\n",
    "\n",
    "To transform the integral domain from [0,π/2] to [-1,1], we can use\n",
    "$$ \\int_{a}^{b} f(x)dx = {{b-a}\\over2} \\sum_{i=0}^{n} w_{i}f({{b-a}\\over{2}}x_i + {{b-a}\\over{2}}) $$"
   ]
  },
  {
   "cell_type": "code",
   "execution_count": 38,
   "id": "c920c275",
   "metadata": {},
   "outputs": [],
   "source": [
    "def f(n):\n",
    "    tol = 1e-5\n",
    "    Nodes,w1,w2 = kronrod(n,tol)\n",
    "    y0 = np.zeros([n+1])\n",
    "    x = np.linspace(0,1,51)\n",
    "    y = np.pi/4 * K(0.5, (np.pi / 4 * x) + (np.pi/4))\n",
    "    intgG = np.pi/4 *np.sum(w1 * K(0.5,Nodes))\n",
    "    intgK = np.pi/4 *np.sum(w2 * K(0.5,Nodes))\n",
    "    intgG_ = np.pi/4 *np.sum( w1 * K(0.5,-Nodes[::-1]))\n",
    "    intgK_ = np.pi/4 *np.sum( w2 * K(0.5,-Nodes[::-1]))\n",
    "    G_Result = intgG_ + intgG\n",
    "    K_Result = intgK_ + intgK\n",
    "    error = np.abs(G_Result - K_Result)\n",
    "    return G_Result, K_Result, error"
   ]
  },
  {
   "cell_type": "markdown",
   "id": "9dd7056d",
   "metadata": {},
   "source": [
    "### 1.\n",
    "\n",
    "---"
   ]
  },
  {
   "cell_type": "markdown",
   "id": "5f5cc652",
   "metadata": {},
   "source": [
    "Evaluating the integral for $ 0 \\leq x \\leq 1 $ and increasing the value of $n$ at every iteration until the error is less than the tolerance."
   ]
  },
  {
   "cell_type": "code",
   "execution_count": 46,
   "id": "51a6a784",
   "metadata": {},
   "outputs": [
    {
     "name": "stdout",
     "output_type": "stream",
     "text": [
      "Reached Max number of N\n"
     ]
    }
   ],
   "source": [
    "tolerance = 1e-2\n",
    "maxN = 100\n",
    "\n",
    "for n in range(1,maxN):\n",
    "    intgG, intgK, error = f(n)\n",
    "    if(error <= tolerance):\n",
    "        print(f\"Error is Less than tolerance at n={n}\")\n",
    "        break\n",
    "    if(n == (maxN-1)):\n",
    "        print(\"Reached Max number of N\")"
   ]
  },
  {
   "cell_type": "markdown",
   "id": "d5e26861",
   "metadata": {},
   "source": [
    "### 2.\n",
    "---\n",
    "\n",
    "Using $x = 0.5$, we get,"
   ]
  },
  {
   "cell_type": "code",
   "execution_count": 67,
   "id": "0972313c",
   "metadata": {},
   "outputs": [
    {
     "name": "stdout",
     "output_type": "stream",
     "text": [
      "Integral by Gauss Weights         :  1.7755579623831594\n",
      "Integral by Gauss-Kronrod Weights :  1.6521617510399158\n",
      "Benchmark                         :  1.5707963267948966\n",
      "Error                             :  0.12339621134324363\n"
     ]
    },
    {
     "data": {
      "image/png": "[encoded data removed]",
      "text/plain": [
       "<Figure size 640x480 with 1 Axes>"
      ]
     },
     "metadata": {},
     "output_type": "display_data"
    }
   ],
   "source": [
    "n = 10\n",
    "tol = 1e-5\n",
    "\n",
    "Nodes,w1,w2 = kronrod(n,tol)\n",
    "\n",
    "y0 = np.zeros([n+1])\n",
    "\n",
    "x = np.linspace(0,1,51)\n",
    "y = np.pi/4 * K(0.5, (np.pi / 4 * x) + (np.pi/4))\n",
    "\n",
    "plt.plot(x,y,Nodes,w1 * K(0.5,Nodes),'o-')\n",
    "\n",
    "\n",
    "\n",
    "intgG = np.pi/4 *np.sum(w1 * K(0.5,Nodes))\n",
    "intgK = np.pi/4 *np.sum(w2 * K(0.5,Nodes))\n",
    "\n",
    "intgG_ = np.pi/4 *np.sum( w1 * K(0.5,-Nodes[::-1]))\n",
    "intgK_ = np.pi/4 *np.sum( w2 * K(0.5,-Nodes[::-1]))\n",
    "\n",
    "G_Result = intgG_ + intgG\n",
    "K_Result = intgK_ + intgK\n",
    "\n",
    "error = G_Result - K_Result\n",
    "print('Integral by Gauss Weights         : ',G_Result)\n",
    "print('Integral by Gauss-Kronrod Weights : ', K_Result)\n",
    "print('Benchmark                         : ',np.pi/2)\n",
    "print(\"Error                             : \",error)"
   ]
  },
  {
   "cell_type": "markdown",
   "id": "cfa7cca8",
   "metadata": {},
   "source": [
    "---"
   ]
  }
 ],
 "metadata": {
  "kernelspec": {
   "display_name": "Python 3 (ipykernel)",
   "language": "python",
   "name": "python3"
  },
  "language_info": {
   "codemirror_mode": {
    "name": "ipython",
    "version": 3
   },
   "file_extension": ".py",
   "mimetype": "text/x-python",
   "name": "python",
   "nbconvert_exporter": "python",
   "pygments_lexer": "ipython3",
   "version": "3.10.6"
  }
 },
 "nbformat": 4,
 "nbformat_minor": 5
}
