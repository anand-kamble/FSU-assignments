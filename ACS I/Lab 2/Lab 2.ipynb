{
 "cells": [
  {
   "cell_type": "code",
   "execution_count": 1,
   "metadata": {},
   "outputs": [],
   "source": [
    "import numpy as np\n",
    "import typing"
   ]
  },
  {
   "cell_type": "code",
   "execution_count": 2,
   "metadata": {},
   "outputs": [],
   "source": [
    "# Generate a nxn matrix.\n",
    "n =5\n",
    "\n",
    "matrix = np.random.randint(2,size=(n,n))\n",
    "\n",
    "# Function which checks that all the elements have at least one value that is '1'.\n",
    "def validateMatrix(matrix):\n",
    "    for row in matrix:\n",
    "        if not 1 in row:\n",
    "            matrix =np.random.randint(2,size=(n,n))\n",
    "            validateMatrix(matrix) \n",
    "            \n",
    "# Validate the generated matrix.\n",
    "validateMatrix(matrix)"
   ]
  },
  {
   "cell_type": "code",
   "execution_count": 3,
   "metadata": {},
   "outputs": [],
   "source": [
    "damping_factor = 0.85\n",
    "number_of_webpages = 3\n",
    "\n",
    "B = np.full(n,(1 - damping_factor)/ number_of_webpages)"
   ]
  },
  {
   "cell_type": "markdown",
   "metadata": {},
   "source": [
    "$ B =  {{1 - d } \\over n} $"
   ]
  },
  {
   "cell_type": "code",
   "execution_count": 4,
   "metadata": {},
   "outputs": [],
   "source": [
    "IdentityMatrix = np.identity(n)\n",
    "\n"
   ]
  },
  {
   "cell_type": "code",
   "execution_count": 5,
   "metadata": {},
   "outputs": [],
   "source": [
    "A = IdentityMatrix - damping_factor*matrix"
   ]
  },
  {
   "cell_type": "code",
   "execution_count": 6,
   "metadata": {},
   "outputs": [
    {
     "data": {
      "text/plain": [
       "array([ 0.02427052, -0.04086447, -0.10089992,  0.00549496, -0.03576493])"
      ]
     },
     "execution_count": 6,
     "metadata": {},
     "output_type": "execute_result"
    }
   ],
   "source": [
    "np.linalg.solve(A,B)\n"
   ]
  },
  {
   "cell_type": "code",
   "execution_count": 7,
   "metadata": {},
   "outputs": [],
   "source": [
    "# Method 2 \n",
    "E = np.full((n,n),1) \n",
    "Mbar = damping_factor*matrix + B@E\n",
    "Mbar = Mbar /np.linalg.norm(Mbar)"
   ]
  },
  {
   "cell_type": "markdown",
   "metadata": {},
   "source": [
    "Here, Mbar is $(dM + {{1 - d } \\over n} E)$"
   ]
  },
  {
   "cell_type": "code",
   "execution_count": 27,
   "metadata": {},
   "outputs": [
    {
     "name": "stdout",
     "output_type": "stream",
     "text": [
      "0.0881608916483607\n",
      "0.02904820065914197\n",
      "0.009896307651361468\n",
      "0.0032009573112208724\n",
      "0.0010360997697106782\n",
      "0.00032634618527708234\n",
      "0.00010224594500730954\n",
      "3.1553954025792774e-05\n",
      "9.688478243984671e-06\n",
      "2.9484398000004828e-06\n",
      "8.936829613856386e-07\n",
      "2.693867108924375e-07\n",
      "8.095679294566548e-08\n",
      "2.4242571637577392e-08\n",
      "7.243196684619973e-09\n",
      "2.1589608671172203e-09\n",
      "6.424570895234433e-10\n"
     ]
    }
   ],
   "source": [
    "# Assuming Mbar is defined somewhere in your code\n",
    "\n",
    "n = len(Mbar)\n",
    "error = 1\n",
    "tol = 10e-10\n",
    "R = np.random.rand(n)\n",
    "while error > tol:\n",
    "# for _ in range(10):\n",
    "    R_new = Mbar @ R\n",
    "    R_new = R_new / np.linalg.norm(R_new)\n",
    "    lamda = (R_new @ Mbar @ R_new) / (R_new @ R_new)\n",
    "    R = R_new\n",
    "    R = R / np.linalg.norm(R)\n",
    "    error = np.linalg.norm(Mbar @ R - lamda * R)\n",
    "    print(error)\n"
   ]
  },
  {
   "cell_type": "code",
   "execution_count": null,
   "metadata": {},
   "outputs": [],
   "source": [
    "import numpy as np\n",
    "import timeit\n",
    "import matplotlib.pyplot as plt\n",
    "\n",
    "def create_adjacency_matrix(n):\n",
    "    A = np.random.randint(0, 2, (n, n))\n",
    "    np.fill_diagonal(A, 0)\n",
    "    while np.any(np.sum(A, axis=0) == 0):\n",
    "        A = np.random.randint(0, 2, (n, n))\n",
    "        np.fill_diagonal(A, 0)\n",
    "    return A\n",
    "\n",
    "def method_1(A, d=0.85):\n",
    "    n = A.shape[0]\n",
    "    M = A / np.sum(A, axis=0)\n",
    "    R = np.linalg.solve(np.eye(n) - d * M, (1 - d) / n * np.ones(n))\n",
    "    return R\n",
    "\n",
    "def power_method(A, d=0.85, tol=1e-6, max_iter=100):\n",
    "    n = A.shape[0]\n",
    "    M = A / np.sum(A, axis=0)\n",
    "    M_hat = d * M + (1 - d) / n * np.ones((n, n))\n",
    "    R = np.ones(n) / n\n",
    "    for _ in range(max_iter):\n",
    "        R_next = M_hat @ R\n",
    "        if np.linalg.norm(R_next - R) < tol:\n",
    "            break\n",
    "        R = R_next\n",
    "    return R\n",
    "\n",
    "def measure_time(n_values):\n",
    "    method_1_times = []\n",
    "    method_2_times = []\n",
    "\n",
    "    for n in n_values:\n",
    "        A = create_adjacency_matrix(n)\n",
    "\n",
    "        method_1_timer = timeit.Timer(lambda: method_1(A))\n",
    "        method_1_times.append(method_1_timer.timeit(number=1))\n",
    "\n",
    "        method_2_timer = timeit.Timer(lambda: power_method(A))\n",
    "        method_2_times.append(method_2_timer.timeit(number=1))\n",
    "\n",
    "    return method_1_times, method_2_times\n",
    "\n",
    "n_values = [5, 10, 50, 100, 500, 1000, 2000, 5000]\n",
    "method_1_times, method_2_times = measure_time(n_values)\n",
    "\n",
    "plt.loglog(n_values, method_1_times, label=\"Method 1\")\n",
    "plt.loglog(n_values, method_2_times, label=\"Method 2\")\n",
    "plt.xlabel(\"n\")\n",
    "plt.ylabel(\"Time (s)\")\n",
    "plt.legend()\n",
    "plt.show()\n"
   ]
  },
  {
   "cell_type": "code",
   "execution_count": null,
   "metadata": {},
   "outputs": [],
   "source": []
  },
  {
   "cell_type": "code",
   "execution_count": null,
   "metadata": {},
   "outputs": [],
   "source": []
  },
  {
   "cell_type": "code",
   "execution_count": null,
   "metadata": {},
   "outputs": [],
   "source": []
  },
  {
   "cell_type": "code",
   "execution_count": 10,
   "metadata": {},
   "outputs": [],
   "source": [
    "\n",
    "# for i in range(20):\n",
    "#     print(np.linalg.norm(np.abs(Mbar*R - 1*R)))\n",
    "#     R_T = np.dot(Mbar, R)\n",
    "#     R_T_norm = np.linalg.norm(R_T)\n",
    "#     R =  R_T / R_T_norm\n",
    "        \n"
   ]
  },
  {
   "cell_type": "code",
   "execution_count": 11,
   "metadata": {},
   "outputs": [],
   "source": [
    "# R = np.random.rand(A.shape[1])\n",
    "\n",
    "# def powerMethod(M,R):\n",
    "#     for i in range(1000):\n",
    "#         MR = np.dot(M, R)\n",
    "#         RT = np.transpose(R)\n",
    "#         RTMR = np.dot(RT,MR)\n",
    "#         RTR = np.dot(RT,R)\n",
    "#         lamda = RTMR / RTR\n",
    "#     return lamda\n",
    "        \n",
    "# powerMethod(M_,np.random.rand(n))"
   ]
  }
 ],
 "metadata": {
  "kernelspec": {
   "display_name": "Python 3 (ipykernel)",
   "language": "python",
   "name": "python3"
  },
  "language_info": {
   "codemirror_mode": {
    "name": "ipython",
    "version": 3
   },
   "file_extension": ".py",
   "mimetype": "text/x-python",
   "name": "python",
   "nbconvert_exporter": "python",
   "pygments_lexer": "ipython3",
   "version": "3.11.4"
  }
 },
 "nbformat": 4,
 "nbformat_minor": 4
}
