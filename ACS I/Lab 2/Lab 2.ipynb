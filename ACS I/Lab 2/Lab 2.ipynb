{
 "cells": [
  {
   "cell_type": "markdown",
   "metadata": {},
   "source": [
    "<p><b>Applied Computational Science I</b></p>\n",
    "<h1 style=\"margin:0px\">Lab: Linear Algebra: Google PageRank</h1>\n",
    "<br/>\n",
    "<p>Anand Kamble</p>\n",
    "<a href=\"mailto:amk23j@fsu.edu\">amk23j@fsu.edu</a>\n",
    "<p>5th October 2023</p>\n",
    "<hr style=\"border:2px solid gray\"/>"
   ]
  },
  {
   "cell_type": "code",
   "execution_count": 1,
   "metadata": {},
   "outputs": [],
   "source": [
    "# Importing required packages.\n",
    "import numpy as np\n",
    "import timeit\n",
    "import matplotlib.pyplot as plt\n",
    "from IPython.display import Markdown, display, Latex"
   ]
  },
  {
   "cell_type": "code",
   "execution_count": 2,
   "metadata": {},
   "outputs": [],
   "source": [
    "# Helper functions\n",
    "def np_array_to_latex(arr, title = \"\"):\n",
    "    \"\"\"\n",
    "    Convert a NumPy array to a LaTeX formatted string.\n",
    "\n",
    "    Parameters\n",
    "    ----------\n",
    "    arr : numpy.ndarray\n",
    "        The NumPy array to convert to LaTeX.\n",
    "    title : str, optional\n",
    "        A title to prepend to the LaTeX string, by default \"\".\n",
    "\n",
    "    Returns\n",
    "    -------\n",
    "    str\n",
    "        A LaTeX formatted string representing the input array.\n",
    "\n",
    "    Examples\n",
    "    --------\n",
    "    >>> import numpy as np\n",
    "    >>> arr = np.array([[1, 2], [3, 4]])\n",
    "    >>> np_array_to_latex(arr, \"My Matrix: \")\n",
    "    'My Matrix: $\\\\begin{bmatrix}1.000000 & 2.000000\\\\\\\\3.000000 & 4.000000\\\\end{bmatrix}$'\n",
    "    \"\"\"\n",
    "    latex_str = np.array2string(arr, separator=' & ', formatter={'float': lambda x: f\"{x:.6f}\"}, suppress_small=True)\n",
    "    latex_str = latex_str.replace('[', '$\\\\begin{bmatrix}')\n",
    "    latex_str = latex_str.replace(']', '\\\\end{bmatrix}$')\n",
    "    return title + latex_str\n"
   ]
  },
  {
   "cell_type": "markdown",
   "metadata": {},
   "source": [
    "<hr style=\"border:2px solid gray\"/><br/><br/>\n",
    "\n",
    "#### Adjacency Matrix \n",
    "\n",
    "A function which will create an adjacency matrix of given dimensions."
   ]
  },
  {
   "cell_type": "code",
   "execution_count": 3,
   "metadata": {},
   "outputs": [],
   "source": [
    "# Function which creates the matrix with given dimensions.\n",
    "def create_matrix(n):\n",
    "    \"\"\"\n",
    "    Creates a matrix with given dimensions.\n",
    "\n",
    "    Parameters:\n",
    "    n (int): The number of rows and columns in the matrix.\n",
    "\n",
    "    Returns:\n",
    "    numpy.ndarray: A square matrix of size n x n with random binary values, where the diagonal elements are 0 and each column has at least one non-zero element.\n",
    "    \"\"\"\n",
    "    A = np.random.randint(0, 2, (n, n))\n",
    "    np.fill_diagonal(A, 0)\n",
    "    while np.any(np.sum(A, axis=0) == 0):\n",
    "        A = np.random.randint(0, 2, (n, n))\n",
    "        np.fill_diagonal(A, 0)\n",
    "    return A"
   ]
  },
  {
   "cell_type": "markdown",
   "metadata": {},
   "source": [
    "<hr style=\"border:2px solid gray\"/><br/><br/>\n",
    "\n",
    "#### Method 1\n",
    "$$(I - dM)R = {{1 - d} \\over n}1$$\n"
   ]
  },
  {
   "cell_type": "code",
   "execution_count": 4,
   "metadata": {},
   "outputs": [],
   "source": [
    "# Method 1 to find the page ranks.\n",
    "def Method_1(A, d=0.85):\n",
    "    \"\"\"\n",
    "    Calculates the page ranks of a given adjacency matrix using Method 1.\n",
    "\n",
    "    Parameters:\n",
    "    A (numpy.ndarray): The adjacency matrix of a directed graph.\n",
    "    d (float): The damping factor. Default value is 0.85.\n",
    "\n",
    "    Returns:\n",
    "    numpy.ndarray: A vector of page ranks for each node in the graph.\n",
    "    \"\"\"\n",
    "    n = A.shape[0]\n",
    "    M = A / np.sum(A, axis=0)\n",
    "    R = np.linalg.solve(np.eye(n) - d * M, (1 - d) / n * np.ones(n))\n",
    "    return R"
   ]
  },
  {
   "cell_type": "markdown",
   "metadata": {},
   "source": [
    "<hr style=\"border:2px solid gray\"/><br/><br/>\n",
    "\n",
    "#### Method 2\n",
    "$$ R = (dM + {{1 - d}\\over n}E)R $$\n",
    "$$ = \\hat{M} R$$"
   ]
  },
  {
   "cell_type": "code",
   "execution_count": 5,
   "metadata": {},
   "outputs": [],
   "source": [
    "def Method_2(A, d=0.85, tol=1e-6, max_iter=100):\n",
    "    \"\"\"\n",
    "    Calculates the page ranks of a given adjacency matrix using Method 2.\n",
    "\n",
    "    Parameters:\n",
    "    A (numpy.ndarray): The adjacency matrix of a directed graph.\n",
    "    d (float): The damping factor. Default value is 0.85.\n",
    "    tol (float): The tolerance for convergence. Default value is 1e-6.\n",
    "    max_iter (int): The maximum number of iterations. Default value is 100.\n",
    "\n",
    "    Returns:\n",
    "    numpy.ndarray: A vector of page ranks for each node in the graph.\n",
    "    \"\"\"\n",
    "    n = A.shape[0]\n",
    "    M = A / np.sum(A, axis=0)\n",
    "    M_hat = d * M + (1 - d) / n * np.ones((n, n))\n",
    "    R = np.ones(n) / n\n",
    "    for _ in range(max_iter):\n",
    "        R_next = M_hat @ R\n",
    "        if np.linalg.norm(R_next - R) < tol:\n",
    "            break\n",
    "        R = R_next\n",
    "    return R"
   ]
  },
  {
   "cell_type": "markdown",
   "metadata": {},
   "source": [
    "<hr style=\"border:2px solid gray\"/><br/><br/>\n",
    "\n",
    "Assuming $n=10$, we can find the page ranks by both methods as follows,"
   ]
  },
  {
   "cell_type": "code",
   "execution_count": 6,
   "metadata": {},
   "outputs": [
    {
     "data": {
      "text/markdown": [
       "The value of R calculated by <b>method 1</b> is,"
      ],
      "text/plain": [
       "<IPython.core.display.Markdown object>"
      ]
     },
     "metadata": {},
     "output_type": "display_data"
    },
    {
     "data": {
      "text/latex": [
       "$R_{1} =\\ $$\\begin{bmatrix}0.071259 & 0.114341 & 0.111429 & 0.092247 & 0.065901 & 0.115381 &\n",
       " 0.127262 & 0.150391 & 0.066781 & 0.085008\\end{bmatrix}$"
      ],
      "text/plain": [
       "<IPython.core.display.Latex object>"
      ]
     },
     "metadata": {},
     "output_type": "display_data"
    },
    {
     "data": {
      "text/markdown": [
       "The value of R calculated by <b>method 2</b> is,"
      ],
      "text/plain": [
       "<IPython.core.display.Markdown object>"
      ]
     },
     "metadata": {},
     "output_type": "display_data"
    },
    {
     "data": {
      "text/latex": [
       "$R_{2} =\\ $$\\begin{bmatrix}0.071260 & 0.114341 & 0.111429 & 0.092247 & 0.065901 & 0.115381 &\n",
       " 0.127262 & 0.150391 & 0.066781 & 0.085008\\end{bmatrix}$"
      ],
      "text/plain": [
       "<IPython.core.display.Latex object>"
      ]
     },
     "metadata": {},
     "output_type": "display_data"
    }
   ],
   "source": [
    "\"\"\"\n",
    "Calculating ranks for n = 10, using both the methods defined above.\n",
    "\"\"\"\n",
    "\n",
    "n = 10\n",
    "A = create_matrix(n)\n",
    "r1 = Method_1(A)\n",
    "r2 = Method_2(A)\n",
    "\n",
    "display(Markdown(\"The value of R calculated by <b>method 1</b> is,\"))\n",
    "display(Latex( \"$R_{1} =\\ $\" + np_array_to_latex(r1)))\n",
    "display(Markdown(\"The value of R calculated by <b>method 2</b> is,\"))\n",
    "display(Latex( \"$R_{2} =\\ $\" + np_array_to_latex(r2)))\n"
   ]
  },
  {
   "cell_type": "markdown",
   "metadata": {},
   "source": [
    "<hr style=\"border:2px solid gray\"/><br/><br/>\n",
    "\n",
    "Using the same methods, we can substitute $n = 5, 10, 50, 100, 500, 1000, 2000, 5000$ and calculate the computational costs for both methods."
   ]
  },
  {
   "cell_type": "code",
   "execution_count": 7,
   "metadata": {},
   "outputs": [
    {
     "data": {
      "image/png": "[encoded data removed]",
      "text/plain": [
       "<Figure size 640x480 with 1 Axes>"
      ]
     },
     "metadata": {},
     "output_type": "display_data"
    }
   ],
   "source": [
    "def Measure_time(n_values):\n",
    "    \"\"\"\n",
    "    Measure the time taken by two methods for different matrix sizes.\n",
    "\n",
    "    Parameters:\n",
    "    n_values (list): A list of integers representing the sizes of the matrices.\n",
    "\n",
    "    Returns:\n",
    "    tuple: A tuple of two lists, each containing the time taken by the two methods for the corresponding matrix size.\n",
    "    \"\"\"\n",
    "    method_1_times = []\n",
    "    method_2_times = []\n",
    "\n",
    "    for n in n_values:\n",
    "        A = create_matrix(n)\n",
    "        method_1_times.append(timeit.Timer(lambda: Method_1(A)).timeit(number=1))\n",
    "        method_2_times.append(timeit.Timer(lambda: Method_2(A)).timeit(number=1))\n",
    "\n",
    "    return method_1_times, method_2_times\n",
    "\n",
    "\n",
    "# Values of n.\n",
    "n_values = [5, 10, 50, 100, 500, 1000, 2000, 5000]\n",
    "# Measuring time taken for all values of n.\n",
    "method_1_times, method_2_times = Measure_time(n_values)\n",
    "\n",
    "plt.loglog(n_values, method_1_times,marker='o',  label=\"Method 1\")\n",
    "plt.loglog(n_values, method_2_times,marker='o', label=\"Method 2\")\n",
    "plt.xlabel(\"n\")\n",
    "plt.ylabel(\"Time (s)\")\n",
    "plt.grid(visible=True,linewidth=0.5)\n",
    "plt.legend()\n",
    "plt.show()\n"
   ]
  },
  {
   "cell_type": "markdown",
   "metadata": {},
   "source": [
    "It can seen that from above graph, which is a log-log plot of the computational cost of both methods against $n$, the computational cost increases with increase in $n$. But at higher values of $n$, method 2, that is the power method seems more efficient compared to method 1. Also for both methods, the time required is increasing exponentially.\n",
    "\n",
    "<hr style=\"border:2px solid gray\"/><br/><br/>\n",
    "\n",
    "\n",
    "### Most Aggressive Termination Criterion"
   ]
  },
  {
   "cell_type": "code",
   "execution_count": 8,
   "metadata": {},
   "outputs": [],
   "source": [
    "# Function which will calculate the minimum tolerance.\n",
    "def findMinTolerance(A,Rank_Order, d=0.85, max_iter=100):\n",
    "    \"\"\"\n",
    "    Calculate the minimum tolerance for a given matrix and rank order.\n",
    "\n",
    "    Parameters:\n",
    "    A (numpy.ndarray): A square matrix.\n",
    "    Rank_Order (numpy.ndarray): A 1D array of integers representing the desired rank order.\n",
    "    d (float): A damping factor. Default is 0.85.\n",
    "    max_iter (int): Maximum number of iterations. Default is 100.\n",
    "\n",
    "    Returns:\n",
    "    float: The minimum tolerance.\n",
    "    \"\"\"\n",
    "    n = A.shape[0]\n",
    "    M = A / np.sum(A, axis=0)\n",
    "    M_hat = d * M + (1 - d) / n * np.ones((n, n))\n",
    "    R = np.ones(n) / n\n",
    "    tol = float('inf')\n",
    "    for _ in range(max_iter):\n",
    "        R_next = M_hat @ R\n",
    "        tol = np.linalg.norm(R_next - R)\n",
    "        if (np.argsort(R_next) == Rank_Order).all(): \n",
    "            return tol \n",
    "        R = R_next\n",
    "        \n",
    "        \n",
    "def minTolerance(n):\n",
    "    \"\"\"\n",
    "    Calculate the minimum tolerance for a given matrix of size n.\n",
    "\n",
    "    Parameters:\n",
    "    n (int): The size of the matrix.\n",
    "\n",
    "    Returns:\n",
    "    float: The minimum tolerance.\n",
    "    \"\"\"\n",
    "    A = create_matrix(n)\n",
    "    Result_Method_1 = Method_1(A)\n",
    "    Method_1_Rank_Orders = np.argsort(Result_Method_1)\n",
    "    return findMinTolerance(A,Method_1_Rank_Orders)\n"
   ]
  },
  {
   "cell_type": "code",
   "execution_count": 9,
   "metadata": {},
   "outputs": [
    {
     "data": {
      "image/png": "[encoded data removed]",
      "text/plain": [
       "<Figure size 640x480 with 1 Axes>"
      ]
     },
     "metadata": {},
     "output_type": "display_data"
    },
    {
     "data": {
      "text/latex": [
       "$\\delta =\\ [0.034042153224482175, 0.02607477842862493, 0.00021620105827122743, 5.727093858668109e-05, 9.185938841071526e-08, 1.5869905145236698e-08, 2.9553708990069674e-09, 3.020975659226424e-10]$"
      ],
      "text/plain": [
       "<IPython.core.display.Latex object>"
      ]
     },
     "metadata": {},
     "output_type": "display_data"
    }
   ],
   "source": [
    "# Values of n.\n",
    "n_values = [5, 10, 50, 100, 500, 1000, 2000, 5000]\n",
    "\n",
    "# Measuring Tolerances for all values of n.\n",
    "Tolerances = [minTolerance(n) for n in n_values]\n",
    "\n",
    "plt.loglog(n_values, Tolerances,marker='o')\n",
    "plt.xlabel(\"n\")\n",
    "plt.ylabel(\"$\\delta_{max}$\")\n",
    "plt.grid(visible=True,linewidth=0.5)\n",
    "plt.show()\n",
    "display(Latex(\"$\\delta =\\ \" + str(Tolerances) + \"$\"))"
   ]
  },
  {
   "cell_type": "markdown",
   "metadata": {},
   "source": [
    "<hr style=\"border:2px solid gray\"/><br/><br/>\n",
    "\n",
    "### Search Engine Optimization\n",
    "\n",
    "Search Engine Optimization (SEO), has became a cottage industry. Many developers use techniques like keyword optimization, and backlink building to rank their websites higher on the search engines. Nowadays, even languages like HTML provide speacial tags such as `meta` to include keywords and brief discriptions of the webpages. This helps the search engines to better rank the websites. These methods also come with their own disadvantages since these tags and keywords can be excessively used. Search engines prioritizes quality content and real used experience, which avoids listing of sites that might be engaging in deceptive practices.\n",
    "\n",
    "<br/><br/>\n",
    "\n",
    "<hr style=\"border:2px solid gray\"/>"
   ]
  },
  {
   "cell_type": "code",
   "execution_count": null,
   "metadata": {},
   "outputs": [],
   "source": []
  }
 ],
 "metadata": {
  "kernelspec": {
   "display_name": "Python 3 (ipykernel)",
   "language": "python",
   "name": "python3"
  },
  "language_info": {
   "codemirror_mode": {
    "name": "ipython",
    "version": 3
   },
   "file_extension": ".py",
   "mimetype": "text/x-python",
   "name": "python",
   "nbconvert_exporter": "python",
   "pygments_lexer": "ipython3",
   "version": "3.11.4"
  }
 },
 "nbformat": 4,
 "nbformat_minor": 4
}
