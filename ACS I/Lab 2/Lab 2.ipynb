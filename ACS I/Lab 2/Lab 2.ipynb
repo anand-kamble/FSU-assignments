{
 "cells": [
  {
   "cell_type": "markdown",
   "metadata": {},
   "source": [
    "<p><b>Applied Computational Science I</b></p>\n",
    "<h1 style=\"margin:0px\">Lab: Linear Algebra: Google PageRank</h1>\n",
    "<br/>\n",
    "<p>Anand Kamble</p>\n",
    "<a href=\"mailto:amk23j@fsu.edu\">amk23j@fsu.edu</a>\n",
    "<p>3rd October 2023</p>\n",
    "<hr style=\"border:2px solid gray\"/>"
   ]
  },
  {
   "cell_type": "code",
   "execution_count": 7,
   "metadata": {},
   "outputs": [],
   "source": [
    "# Importing required packages.\n",
    "import numpy as np\n",
    "import timeit\n",
    "import matplotlib.pyplot as plt\n",
    "from IPython.display import Markdown, display, Latex"
   ]
  },
  {
   "cell_type": "code",
   "execution_count": 39,
   "metadata": {},
   "outputs": [],
   "source": [
    "# Helper functions\n",
    "def np_array_to_latex(arr, title = \"\"):\n",
    "    latex_str = np.array2string(arr, separator=' & ', formatter={'float': lambda x: f\"{x:.8f}\"}, suppress_small=True)\n",
    "    latex_str = latex_str.replace('[', '$\\\\begin{bmatrix}')\n",
    "    latex_str = latex_str.replace(']', '\\\\end{bmatrix}$')\n",
    "    return title + latex_str\n"
   ]
  },
  {
   "cell_type": "markdown",
   "metadata": {},
   "source": [
    "<hr style=\"border:2px solid gray\"/><br/><br/>\n",
    "\n",
    "#### Adjacency Matrix \n",
    "\n",
    "A function which will create an adjacency matrix of given dimensions."
   ]
  },
  {
   "cell_type": "code",
   "execution_count": 2,
   "metadata": {},
   "outputs": [],
   "source": [
    "# Function which creates the matrix with given dimensions.\n",
    "def create_matrix(n):\n",
    "    A = np.random.randint(0, 2, (n, n))\n",
    "    np.fill_diagonal(A, 0)\n",
    "    while np.any(np.sum(A, axis=0) == 0):\n",
    "        A = np.random.randint(0, 2, (n, n))\n",
    "        np.fill_diagonal(A, 0)\n",
    "    return A"
   ]
  },
  {
   "cell_type": "markdown",
   "metadata": {},
   "source": [
    "<hr style=\"border:2px solid gray\"/><br/><br/>\n",
    "\n",
    "#### Method 1\n",
    "$$(I - dM)R = {{1 - d} \\over n}1$$\n"
   ]
  },
  {
   "cell_type": "code",
   "execution_count": 3,
   "metadata": {},
   "outputs": [],
   "source": [
    "# Method 1 to find the page ranks.\n",
    "def Method_1(A, d=0.85):\n",
    "    n = A.shape[0]\n",
    "    M = A / np.sum(A, axis=0)\n",
    "    R = np.linalg.solve(np.eye(n) - d * M, (1 - d) / n * np.ones(n))\n",
    "    return R"
   ]
  },
  {
   "cell_type": "markdown",
   "metadata": {},
   "source": [
    "<hr style=\"border:2px solid gray\"/><br/><br/>\n",
    "\n",
    "#### Method 2\n",
    "$$ R = (dM + {{1 - d}\\over n}E)R $$\n",
    "$$ = \\hat{M} R$$"
   ]
  },
  {
   "cell_type": "code",
   "execution_count": 4,
   "metadata": {},
   "outputs": [],
   "source": [
    "def Method_2(A, d=0.85, tol=1e-6, max_iter=100):\n",
    "    n = A.shape[0]\n",
    "    M = A / np.sum(A, axis=0)\n",
    "    M_hat = d * M + (1 - d) / n * np.ones((n, n))\n",
    "    R = np.ones(n) / n\n",
    "    for _ in range(max_iter):\n",
    "        R_next = M_hat @ R\n",
    "        if np.linalg.norm(R_next - R) < tol:\n",
    "            break\n",
    "        R = R_next\n",
    "    return R"
   ]
  },
  {
   "cell_type": "markdown",
   "metadata": {},
   "source": [
    "<hr style=\"border:2px solid gray\"/><br/><br/>\n",
    "\n",
    "Assuming $n=10$, we can find the page ranks by both methods as follows,"
   ]
  },
  {
   "cell_type": "code",
   "execution_count": 40,
   "metadata": {},
   "outputs": [
    {
     "data": {
      "text/markdown": [
       "The value of R calculated by <b>method 1</b> is,"
      ],
      "text/plain": [
       "<IPython.core.display.Markdown object>"
      ]
     },
     "metadata": {},
     "output_type": "display_data"
    },
    {
     "data": {
      "text/latex": [
       "$R_{1} =\\ $$\\begin{bmatrix}0.12474183 & 0.08541845 & 0.12360658 & 0.09996070 & 0.06675546 &\n",
       " 0.09351214 & 0.10427880 & 0.12827297 & 0.11015102 & 0.06330205\\end{bmatrix}$"
      ],
      "text/plain": [
       "<IPython.core.display.Latex object>"
      ]
     },
     "metadata": {},
     "output_type": "display_data"
    },
    {
     "data": {
      "text/markdown": [
       "The value of R calculated by <b>method 2</b> is,"
      ],
      "text/plain": [
       "<IPython.core.display.Markdown object>"
      ]
     },
     "metadata": {},
     "output_type": "display_data"
    },
    {
     "data": {
      "text/latex": [
       "$R_{2} =\\ $$\\begin{bmatrix}0.12474201 & 0.08541838 & 0.12360652 & 0.09996063 & 0.06675556 &\n",
       " 0.09351219 & 0.10427891 & 0.12827303 & 0.11015087 & 0.06330190\\end{bmatrix}$"
      ],
      "text/plain": [
       "<IPython.core.display.Latex object>"
      ]
     },
     "metadata": {},
     "output_type": "display_data"
    }
   ],
   "source": [
    "n = 10\n",
    "A = create_matrix(n)\n",
    "r1 = Method_1(A)\n",
    "r2 = Method_2(A)\n",
    "\n",
    "display(Markdown(\"The value of R calculated by <b>method 1</b> is,\"))\n",
    "display(Latex( \"$R_{1} =\\ $\" + np_array_to_latex(r1)))\n",
    "display(Markdown(\"The value of R calculated by <b>method 2</b> is,\"))\n",
    "display(Latex( \"$R_{2} =\\ $\" + np_array_to_latex(r2)))\n"
   ]
  },
  {
   "cell_type": "markdown",
   "metadata": {},
   "source": [
    "<hr style=\"border:2px solid gray\"/><br/><br/>\n",
    "\n",
    "Using the same methods, we can substitute $n = 5, 10, 50, 100, 500, 1000, 2000, 5000$ and calculate the computational costs for both methods."
   ]
  },
  {
   "cell_type": "code",
   "execution_count": 41,
   "metadata": {},
   "outputs": [
    {
     "data": {
      "image/png": "[encoded data removed]",
      "text/plain": [
       "<Figure size 640x480 with 1 Axes>"
      ]
     },
     "metadata": {},
     "output_type": "display_data"
    }
   ],
   "source": [
    "def Measure_time(n_values):\n",
    "    method_1_times = []\n",
    "    method_2_times = []\n",
    "\n",
    "    for n in n_values:\n",
    "        A = create_matrix(n)\n",
    "        method_1_times.append(timeit.Timer(lambda: Method_1(A)).timeit(number=1))\n",
    "        method_2_times.append(timeit.Timer(lambda: Method_2(A)).timeit(number=1))\n",
    "\n",
    "    return method_1_times, method_2_times\n",
    "\n",
    "\n",
    "# Values of n.\n",
    "n_values = [5, 10, 50, 100, 500, 1000, 2000, 5000]\n",
    "# Measuring time taken for all values of n.\n",
    "method_1_times, method_2_times = Measure_time(n_values)\n",
    "\n",
    "plt.loglog(n_values, method_1_times, label=\"Method 1\")\n",
    "plt.loglog(n_values, method_2_times, label=\"Method 2\")\n",
    "plt.xlabel(\"n\")\n",
    "plt.ylabel(\"Time (s)\")\n",
    "plt.legend()\n",
    "plt.show()\n"
   ]
  },
  {
   "cell_type": "code",
   "execution_count": null,
   "metadata": {},
   "outputs": [],
   "source": []
  }
 ],
 "metadata": {
  "kernelspec": {
   "display_name": "Python 3 (ipykernel)",
   "language": "python",
   "name": "python3"
  },
  "language_info": {
   "codemirror_mode": {
    "name": "ipython",
    "version": 3
   },
   "file_extension": ".py",
   "mimetype": "text/x-python",
   "name": "python",
   "nbconvert_exporter": "python",
   "pygments_lexer": "ipython3",
   "version": "3.11.4"
  }
 },
 "nbformat": 4,
 "nbformat_minor": 4
}
