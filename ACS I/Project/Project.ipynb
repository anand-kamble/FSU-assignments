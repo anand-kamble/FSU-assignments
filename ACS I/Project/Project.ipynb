{
 "cells": [
  {
   "cell_type": "code",
   "execution_count": 8,
   "id": "c14e722c",
   "metadata": {},
   "outputs": [
    {
     "ename": "ValueError",
     "evalue": "shapes (9,) and (2,128,128) not aligned: 9 (dim 0) != 128 (dim 1)",
     "output_type": "error",
     "traceback": [
      "\u001b[1;31m---------------------------------------------------------------------------\u001b[0m",
      "\u001b[1;31mValueError\u001b[0m                                Traceback (most recent call last)",
      "Cell \u001b[1;32mIn[8], line 58\u001b[0m\n\u001b[0;32m     55\u001b[0m f1, u \u001b[38;5;241m=\u001b[39m initialize()\n\u001b[0;32m     57\u001b[0m \u001b[38;5;28;01mfor\u001b[39;00m it \u001b[38;5;129;01min\u001b[39;00m \u001b[38;5;28mrange\u001b[39m(niters):\n\u001b[1;32m---> 58\u001b[0m     f1, u \u001b[38;5;241m=\u001b[39m \u001b[43mlbm_iteration\u001b[49m\u001b[43m(\u001b[49m\u001b[43mf1\u001b[49m\u001b[43m,\u001b[49m\u001b[43m \u001b[49m\u001b[43mu\u001b[49m\u001b[43m)\u001b[49m\n\u001b[0;32m     60\u001b[0m \u001b[38;5;66;03m# Plot the final velocity field\u001b[39;00m\n\u001b[0;32m     61\u001b[0m plt\u001b[38;5;241m.\u001b[39mimshow(np\u001b[38;5;241m.\u001b[39msqrt(u[:, :, \u001b[38;5;241m0\u001b[39m]\u001b[38;5;241m*\u001b[39m\u001b[38;5;241m*\u001b[39m\u001b[38;5;241m2\u001b[39m \u001b[38;5;241m+\u001b[39m u[:, :, \u001b[38;5;241m1\u001b[39m]\u001b[38;5;241m*\u001b[39m\u001b[38;5;241m*\u001b[39m\u001b[38;5;241m2\u001b[39m)\u001b[38;5;241m.\u001b[39mtranspose(), cmap\u001b[38;5;241m=\u001b[39m\u001b[38;5;124m'\u001b[39m\u001b[38;5;124mviridis\u001b[39m\u001b[38;5;124m'\u001b[39m, origin\u001b[38;5;241m=\u001b[39m\u001b[38;5;124m'\u001b[39m\u001b[38;5;124mlower\u001b[39m\u001b[38;5;124m'\u001b[39m, extent\u001b[38;5;241m=\u001b[39m[\u001b[38;5;241m0\u001b[39m, nx, \u001b[38;5;241m0\u001b[39m, ny])\n",
      "Cell \u001b[1;32mIn[8], line 37\u001b[0m, in \u001b[0;36mlbm_iteration\u001b[1;34m(f1, u)\u001b[0m\n\u001b[0;32m     34\u001b[0m \u001b[38;5;28;01mdef\u001b[39;00m \u001b[38;5;21mlbm_iteration\u001b[39m(f1, u):\n\u001b[0;32m     35\u001b[0m     \u001b[38;5;66;03m# Collision step\u001b[39;00m\n\u001b[0;32m     36\u001b[0m     rho \u001b[38;5;241m=\u001b[39m f1\u001b[38;5;241m.\u001b[39msum(axis\u001b[38;5;241m=\u001b[39m\u001b[38;5;241m2\u001b[39m)\n\u001b[1;32m---> 37\u001b[0m     feq \u001b[38;5;241m=\u001b[39m \u001b[43mequilibrium\u001b[49m\u001b[43m(\u001b[49m\u001b[43mrho\u001b[49m\u001b[43m,\u001b[49m\u001b[43m \u001b[49m\u001b[43mu\u001b[49m\u001b[43m)\u001b[49m\n\u001b[0;32m     38\u001b[0m     f1 \u001b[38;5;241m+\u001b[39m\u001b[38;5;241m=\u001b[39m \u001b[38;5;241m1\u001b[39m\u001b[38;5;241m/\u001b[39mtau \u001b[38;5;241m*\u001b[39m (feq \u001b[38;5;241m-\u001b[39m f1)\n\u001b[0;32m     40\u001b[0m     \u001b[38;5;66;03m# Streaming step\u001b[39;00m\n",
      "Cell \u001b[1;32mIn[8], line 22\u001b[0m, in \u001b[0;36mequilibrium\u001b[1;34m(rho, u)\u001b[0m\n\u001b[0;32m     21\u001b[0m \u001b[38;5;28;01mdef\u001b[39;00m \u001b[38;5;21mequilibrium\u001b[39m(rho, u):\n\u001b[1;32m---> 22\u001b[0m     cu \u001b[38;5;241m=\u001b[39m \u001b[43mnp\u001b[49m\u001b[38;5;241;43m.\u001b[39;49m\u001b[43mdot\u001b[49m\u001b[43m(\u001b[49m\u001b[43mdx\u001b[49m\u001b[43m,\u001b[49m\u001b[43m \u001b[49m\u001b[43mu\u001b[49m\u001b[38;5;241;43m.\u001b[39;49m\u001b[43mtranspose\u001b[49m\u001b[43m(\u001b[49m\u001b[38;5;241;43m2\u001b[39;49m\u001b[43m,\u001b[49m\u001b[43m \u001b[49m\u001b[38;5;241;43m0\u001b[39;49m\u001b[43m,\u001b[49m\u001b[43m \u001b[49m\u001b[38;5;241;43m1\u001b[39;49m\u001b[43m)\u001b[49m\u001b[43m)\u001b[49m\u001b[38;5;241m.\u001b[39mtranspose(\u001b[38;5;241m1\u001b[39m, \u001b[38;5;241m2\u001b[39m, \u001b[38;5;241m0\u001b[39m)\n\u001b[0;32m     23\u001b[0m     usqr \u001b[38;5;241m=\u001b[39m \u001b[38;5;241m3\u001b[39m\u001b[38;5;241m/\u001b[39m\u001b[38;5;241m2\u001b[39m \u001b[38;5;241m*\u001b[39m (u\u001b[38;5;241m*\u001b[39m\u001b[38;5;241m*\u001b[39m\u001b[38;5;241m2\u001b[39m)\u001b[38;5;241m.\u001b[39msum(axis\u001b[38;5;241m=\u001b[39m\u001b[38;5;241m2\u001b[39m)\n\u001b[0;32m     24\u001b[0m     feq \u001b[38;5;241m=\u001b[39m np\u001b[38;5;241m.\u001b[39mzeros((nx, ny, \u001b[38;5;241m9\u001b[39m))\n",
      "File \u001b[1;32m<__array_function__ internals>:200\u001b[0m, in \u001b[0;36mdot\u001b[1;34m(*args, **kwargs)\u001b[0m\n",
      "\u001b[1;31mValueError\u001b[0m: shapes (9,) and (2,128,128) not aligned: 9 (dim 0) != 128 (dim 1)"
     ]
    }
   ],
   "source": [
    "import numpy as np\n",
    "import matplotlib.pyplot as plt\n",
    "\n",
    "# Parameters\n",
    "nx, ny = 128, 128  # Grid size\n",
    "rho0 = 1.0  # Initial density\n",
    "tau = 0.6  # Relaxation time\n",
    "niters = 5000  # Number of iterations\n",
    "\n",
    "# Lattice weights and velocities for D2Q9\n",
    "w = [4/9] + [1/9] * 4 + [1/36] * 4\n",
    "dx = [0, 1, 0, -1, 0, 1, -1, -1, 1]\n",
    "\n",
    "# Function to initialize the density and velocity fields\n",
    "def initialize():\n",
    "    f1 = np.ones((nx, ny, 9)) * rho0 / 9.0\n",
    "    u = np.zeros((nx, ny, 2))\n",
    "    return f1, u\n",
    "\n",
    "# Function to compute equilibrium distribution\n",
    "def equilibrium(rho, u):\n",
    "    cu = np.dot(dx, u.transpose(2, 0, 1)).transpose(1, 2, 0)\n",
    "    usqr = 3/2 * (u**2).sum(axis=2)\n",
    "    feq = np.zeros((nx, ny, 9))\n",
    "    \n",
    "    for k in range(9):\n",
    "        cu_k = cu[:, :, k].reshape((nx, ny))\n",
    "        feq[:, :, k] = rho * w[k] * (1 + 3*cu_k + 9/2*cu_k**2 - 3/2*usqr)\n",
    "    \n",
    "    return feq\n",
    "\n",
    "\n",
    "# Function to perform a single LBM iteration\n",
    "def lbm_iteration(f1, u):\n",
    "    # Collision step\n",
    "    rho = f1.sum(axis=2)\n",
    "    feq = equilibrium(rho, u)\n",
    "    f1 += 1/tau * (feq - f1)\n",
    "\n",
    "    # Streaming step\n",
    "    for k in range(9):\n",
    "        f1[:, :, k] = np.roll(f1[:, :, k], dx[k], axis=(0, 1))\n",
    "\n",
    "    # Boundary conditions: Lid-driven cavity\n",
    "    u[:, -1, 0] = 0.1  # Constant velocity on the lid\n",
    "\n",
    "    # Update macroscopic variables\n",
    "    rho = f1.sum(axis=2)\n",
    "    u[:, :, 0] = (np.dot(w, dx) * f1.transpose(2, 0, 1)).transpose(1, 2, 0) / rho\n",
    "    u[:, :, 1] = (np.dot(w, dx[1:]) * f1.transpose(2, 0, 1)).transpose(1, 2, 0) / rho\n",
    "\n",
    "    return f1, u\n",
    "\n",
    "# Main simulation loop\n",
    "f1, u = initialize()\n",
    "\n",
    "for it in range(niters):\n",
    "    f1, u = lbm_iteration(f1, u)\n",
    "\n",
    "# Plot the final velocity field\n",
    "plt.imshow(np.sqrt(u[:, :, 0]**2 + u[:, :, 1]**2).transpose(), cmap='viridis', origin='lower', extent=[0, nx, 0, ny])\n",
    "plt.colorbar(label='Velocity Magnitude')\n",
    "plt.title('Lid-Driven Cavity Flow')\n",
    "plt.xlabel('X')\n",
    "plt.ylabel('Y')\n",
    "plt.show()\n"
   ]
  }
 ],
 "metadata": {
  "kernelspec": {
   "display_name": "Python 3 (ipykernel)",
   "language": "python",
   "name": "python3"
  },
  "language_info": {
   "codemirror_mode": {
    "name": "ipython",
    "version": 3
   },
   "file_extension": ".py",
   "mimetype": "text/x-python",
   "name": "python",
   "nbconvert_exporter": "python",
   "pygments_lexer": "ipython3",
   "version": "3.10.6"
  }
 },
 "nbformat": 4,
 "nbformat_minor": 5
}
