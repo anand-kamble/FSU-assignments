{
 "cells": [
  {
   "cell_type": "markdown",
   "id": "85e02b47",
   "metadata": {},
   "source": [
    "<h1>A1:Integration</h1>\n",
    "<p>Anand Kamble</p>\n",
    "<a href=\"mailto:amk23j@fsu.edu\">amk23j@fsu.edu</a>\n",
    "<p>13th September 2023</p>\n",
    "<hr style=\"border:2px solid gray\"/>"
   ]
  },
  {
   "cell_type": "markdown",
   "id": "744bae4e",
   "metadata": {},
   "source": [
    "## 1.\n",
    "\n",
    "We will use this function for the sub-questions, \n",
    "\n",
    "$$f(x) = e^{-x^2}$$\n",
    "\n",
    "### a. $[-\\infty,\\infty]$ &rarr; $[-1,1]$\n",
    "\n",
    "\n",
    "\n",
    "$$ I = \\int_{-\\infty}^{\\infty} f(x)dx $$  \n",
    "\n",
    "let, $ y = {2 \\over {1 + e^{-x}}} - 1 $\n",
    "  \n",
    "$ \\therefore x = - log({{2 \\over {y + 1} - 1}}) $ and $ dx = {{-1} \\over {{2 \\over {y + 1}} - 1}} dy $\n",
    "\n",
    "$$\\therefore I = \\int_{y=1}^{y=-1} e^{-[-log({2 \\over {y + 1}} - 1 )]^2} {{-1} \\over {{2 \\over {y + 1}} - 1}} dy $$\n",
    "\n",
    "$$\\therefore I = \\int_{y=-1}^{y=1} e^{-[-log({2 \\over {y + 1}} - 1 )]^2} {{1} \\over {{2 \\over {y + 1}} - 1}} dy $$\n",
    "\n",
    "---\n",
    "### b. $[0,\\infty]$ &rarr; $[0,1]$\n",
    "\n",
    "\n",
    "\n",
    "$$ I = \\int_{0}^{\\infty} f(x)dx $$\n",
    "\n",
    "Let, $ y = e^{-x}$    \n",
    "so that, \n",
    "$ x = -log(y)$ and $ dx = {{-1}\\over y}dy $\n",
    "substituting these values, \n",
    "\n",
    "$$ I = \\int_{y=1}^{y=0} e^{{-(-log(y))}^2} ({-1\\over y} dy) $$\n",
    "\n",
    "\n",
    "$$ I = \\int_{y=0}^{y=1} e^{{-(-log(y))}^2} ({1\\over y} dy) $$\n",
    "\n",
    "___\n",
    "<div style=\"page-break-after: always;\"></div>\n",
    "\n",
    "### c. $[0,\\infty]$ &rarr; $[-1,1]$\n",
    "\n",
    "\n",
    "$$ I = \\int_{0}^{\\infty} f(x)dx $$\n",
    "\n",
    "Let, $ y = 1 - 2e^{-x}$   \n",
    "\n",
    "$ \\therefore x = - log ({{1 - y} \\over 2 }) $ and $ dx = {-2 \\over {1 - y}} dy $\n",
    "\n",
    "$$ I = \\int_{y=-1}^{y=1} e^{-[{- log ({{1 - y} \\over 2 }) }]} {-2 \\over {1 - y}} dy $$\n",
    "\n",
    "<br/>\n",
    "<br/>\n",
    "<br/>\n",
    "<br/>\n",
    "<br/>\n",
    "<hr style=\"border:2px solid gray\"/>\n"
   ]
  },
  {
   "cell_type": "markdown",
   "id": "700f7963",
   "metadata": {},
   "source": [
    "## 2. Direct MC in High Dimensions"
   ]
  },
  {
   "cell_type": "code",
   "execution_count": 1,
   "id": "1b0ac7c4",
   "metadata": {},
   "outputs": [],
   "source": [
    "import numpy as np\n",
    "from scipy.special import gamma\n",
    "import matplotlib.pyplot as plt\n",
    "from typing import Union, Final\n",
    "from IPython.display import Markdown, display\n",
    "import warnings\n",
    "warnings.filterwarnings(\"error\")"
   ]
  },
  {
   "cell_type": "markdown",
   "id": "5039ba31",
   "metadata": {},
   "source": [
    "### Volume of HyperSphere\n",
    "$$Vs = {\\pi^n/2 \\over \\Gamma({n/2 + 1})}R^n$$"
   ]
  },
  {
   "cell_type": "code",
   "execution_count": 2,
   "id": "594854a8",
   "metadata": {},
   "outputs": [],
   "source": [
    "def Volume_of_HyperSphere(dimensions:int,radius:Union[int,float]) -> Union[int,float]:\n",
    "    \"\"\"Calculate the volume of hypersphere\n",
    "    \n",
    "    Args:\n",
    "        dimensions (int): Number of dimensions\n",
    "        radius (int or float): Radius of the sphere\n",
    " \n",
    "    Returns:\n",
    "        int or float: The Volume of Hypersphere\n",
    "    \"\"\"\n",
    "    return ((np.pi**(dimensions/2))/gamma((dimensions/2)+1))*(radius**dimensions)"
   ]
  },
  {
   "cell_type": "markdown",
   "id": "0c27b2a2",
   "metadata": {},
   "source": [
    "\n",
    "<div style=\"page-break-after: always;\"></div>\n",
    "\n",
    "### Volume of HyperCube\n",
    "$$Vc = L^n$$\n"
   ]
  },
  {
   "cell_type": "code",
   "execution_count": 3,
   "id": "61cc98e4",
   "metadata": {},
   "outputs": [],
   "source": [
    "def Volume_of_HyperCube(dimensions:int,length:Union[int,float]) -> Union[int,float]:\n",
    "    \"\"\"Calculate the volume of hypercube\n",
    "    \n",
    "    Args:\n",
    "        dimensions (int): Number of dimensions\n",
    "        radius (int or float): Radius of the sphere\n",
    " \n",
    "    Returns:\n",
    "        int or float: The Volume of Hypersphere\n",
    "    \"\"\"\n",
    "    return length**dimensions"
   ]
  },
  {
   "cell_type": "markdown",
   "id": "9248a87b",
   "metadata": {},
   "source": [
    "Plotting the ratio of volumes ($V_s/V_c$) w.r.t. dimensions (n)"
   ]
  },
  {
   "cell_type": "code",
   "execution_count": 4,
   "id": "58f1e9c0",
   "metadata": {},
   "outputs": [],
   "source": [
    "def plot_ratio(radius:Union[int,float],dimensions:int) -> None:\n",
    "    \"\"\"Plot the ratio as a function of n\n",
    "    \n",
    "    Args:\n",
    "        radius (int or float): Radius of the sphere\n",
    "        dimensions (int): Number of dimensions\n",
    " \n",
    "    Returns:\n",
    "        None\n",
    "    \"\"\"\n",
    "    try:\n",
    "        dimensions_to_simulate = np.arange(0,dimensions,1)\n",
    "        plt.plot(dimensions_to_simulate,\n",
    "                 Volume_of_HyperSphere(dimensions_to_simulate,2)/Volume_of_HyperCube(dimensions_to_simulate,2*radius),\n",
    "                 marker='o')\n",
    "        plt.xlabel('Dimensions (n)') \n",
    "        plt.ylabel('$V_s / V_c$') \n",
    "        plt.show()\n",
    "    except:\n",
    "        display(Markdown('## Something went wrong!\\n### Please check the values entered.'))"
   ]
  },
  {
   "cell_type": "code",
   "execution_count": 5,
   "id": "b90a589d",
   "metadata": {
    "scrolled": false
   },
   "outputs": [
    {
     "data": {
      "image/png": "[encoded data removed]",
      "text/plain": [
       "<Figure size 640x480 with 1 Axes>"
      ]
     },
     "metadata": {},
     "output_type": "display_data"
    }
   ],
   "source": [
    "plot_ratio(1,30)"
   ]
  },
  {
   "cell_type": "markdown",
   "id": "e7e4d9a3",
   "metadata": {},
   "source": [
    "<br/>\n",
    "<br/>\n",
    "<br/>\n",
    "<br/>\n",
    "<br/>\n",
    "<hr style=\"border:2px solid gray\"/>\n",
    "<br/>\n",
    "<br/>\n",
    "<br/>\n",
    "<br/>\n",
    "<br/>"
   ]
  },
  {
   "cell_type": "markdown",
   "id": "158b3d1f",
   "metadata": {},
   "source": [
    "<div style=\"page-break-after: always;\"></div>\n",
    "\n",
    "\n",
    "## 3. Basic Integration\n",
    "\n",
    "Using Monte Carlo integration to find the volume of a right circular cone of height H = 2,\n",
    "whose base is a unit circle centered at (0,0)"
   ]
  },
  {
   "cell_type": "markdown",
   "id": "2b210478",
   "metadata": {},
   "source": [
    "$$I = \\int_{-1}^{1} \\int_{-1}^{1} g(x_1, x_2) dx_1 dx_2,$$\n",
    "\n",
    "where, $$g(x_1,x_2) = \\begin{cases} H(1 - \\sqrt{x_1^2 + x_2^2}), \\text{ if } x_1^2 + x_2^2 \\leq 1 \\\\ 0, \\text{ otherwise}.\\end{cases}$$\n",
    "\n",
    "Since the domain size is 4, we need to multiply $\\bar{g}$ by 4"
   ]
  },
  {
   "cell_type": "code",
   "execution_count": 6,
   "id": "6e4b24f5",
   "metadata": {},
   "outputs": [],
   "source": [
    "# Declaring a constant value of height.\n",
    "HEIGHT:Final[int] = 2\n",
    "TRUE_VOLUME = np.pi*HEIGHT/3"
   ]
  },
  {
   "cell_type": "code",
   "execution_count": 7,
   "id": "8cfc4bef",
   "metadata": {},
   "outputs": [],
   "source": [
    "def MC_method(number_of_points:int) -> float:\n",
    "    \n",
    "    try:\n",
    "        # Generating random number between -1 to 1.\n",
    "        x1 = np.random.uniform(-1,1,size=number_of_points)\n",
    "        x2 = np.random.uniform(-1,1,size=number_of_points)\n",
    "\n",
    "        # Defining the condition.\n",
    "        condition = x1**2 + x2**2 <= 1 \n",
    "\n",
    "        # Creating an array which will hold the values of g.\n",
    "        g = np.zeros(number_of_points)\n",
    "\n",
    "        # Calculating the height for the points which satisfy the condition.\n",
    "        for i,x in enumerate(condition):\n",
    "            g[i] = HEIGHT*(1-np.sqrt(x1[i]**2+x2[i]**2)) if x else 0\n",
    "        \n",
    "        # Calculating the mean of g and multiplying it by domain size.\n",
    "        return np.sum(g)*4/float(number_of_points)\n",
    "    except:\n",
    "        display(Markdown('## Something went wrong!'))"
   ]
  },
  {
   "cell_type": "markdown",
   "id": "2e9ffd13",
   "metadata": {},
   "source": [
    "### Calculating the volume of cone by using Monte Carlo method"
   ]
  },
  {
   "cell_type": "code",
   "execution_count": 8,
   "id": "0a9ed81d",
   "metadata": {},
   "outputs": [
    {
     "data": {
      "text/markdown": [
       "Volume using n = 1000 is <b>2.1177923096181495<b/>."
      ],
      "text/plain": [
       "<IPython.core.display.Markdown object>"
      ]
     },
     "metadata": {},
     "output_type": "display_data"
    },
    {
     "data": {
      "text/markdown": [
       "The difference between True Volume ( 2.0943951023931953 ) <br/>and the volume calculated by Monte Carlo method is <b>0.023397207224954197<b/>."
      ],
      "text/plain": [
       "<IPython.core.display.Markdown object>"
      ]
     },
     "metadata": {},
     "output_type": "display_data"
    }
   ],
   "source": [
    "MC_result = MC_method(1000)\n",
    "display(Markdown(f'Volume using n = 1000 is <b>{MC_result}<b/>.'))\n",
    "display(Markdown(f'The difference between True Volume ( {TRUE_VOLUME} ) <br/>and the volume calculated by Monte Carlo method is <b>{abs(TRUE_VOLUME - MC_result)}<b/>.'))"
   ]
  },
  {
   "cell_type": "markdown",
   "id": "079d6ab3",
   "metadata": {},
   "source": [
    "<div style=\"page-break-after: always;\"></div>\n",
    "\n",
    "### Observing effects of increasing the n in MC_method on the Volume."
   ]
  },
  {
   "cell_type": "code",
   "execution_count": 9,
   "id": "e1285dbd",
   "metadata": {},
   "outputs": [],
   "source": [
    "def plot(iterations:int = 100) -> None:\n",
    "    MC_results = np.zeros(iterations)\n",
    "    for i in range(1,iterations):\n",
    "        MC_results[i] = MC_method(i)\n",
    "    plt.plot(MC_results,label='Volume by Monte Carlo Method')\n",
    "    plt.axhline(TRUE_VOLUME,color='r',label='True Volume')\n",
    "    plt.ylabel('Volume')\n",
    "    plt.xlabel('Number of points')\n",
    "    plt.legend(bbox_to_anchor=(1.04,0.5), loc=\"center left\", borderaxespad=0)\n",
    "    plt.show()"
   ]
  },
  {
   "cell_type": "code",
   "execution_count": 10,
   "id": "1efa6cd0",
   "metadata": {
    "scrolled": false
   },
   "outputs": [
    {
     "data": {
      "image/png": "[encoded data removed]",
      "text/plain": [
       "<Figure size 640x480 with 1 Axes>"
      ]
     },
     "metadata": {},
     "output_type": "display_data"
    }
   ],
   "source": [
    "plot(500)"
   ]
  },
  {
   "cell_type": "markdown",
   "id": "c2324249",
   "metadata": {},
   "source": [
    "It can be seen from the above graph that the volume calculated by the Monte Carlo method gets closer to the true volume as the number of point increases. "
   ]
  },
  {
   "cell_type": "markdown",
   "id": "4c84076e",
   "metadata": {},
   "source": [
    "<br/>\n",
    "<br/>\n",
    "<br/>\n",
    "<br/>\n",
    "<br/>\n",
    "<hr style=\"border:2px solid gray\"/>\n"
   ]
  }
 ],
 "metadata": {
  "kernelspec": {
   "display_name": "Python 3 (ipykernel)",
   "language": "python",
   "name": "python3"
  },
  "language_info": {
   "codemirror_mode": {
    "name": "ipython",
    "version": 3
   },
   "file_extension": ".py",
   "mimetype": "text/x-python",
   "name": "python",
   "nbconvert_exporter": "python",
   "pygments_lexer": "ipython3",
   "version": "3.11.4"
  }
 },
 "nbformat": 4,
 "nbformat_minor": 5
}
