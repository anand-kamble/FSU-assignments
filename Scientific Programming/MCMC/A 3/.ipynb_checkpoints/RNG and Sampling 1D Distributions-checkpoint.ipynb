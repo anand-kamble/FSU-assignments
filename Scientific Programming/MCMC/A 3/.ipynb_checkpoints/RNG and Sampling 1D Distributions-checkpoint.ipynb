{
 "cells": [
  {
   "cell_type": "markdown",
   "id": "63c3e24e-3f43-4bf2-9850-c82bf08e5865",
   "metadata": {},
   "source": [
    "<h1>RNG and Sampling 1D Distributions</h1>\n",
    "<p>Anand Kamble</p>\n",
    "<a href=\"mailto:amk23j@fsu.edu\">amk23j@fsu.edu</a>\n",
    "<p>27th September 2023</p>\n",
    "<hr style=\"border:2px solid gray\"/><br/><br/>"
   ]
  },
  {
   "cell_type": "code",
   "execution_count": 1,
   "id": "ab7603fb",
   "metadata": {},
   "outputs": [],
   "source": [
    "# Importing the required packages.\n",
    "import numpy as np\n",
    "import typing \n",
    "import scipy\n",
    "import matplotlib.pyplot as plt\n",
    "from IPython.display import Markdown, display, Latex"
   ]
  },
  {
   "cell_type": "markdown",
   "id": "e22447d6-502e-4b73-9eec-cc8af0f5c893",
   "metadata": {},
   "source": [
    "<hr style=\"border:1px solid gray\"/><br/><br/>\n",
    "\n",
    "### 1. LCG Random Number Generator\n",
    "\n",
    "The RNG we will be using to sample uniform random numbers is,\n",
    "\n",
    "$$ n_{i+1} = (an_i) \\mod m $$\n",
    "\n",
    "Where $a$ is typically an odd integer and $m = 2^k$, where $ k \\approx 32\\ or\\ 64$"
   ]
  },
  {
   "cell_type": "code",
   "execution_count": 36,
   "id": "7fef7975",
   "metadata": {},
   "outputs": [],
   "source": [
    "# Defining the RNG function.\n",
    "def RNG(n:int,a:int,m:int,seed:float = 0.):\n",
    "    n_i = np.full((n),0.)\n",
    "    n_i[0] = seed\n",
    "    for i in range(1,len(n_i)):\n",
    "        n_i[i] = (a*n_i[i-1]) % m\n",
    "    return n_i"
   ]
  },
  {
   "cell_type": "markdown",
   "id": "c0caa374-53e8-4383-bbf5-8dd8f371d051",
   "metadata": {},
   "source": [
    "<hr style=\"border:1px solid gray\"/><p style=\"page-break-after:always;\"></p><br/><br/>\n",
    "\n",
    "#### A. Even values of $a$\n",
    "In this demonstration,\n",
    "We are using $ m = 2^k$, where $k = 3$.\n",
    "\n",
    "Generating 10 random numbers using $a = 2, 4$"
   ]
  },
  {
   "cell_type": "code",
   "execution_count": 3,
   "id": "1fb6a1ec",
   "metadata": {},
   "outputs": [
    {
     "data": {
      "text/latex": [
       "Random Values when $a = 2$ are $\\ 1.0 ,  $$\\ 2.0 ,  $$\\ 4.0 ,  $$\\ 0.0 ,  $$\\ 0.0 ,  $$\\ 0.0 ,  $$\\ 0.0 ,  $$\\ 0.0 ,  $$\\ 0.0 ,  $$\\ 0.0 ,  $"
      ],
      "text/plain": [
       "<IPython.core.display.Latex object>"
      ]
     },
     "metadata": {},
     "output_type": "display_data"
    }
   ],
   "source": [
    "k = 3 \n",
    "m = 2**k\n",
    "a = 2\n",
    "number_of_values = 10\n",
    "\n",
    "random_values = RNG(number_of_values,a,m,1.0)\n",
    "display(Latex(f\"Random Values when $a = {a}$ are \" + ''.join('$\\ ' +(str(x) + ' ,  $') for x in random_values)))"
   ]
  },
  {
   "cell_type": "code",
   "execution_count": 4,
   "id": "2c25acdb",
   "metadata": {},
   "outputs": [
    {
     "data": {
      "text/latex": [
       "Random Values when $a = 4$ are $\\ 1.0 ,  $$\\ 4.0 ,  $$\\ 0.0 ,  $$\\ 0.0 ,  $$\\ 0.0 ,  $$\\ 0.0 ,  $$\\ 0.0 ,  $$\\ 0.0 ,  $$\\ 0.0 ,  $$\\ 0.0 ,  $"
      ],
      "text/plain": [
       "<IPython.core.display.Latex object>"
      ]
     },
     "metadata": {},
     "output_type": "display_data"
    }
   ],
   "source": [
    "a = 4\n",
    "random_values =  RNG(number_of_values,a,m,1.0)\n",
    "display(Latex(f\"Random Values when $a = {a}$ are \" + ''.join('$\\ ' +(str(x) + ' ,  $') for x in random_values)))"
   ]
  },
  {
   "cell_type": "markdown",
   "id": "6f25b984-0c59-4062-bf07-02de78d746d5",
   "metadata": {},
   "source": [
    "It can be observed from the above that whenever the values of $a$ are even, the numbers generated increase upto a certain point and then become zero. "
   ]
  },
  {
   "cell_type": "markdown",
   "id": "35370db4-7de1-49a1-878f-fa7cc51721f9",
   "metadata": {},
   "source": [
    "<hr style=\"border:1px solid gray\"/><br/><br/>\n",
    "\n",
    "#### B. Odd values of $a$\n",
    "\n",
    "Keeping the other parameters constant, we will use odd values of $a$.\n",
    "\n",
    "Generating 10 random numbers using $a = 3, 5$."
   ]
  },
  {
   "cell_type": "code",
   "execution_count": 5,
   "id": "a4fcb70c",
   "metadata": {},
   "outputs": [
    {
     "data": {
      "text/latex": [
       "Random Values when $a = 3$ are $\\ 1.0 ,  $$\\ 3.0 ,  $$\\ 1.0 ,  $$\\ 3.0 ,  $$\\ 1.0 ,  $$\\ 3.0 ,  $$\\ 1.0 ,  $$\\ 3.0 ,  $$\\ 1.0 ,  $$\\ 3.0 ,  $"
      ],
      "text/plain": [
       "<IPython.core.display.Latex object>"
      ]
     },
     "metadata": {},
     "output_type": "display_data"
    }
   ],
   "source": [
    "a = 3\n",
    "random_values = RNG(number_of_values,a,m,1.0)\n",
    "display(Latex(f\"Random Values when $a = {a}$ are \" + ''.join('$\\ ' +(str(x) + ' ,  $') for x in random_values)))"
   ]
  },
  {
   "cell_type": "code",
   "execution_count": 6,
   "id": "9d49ec2c",
   "metadata": {},
   "outputs": [
    {
     "data": {
      "text/latex": [
       "Random Values when $a = 5$ are $\\ 1.0 ,  $$\\ 5.0 ,  $$\\ 1.0 ,  $$\\ 5.0 ,  $$\\ 1.0 ,  $$\\ 5.0 ,  $$\\ 1.0 ,  $$\\ 5.0 ,  $$\\ 1.0 ,  $$\\ 5.0 ,  $"
      ],
      "text/plain": [
       "<IPython.core.display.Latex object>"
      ]
     },
     "metadata": {},
     "output_type": "display_data"
    }
   ],
   "source": [
    "a = 5\n",
    "random_values = RNG(number_of_values,a,m,1.0)\n",
    "display(Latex(f\"Random Values when $a = {a}$ are \" + ''.join('$\\ ' +(str(x) + ' ,  $') for x in random_values)))"
   ]
  },
  {
   "cell_type": "markdown",
   "id": "79ee3d32-0147-42fa-becf-1d1ba6db79a1",
   "metadata": {},
   "source": [
    "\n",
    "<p style=\"page-break-after:always;\"></p>\n",
    "\n",
    "<hr style=\"border:1px solid gray\"/>\n",
    "\n",
    "To find the period of the generated values, we will use the following function, which has been created by Chat-GPT. "
   ]
  },
  {
   "cell_type": "code",
   "execution_count": 7,
   "id": "0ebc5d8f-ab93-444f-ba67-b51559d4ed70",
   "metadata": {},
   "outputs": [],
   "source": [
    "def find_period(arr):\n",
    "    n = len(arr)\n",
    "    for period in range(1, n // 2 + 1):\n",
    "        is_periodic = True\n",
    "        for i in range(period, n):\n",
    "            if arr[i] != arr[i - period]:\n",
    "                is_periodic = False\n",
    "                break\n",
    "        if is_periodic:\n",
    "            return period\n",
    "    return n"
   ]
  },
  {
   "cell_type": "markdown",
   "id": "44824ff3-b283-4cea-9818-33e7bf8a21cf",
   "metadata": {},
   "source": [
    "<small>The conversation can be found at https://chat.openai.com/share/fdf88bd9-8891-45c7-8dae-db72a4a9c58b</small>\n",
    "\n",
    "<hr style=\"border:1px solid gray\"/><br/><br/>\n",
    "\n",
    "#### C. Period when $a = 3$ and $ m = 2^4$, and $ m = 2^5 $\n"
   ]
  },
  {
   "cell_type": "code",
   "execution_count": 8,
   "id": "b0068629-16a4-4937-91d2-0553e6c1add4",
   "metadata": {},
   "outputs": [
    {
     "data": {
      "text/latex": [
       "Period of a LCG RNG with $a = 3$ and $m = 2^4$ is $4$"
      ],
      "text/plain": [
       "<IPython.core.display.Latex object>"
      ]
     },
     "metadata": {},
     "output_type": "display_data"
    }
   ],
   "source": [
    "a = 3\n",
    "k = 4\n",
    "m = 2**k\n",
    "\n",
    "period = find_period(RNG(100,a,m,1.0))\n",
    "\n",
    "display(Latex(f\"Period of a LCG RNG with $a = {a}$ and $m = 2^{k}$ is ${period}$\"))"
   ]
  },
  {
   "cell_type": "code",
   "execution_count": 9,
   "id": "e9689893-23bf-4d16-a794-07b5b1d93c62",
   "metadata": {},
   "outputs": [
    {
     "data": {
      "text/latex": [
       "Period of a LCG RNG with $a = 3$ and $m = 2^5$ is $8$"
      ],
      "text/plain": [
       "<IPython.core.display.Latex object>"
      ]
     },
     "metadata": {},
     "output_type": "display_data"
    }
   ],
   "source": [
    "k = 5\n",
    "m = 2**k\n",
    "period = find_period(RNG(100,a,m,1.0))\n",
    "\n",
    "display(Latex(f\"Period of a LCG RNG with $a = {a}$ and $m = 2^{k}$ is ${period}$\"))"
   ]
  },
  {
   "cell_type": "markdown",
   "id": "7d1ee21b-45ec-46c4-83fb-29a1c4557549",
   "metadata": {},
   "source": [
    "<hr style=\"border:1px solid gray\"/><p style=\"page-break-after:always;\"></p><br/><br/>\n",
    "\n",
    "#### D. Numerical Experiments for the given claim.\n",
    "\n",
    "Claim : The period of the LCG RNG with $ m = 2^k $ and odd $a$ is $2 ^ { k - 2 }$.\n",
    "\n",
    "Let us calculate periods for the odd value of $a$ and $ k = \\{2,3,4,5,6\\}$ \n",
    "\n",
    "We will be starting with $ k = 2 $ since having $ k < 2$ will result in period which is $2 ^ {-k}$"
   ]
  },
  {
   "cell_type": "code",
   "execution_count": 10,
   "id": "e1e50071-019d-47c0-b251-462e2534075b",
   "metadata": {},
   "outputs": [
    {
     "data": {
      "text/latex": [
       "For $ m = 2^{2} $ the period is 2 which is not equal to $2 ^ {  0 }$"
      ],
      "text/plain": [
       "<IPython.core.display.Latex object>"
      ]
     },
     "metadata": {},
     "output_type": "display_data"
    },
    {
     "data": {
      "text/latex": [
       "For $ m = 2^{3} $ the period is 2 which is equal to $2 ^ {  1 }$"
      ],
      "text/plain": [
       "<IPython.core.display.Latex object>"
      ]
     },
     "metadata": {},
     "output_type": "display_data"
    },
    {
     "data": {
      "text/latex": [
       "For $ m = 2^{4} $ the period is 4 which is equal to $2 ^ {  2 }$"
      ],
      "text/plain": [
       "<IPython.core.display.Latex object>"
      ]
     },
     "metadata": {},
     "output_type": "display_data"
    },
    {
     "data": {
      "text/latex": [
       "For $ m = 2^{5} $ the period is 8 which is equal to $2 ^ {  3 }$"
      ],
      "text/plain": [
       "<IPython.core.display.Latex object>"
      ]
     },
     "metadata": {},
     "output_type": "display_data"
    },
    {
     "data": {
      "text/latex": [
       "For $ m = 2^{6} $ the period is 16 which is equal to $2 ^ {  4 }$"
      ],
      "text/plain": [
       "<IPython.core.display.Latex object>"
      ]
     },
     "metadata": {},
     "output_type": "display_data"
    }
   ],
   "source": [
    "a = 3\n",
    "for k in range(2,7):\n",
    "    m = 2**k\n",
    "    period = (find_period(RNG(100,a,m,1.0)))\n",
    "    display(Latex(f\"For $ m = 2^{{{k}}} $ the period is {period} which is {('equal' if (period == 2**(k-2)) else 'not equal')} to $2 ^ {{  {k - 2} }}$\"))"
   ]
  },
  {
   "cell_type": "markdown",
   "id": "c937e14c-1d7c-49df-8f7b-d6c13f95cf78",
   "metadata": {},
   "source": [
    "Looking at the results above, we can see that the given claim is valid when $ k  \\geq 2$\n",
    "<hr style=\"border:1px solid gray\"/><br/><br/>\n",
    "\n",
    "#### E. Period of RANDU RNG\n",
    "\n",
    "Using the claim we can calculate the period for RANDU RNG.\n",
    "\n",
    "Which will be,\n",
    "\n",
    "$ Period = 2 ^ {31-2}$, where $ k = 31$\n",
    "\n",
    "<strong>The period of RANDU RNG is $536870912$ which is less than 1 billion.</strong>\n"
   ]
  },
  {
   "cell_type": "markdown",
   "id": "6da790de-7074-4ce4-801e-930897eb9fd5",
   "metadata": {
    "jp-MarkdownHeadingCollapsed": true
   },
   "source": [
    "<p style=\"page-break-after:always;\"></p><br/>\n",
    "<br/>\n",
    "<br/>\n",
    "<br/>\n",
    "<br/>\n",
    "<hr style=\"border:2px solid gray\"/>\n",
    "<br/><br/><br/><br/><br/>\n",
    "\n",
    "### Sampling 1D distribution.\n",
    "\n",
    "The distribution we are using is,\n",
    "$$ f(x) = 6x(1-x),\\ where \\ 0 \\leq x \\leq 1 $$"
   ]
  },
  {
   "cell_type": "markdown",
   "id": "1bc95419-6a01-4a95-9d42-aa096aaea50f",
   "metadata": {},
   "source": [
    "### A. Accept-reject method"
   ]
  },
  {
   "cell_type": "code",
   "execution_count": 19,
   "id": "54211791",
   "metadata": {},
   "outputs": [],
   "source": [
    "# Defining the f(x) function.\n",
    "def f(x):\n",
    "    return 6*x*(1-x)"
   ]
  },
  {
   "cell_type": "markdown",
   "id": "a936f80f-e4e3-4bf1-afdb-cf6543eaaefa",
   "metadata": {},
   "source": [
    "We know that the area under the given curve is 1, and the domain we will be using for the accept-reject method will have an area of 1.5.\n",
    "\n",
    "To get approx $10^5$ samples from the given distribution, we would have to throw $ 1.5 * 10^5 $ darts."
   ]
  },
  {
   "cell_type": "code",
   "execution_count": 28,
   "id": "8efa8e2e",
   "metadata": {},
   "outputs": [
    {
     "data": {
      "text/plain": [
       "<matplotlib.collections.PathCollection at 0x1c46d51da90>"
      ]
     },
     "execution_count": 28,
     "metadata": {},
     "output_type": "execute_result"
    },
    {
     "data": {
      "image/png": "[encoded data removed]",
      "text/plain": [
       "<Figure size 640x480 with 1 Axes>"
      ]
     },
     "metadata": {},
     "output_type": "display_data"
    }
   ],
   "source": [
    "# Accept reject method.\n",
    "fmax = 1.5\n",
    "num = int(10**5 * 1.5)\n",
    "x = np.random.uniform(0.0,1.0,num) #np.array([f(x) for x in np.random.uniform(0.0,1.0,1000)])\n",
    "y = np.random.uniform(0.0,1.5,num)\n",
    "\n",
    "condition = (y <= f(x))\n",
    "\n",
    "#Applying the distribution condition.\n",
    "samples = x[condition]\n",
    "\n",
    "# Visualizing the darts.\n",
    "plt.scatter(x,y)\n",
    "plt.scatter(x[condition],y[condition])"
   ]
  },
  {
   "cell_type": "code",
   "execution_count": 29,
   "id": "e52f1507-6675-40b2-820b-3fdb69102a7c",
   "metadata": {},
   "outputs": [
    {
     "data": {
      "text/plain": [
       "(array([0.12249906, 0.33862956, 0.54120485, 0.70788389, 0.87732419,\n",
       "        1.02090914, 1.17478603, 1.26013374, 1.35150598, 1.40246358,\n",
       "        1.46697641, 1.4868072 , 1.52144832, 1.46019879, 1.45718652,\n",
       "        1.4137596 , 1.37033268, 1.25335612, 1.17051865, 1.01789687,\n",
       "        0.8785793 , 0.74905161, 0.54873553, 0.33913161, 0.12751951]),\n",
       " array([5.58901818e-04, 4.04649809e-02, 8.03710599e-02, 1.20277139e-01,\n",
       "        1.60183218e-01, 2.00089297e-01, 2.39995376e-01, 2.79901455e-01,\n",
       "        3.19807534e-01, 3.59713613e-01, 3.99619692e-01, 4.39525771e-01,\n",
       "        4.79431850e-01, 5.19337930e-01, 5.59244009e-01, 5.99150088e-01,\n",
       "        6.39056167e-01, 6.78962246e-01, 7.18868325e-01, 7.58774404e-01,\n",
       "        7.98680483e-01, 8.38586562e-01, 8.78492641e-01, 9.18398720e-01,\n",
       "        9.58304799e-01, 9.98210878e-01]),\n",
       " <BarContainer object of 25 artists>)"
      ]
     },
     "execution_count": 29,
     "metadata": {},
     "output_type": "execute_result"
    },
    {
     "data": {
      "image/png": "[encoded data removed]",
      "text/plain": [
       "<Figure size 640x480 with 1 Axes>"
      ]
     },
     "metadata": {},
     "output_type": "display_data"
    }
   ],
   "source": [
    "#Plotting the histogram.\n",
    "plt.hist(samples, 25, density=True)"
   ]
  },
  {
   "cell_type": "markdown",
   "id": "b81645c0-dc8c-4a8f-8673-cc8ec63c2f55",
   "metadata": {},
   "source": [
    "<hr style=\"border:1px solid gray\"/><p style=\"page-break-after:always;\"></p><br/><br/><br/>\n",
    "\n",
    "### B.  Transformation method\n",
    "\n",
    "We will be using the inverse linear interpolation.\n",
    "\n",
    "$$ f(x) = 6x(1-x);  0 \\leq x \\leq 1 $$\n",
    "\n",
    "The CFD will be,\n",
    "$$ F(x) = \\int_{0}^{1} 6x(1-x) dx = \\int_{0}^{1} 6x - 6x^2 dx$$\n",
    "\n",
    "<!-- $$ F(x) = \\int_{0}^{1} 6x - 6x^2 dx$$ -->\n",
    "\n",
    "$$ F(x) = \\int_{0}^{1} 6x dx - \\int_{0}^{1} 6x^2 dx = 6 {x^2 \\over 2} - 6 {x^3 \\over 3} dx$$\n",
    "\n",
    "<!-- $$ F(x) = 6\\int_{0}^{1} x dx - 6\\int_{0}^{1} x^2 dx$$ -->\n",
    "\n",
    "<!-- $$ F(x) = 6 {x^2 \\over 2} - 6 {x^3 \\over 3} dx$$ -->\n",
    "\n",
    "$$ F(x) = 3x^2 - 2x^3 $$"
   ]
  },
  {
   "cell_type": "code",
   "execution_count": 30,
   "id": "db443cdc-5fc3-4430-baba-66dbc6d1e474",
   "metadata": {},
   "outputs": [],
   "source": [
    "def F(x):\n",
    "    return  3*(x**2) - 2*(x**3)"
   ]
  },
  {
   "cell_type": "code",
   "execution_count": 32,
   "id": "b4f05b7b-9f7e-4dd3-808d-fc8b673a5621",
   "metadata": {},
   "outputs": [],
   "source": [
    "number_of_points = 10**5\n",
    "x = np.linspace(0,1,number_of_points)\n",
    "\n",
    "Fi = F(x)"
   ]
  },
  {
   "cell_type": "code",
   "execution_count": 33,
   "id": "f97c4d55-ac25-4175-8083-4f5bbfd3d96c",
   "metadata": {},
   "outputs": [],
   "source": [
    "Finv = scipy.interpolate.interp1d(Fi, x, 'cubic')"
   ]
  },
  {
   "cell_type": "code",
   "execution_count": 34,
   "id": "f21ca6a4-964b-4cbe-b5db-716bcb6a5a3a",
   "metadata": {},
   "outputs": [
    {
     "data": {
      "image/png": "[encoded data removed]",
      "text/plain": [
       "<Figure size 640x480 with 1 Axes>"
      ]
     },
     "metadata": {},
     "output_type": "display_data"
    }
   ],
   "source": [
    "\n",
    "u = np.random.uniform(0,1, 10000)\n",
    "x = Finv(u)\n",
    "\n",
    "xi = np.linspace(0,1); fi = f(xi)\n",
    "\n",
    "plt.plot(xi, fi)\n",
    "_ = plt.hist(x, 25, density=True)"
   ]
  }
 ],
 "metadata": {
  "kernelspec": {
   "display_name": "Python 3 (ipykernel)",
   "language": "python",
   "name": "python3"
  },
  "language_info": {
   "codemirror_mode": {
    "name": "ipython",
    "version": 3
   },
   "file_extension": ".py",
   "mimetype": "text/x-python",
   "name": "python",
   "nbconvert_exporter": "python",
   "pygments_lexer": "ipython3",
   "version": "3.11.4"
  }
 },
 "nbformat": 4,
 "nbformat_minor": 5
}
