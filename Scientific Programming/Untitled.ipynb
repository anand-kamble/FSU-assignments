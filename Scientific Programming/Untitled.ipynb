{
 "cells": [
  {
   "cell_type": "code",
   "execution_count": 19,
   "id": "12c7d995-9066-49cf-8b65-5ca0a8cec5f0",
   "metadata": {},
   "outputs": [
    {
     "name": "stdout",
     "output_type": "stream",
     "text": [
      "A:\n",
      "array([[ 2., -1.,  0.,  0.,  0.,  0.,  0.,  0.,  0.,  0.],\n",
      "       [-1.,  2., -1.,  0.,  0.,  0.,  0.,  0.,  0.,  0.],\n",
      "       [ 0., -1.,  2., -1.,  0.,  0.,  0.,  0.,  0.,  0.],\n",
      "       [ 0.,  0., -1.,  2., -1.,  0.,  0.,  0.,  0.,  0.],\n",
      "       [ 0.,  0.,  0., -1.,  2., -1.,  0.,  0.,  0.,  0.],\n",
      "       [ 0.,  0.,  0.,  0., -1.,  2., -1.,  0.,  0.,  0.],\n",
      "       [ 0.,  0.,  0.,  0.,  0., -1.,  2., -1.,  0.,  0.],\n",
      "       [ 0.,  0.,  0.,  0.,  0.,  0., -1.,  2., -1.,  0.],\n",
      "       [ 0.,  0.,  0.,  0.,  0.,  0.,  0., -1.,  2., -1.],\n",
      "       [ 0.,  0.,  0.,  0.,  0.,  0.,  0.,  0., -1.,  2.]])\n",
      "b:\n",
      "array([1., 0., 0., 0., 0., 0., 0., 0., 0., 1.])\n",
      "x:\n",
      "array([0.99998846, 0.99997785, 0.99996904, 0.99996274, 0.99995945,\n",
      "       0.99995945, 0.99996274, 0.99996904, 0.99997785, 0.99998846])\n"
     ]
    }
   ],
   "source": [
    "from pprint import pprint\n",
    "from numpy import array, zeros, diag, diagflat, dot\n",
    "\n",
    "def jacobi(A,b,N=25,x=None):\n",
    "    \"\"\" Solves the equation Ax=b via the Jacobi iterative method.\"\"\"\n",
    "    # Create an initial guess if needed                                                                                                                                                            \n",
    "    if x is None:\n",
    "        x = zeros(len(A[0]))\n",
    "\n",
    "    # Create a vector of the diagonal elements of A                                                                                                                                                \n",
    "    # and subtract them from A                                                                                                                                                                     \n",
    "    D = diag(A)\n",
    "    R = A - diagflat(D)\n",
    "\n",
    "    # Iterate for N times                                                                                                                                                                          \n",
    "    for i in range(N):\n",
    "        x = (b - dot(R,x)) / D\n",
    "    return x\n",
    "\n",
    "n = 10\n",
    "A = zeros((n,n))\n",
    "b = zeros(n)\n",
    "guess = zeros(n)\n",
    "\n",
    "for i in range(n):\n",
    "    A[i][i] = 2.0\n",
    "    if i < (n-1):\n",
    "        A[i][i + 1] = -1.0\n",
    "        A[i + 1][i] = -1.0\n",
    "\n",
    "b[0] = 1\n",
    "b[n-1] = 1\n",
    "\n",
    "sol = jacobi(A,b,N=250,x=guess)\n",
    "\n",
    "print (\"A:\")\n",
    "pprint(A)\n",
    "\n",
    "print (\"b:\")\n",
    "pprint(b)\n",
    "\n",
    "print (\"x:\")\n",
    "pprint(sol)"
   ]
  },
  {
   "cell_type": "code",
   "execution_count": 20,
   "id": "5f1c878f-c779-408d-9a56-52eea28cad84",
   "metadata": {},
   "outputs": [],
   "source": [
    "def seidel(a, x ,b):\n",
    "    #Finding length of a(3)       \n",
    "    n = len(a)                   \n",
    "    # for loop for 3 times as to calculate x, y , z\n",
    "    for j in range(0, n):        \n",
    "        # temp variable d to store b[j]\n",
    "        d = b[j]                  \n",
    "          \n",
    "        # to calculate respective xi, yi, zi\n",
    "        for i in range(0, n):     \n",
    "            if(j != i):\n",
    "                d-=a[j][i] * x[i]\n",
    "        # updating the value of our solution        \n",
    "        x[j] = d / a[j][j]\n",
    "    # returning our updated solution           \n",
    "    return x    \n",
    "   "
   ]
  },
  {
   "cell_type": "code",
   "execution_count": 21,
   "id": "67c427f4-c6d7-4299-b142-107881d02c23",
   "metadata": {},
   "outputs": [
    {
     "data": {
      "text/plain": [
       "array([0.5       , 0.25      , 0.125     , 0.0625    , 0.03125   ,\n",
       "       0.015625  , 0.0078125 , 0.00390625, 0.00195312, 0.50097656])"
      ]
     },
     "execution_count": 21,
     "metadata": {},
     "output_type": "execute_result"
    }
   ],
   "source": [
    "seidel(A,guess,b)"
   ]
  },
  {
   "cell_type": "code",
   "execution_count": 22,
   "id": "e7002650-c528-4fe3-9ae3-a69bbf4f7e46",
   "metadata": {},
   "outputs": [
    {
     "name": "stdout",
     "output_type": "stream",
     "text": [
      "[0.99343526 0.98791265 0.98378779 0.98127714 0.98045187 0.9812437\n",
      " 0.98346143 0.98681585 0.9909505  0.99547525]\n"
     ]
    }
   ],
   "source": [
    "x = 0\n",
    "for i in range(50):\n",
    "    x = seidel(A,guess,b)\n",
    "print(x)"
   ]
  }
 ],
 "metadata": {
  "kernelspec": {
   "display_name": "Python 3 (ipykernel)",
   "language": "python",
   "name": "python3"
  },
  "language_info": {
   "codemirror_mode": {
    "name": "ipython",
    "version": 3
   },
   "file_extension": ".py",
   "mimetype": "text/x-python",
   "name": "python",
   "nbconvert_exporter": "python",
   "pygments_lexer": "ipython3",
   "version": "3.11.4"
  }
 },
 "nbformat": 4,
 "nbformat_minor": 5
}
